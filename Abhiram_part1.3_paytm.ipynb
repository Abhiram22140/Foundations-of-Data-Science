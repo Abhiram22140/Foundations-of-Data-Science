{
 "cells": [
  {
   "cell_type": "code",
   "execution_count": 24,
   "id": "e93ac836-cf81-4d99-b210-8d8ddf4c09b0",
   "metadata": {},
   "outputs": [
    {
     "name": "stdout",
     "output_type": "stream",
     "text": [
      "Dataset Head:\n",
      "   Customer_ID     Website                        review  score  Label\n",
      "0            0     Twitter                            Op      5      1\n",
      "1            1   Instagram                          Good      5      1\n",
      "2            2     Youtube  My paytm wallet app is open       4      1\n",
      "3            3  Play Store                         Super      5      1\n",
      "4            4     Twitter                      The best      5      1\n",
      "\n",
      "Missing Values:\n",
      "Customer_ID    0\n",
      "Website        0\n",
      "review         0\n",
      "score          0\n",
      "Label          0\n",
      "dtype: int64\n"
     ]
    },
    {
     "data": {
      "application/vnd.plotly.v1+json": {
       "config": {
        "plotlyServerURL": "https://plot.ly"
       },
       "data": [
        {
         "customdata": [
          [
           "Op"
          ],
          [
           "Good"
          ],
          [
           "My paytm wallet app is open "
          ],
          [
           "Super"
          ],
          [
           "The best"
          ],
          [
           "I referred a friend but no cash back...."
          ],
          [
           "osm i love you paytm"
          ],
          [
           "One of the worst payment app, they block/ freeze your wallet money. I did multiple times kyc still they hold my paytm wallet amount. Their customer care executives have no idea about the issue. They just know one thing kindly update ur app or update kyc details. After completing the kyc still the issue exists. It is unacceptable from a company like paytm."
          ],
          [
           "Awesome "
          ],
          [
           "very easy to use"
          ],
          [
           "It's very good"
          ],
          [
           "Nice"
          ],
          [
           "Great"
          ],
          [
           "Most imstal"
          ],
          [
           "Superb"
          ],
          [
           "nice"
          ],
          [
           "It is the very good and features is very good and online ranking is very best and procedure is very6 easy of online payment"
          ],
          [
           "Good app fir cashback"
          ],
          [
           "Nice app for payment "
          ],
          [
           "Useless app don't download this app"
          ],
          [
           "Add BBMP PROPERTY TAX OPTION and Bangalore Traffic Fines ...."
          ],
          [
           "happy"
          ],
          [
           "Good"
          ],
          [
           "All cashback looted from customer in terms of IPO listing"
          ],
          [
           "I am very upset to this app It take very much time to make a single recharge ."
          ],
          [
           "Very nice good all app"
          ],
          [
           "Good"
          ],
          [
           "Too many marketing notifications and no option to turn them of Edit: Also thanks to your stupid worthless IPO, my money is gone."
          ],
          [
           "Good"
          ],
          [
           "Amazing"
          ],
          [
           "Nice"
          ],
          [
           "Oombithanam"
          ],
          [
           "my money about the wrongly sent"
          ],
          [
           "good service"
          ],
          [
           "Why there is no email id for customer support I am using paytm for last 8 years. Nowadays become very pathetic"
          ],
          [
           "Great"
          ],
          [
           "paytm has looses there credit, cant able to connect customer care,as my kyc had done then after i cant transit, i had deactive all transaction with paytm & what about money in my paytm wallet...Gone forget it now , so you guys beware...."
          ],
          [
           "Hi paytm team I'm not able to transfer the amount from dhani app to paytm wallet can u people solve my problem with the wallet and .do the needful"
          ],
          [
           "Worst app i have ever used is Paytm"
          ],
          [
           "Very good"
          ],
          [
           "Very good"
          ],
          [
           "Good"
          ],
          [
           "Excellent"
          ],
          [
           "good"
          ],
          [
           "awesome"
          ],
          [
           "Till date i have received 3000 cashback. Better than Google pay."
          ],
          [
           "good"
          ],
          [
           "nice"
          ],
          [
           "awesome App"
          ],
          [
           "Very useful and easy to operate"
          ],
          [
           "Awesome"
          ],
          [
           "vry good"
          ],
          [
           "Very good"
          ],
          [
           "Very nice"
          ],
          [
           "Super"
          ],
          [
           "good"
          ],
          [
           "amazing"
          ],
          [
           "nice"
          ],
          [
           "good"
          ],
          [
           "Good"
          ],
          [
           "Hangs a lot."
          ],
          [
           "Good"
          ],
          [
           "good"
          ],
          [
           "excellent"
          ],
          [
           "Nice"
          ],
          [
           "its really helpfulll app"
          ],
          [
           "better"
          ],
          [
           "Better"
          ],
          [
           "Best app."
          ],
          [
           "Good"
          ],
          [
           "Fraud company invester big loss in ipo"
          ],
          [
           "Worst IPO in my life.. never trust paytm"
          ],
          [
           "Superb app... "
          ],
          [
           "Refference done , but no reward Excellent work"
          ],
          [
           "Very nice"
          ],
          [
           "Lost money in paytm  ipo... Overvalued shares"
          ],
          [
           "Excellent app"
          ],
          [
           "Nice app"
          ],
          [
           "Nice service"
          ],
          [
           "Normal"
          ],
          [
           "Good"
          ],
          [
           "ok"
          ],
          [
           "Been using this for over a year but haven't received any cashback and the vouchers are literal trash. It's good for only one thing paying money"
          ],
          [
           "Jkaasssss"
          ],
          [
           "Very Nice"
          ],
          [
           "No I have raised several tickets request, they aren't bothering to help me"
          ],
          [
           "Unfortunately paytm has stopped msg"
          ],
          [
           "Fabulous experience"
          ],
          [
           "I was applying to paytm credit card and when I pushed the button it's showing me please update your paytm app, but my app is already updated, I couldn't apply credit card, I don't know what's is the reason."
          ],
          [
           "Exilent Good"
          ],
          [
           "plan information was not right"
          ],
          [
           "Good"
          ],
          [
           "M very happy using this app... This app is very easy to use"
          ],
          [
           "Nice app"
          ],
          [
           "Plz don't download this app trust me"
          ],
          [
           "Very bad customer care service. Trying to update mobile number in application from last 3 days no support from paytm till now even send fake links where option for update isn't available. It's been a month and you guys are pathetic today your chat support section told me to login via new number and right now I'm unable to login my account. No customer care service available on call only IVR working and sending fake links. There isn't any option of talking to a person working for paytm."
          ],
          [
           "Cashback issue"
          ],
          [
           "Nice"
          ],
          [
           "Best recharge app"
          ],
          [
           "Good"
          ],
          [
           "best"
          ],
          [
           "super service"
          ],
          [
           "v good"
          ],
          [
           "Sehaj"
          ],
          [
           "No working"
          ],
          [
           "good"
          ],
          [
           "Fake company useless sound box"
          ],
          [
           "nice"
          ],
          [
           "hassel free payments"
          ],
          [
           "Super"
          ],
          [
           "Give me some money"
          ],
          [
           "Good"
          ],
          [
           "Your app very very nice app very very thank you this app"
          ],
          [
           "Shivaji bhai haky bhai all"
          ],
          [
           "Nice"
          ],
          [
           "My amount is stuck while sending paytm wallet to bank is not credit last 3 days..still there is no action taken by paytm bank department.so much dissapointed. Avoid this paytm app use another platform is much better option."
          ],
          [
           "very good aapp"
          ],
          [
           "Worst app"
          ],
          [
           "Good"
          ],
          [
           "good"
          ],
          [
           "im k"
          ],
          [
           "paytm IS A FRAUD COMPANY THEY MENUPLATE YOU BY THIER HIDDEN CHARGES AND CONDITIONS"
          ],
          [
           "Ok"
          ],
          [
           "Very good service"
          ],
          [
           "Worst company never thought IPO 25% crash hoga"
          ],
          [
           "Very wast service i am invite not receive cash back"
          ],
          [
           "FOR GET PASWORD"
          ],
          [
           "Nice"
          ],
          [
           "Very useful app"
          ],
          [
           "Jai shree ram"
          ],
          [
           "Too good"
          ],
          [
           "Very good app"
          ],
          [
           "Best apps"
          ],
          [
           "nic"
          ],
          [
           "Thank"
          ],
          [
           "Very nice"
          ],
          [
           "Phonpe is simply a data stealing scam. And when it comes to customer support, it's a total trash. They just have bots in the support chat."
          ],
          [
           "not cashback available"
          ],
          [
           "Good"
          ],
          [
           "I wish you to u provide cash back"
          ],
          [
           "Nice app"
          ],
          [
           "Its good. But i am not able to use the paylater option. Its showing currently not available i am a user since yrs."
          ],
          [
           "Good"
          ],
          [
           "good service"
          ],
          [
           "Nic app"
          ],
          [
           "Exilent"
          ],
          [
           "I love you paytm"
          ],
          [
           "nice"
          ],
          [
           "Recharge quick"
          ],
          [
           "Awesome experience "
          ],
          [
           "wow"
          ],
          [
           "Not receiving otp for payment and wallet links"
          ],
          [
           "Awesome"
          ],
          [
           "Good"
          ],
          [
           "Awesome "
          ],
          [
           "Nice"
          ],
          [
           "Excellent ! Easy-to-use !!"
          ],
          [
           "Worst app i dont like this app paytm block my account without any reason i have mobile phone shop in my village and also i have doing intraday trading so i will get daily small amount so the app is detect that user is suspicious and my all bussiness running on this paytm now its useless customer service is not replying not also in mail then what can i do now"
          ],
          [
           "This aap is very bad please don't install online weast off time because don't complete your kyc i have faced Error problem this aap i give this aap 00000 ... Star just weast off time ðŸ˜ ðŸ˜ ðŸ˜ ðŸ˜ ðŸ˜ ðŸ˜ ðŸ˜ ðŸ˜ ðŸ˜ ðŸ˜ ðŸ˜ ðŸ˜ ðŸ¤¬ðŸ¤¬ðŸ¤¬ðŸ¤¬and don't spoort help centre"
          ],
          [
           "Very cool app.. it's future of Indian upi payment..easy to use.. Just download it"
          ],
          [
           "Greedy people ...."
          ],
          [
           "Bahut hi sundar"
          ],
          [
           "One of the favourite and best tap up app"
          ],
          [
           "Help line no working"
          ],
          [
           "No words to describe..Quality service"
          ],
          [
           "I have a big loss on ipo now i hate paytm"
          ],
          [
           "Money deduct from my wallet but not recived..... 1 week ago.. Jitna pesa lia tha utne p to list krte ******"
          ],
          [
           "Very good"
          ],
          [
           "Bad experience because your customer are busy more time"
          ],
          [
           "Good"
          ],
          [
           "Too less time taking good one."
          ],
          [
           "good"
          ],
          [
           "Nice"
          ],
          [
           "very good"
          ],
          [
           "Super"
          ],
          [
           "Good work"
          ],
          [
           "Very very bad after latest updation"
          ],
          [
           "NICE APP"
          ],
          [
           "cash back plz cash"
          ],
          [
           "Good"
          ],
          [
           "Useful"
          ],
          [
           "Best app for cashbach"
          ],
          [
           "Super"
          ],
          [
           "Best"
          ],
          [
           "Goof"
          ],
          [
           "Op"
          ],
          [
           "well opportunity"
          ],
          [
           "It is not working ."
          ],
          [
           "Work properly ...."
          ],
          [
           "gd"
          ],
          [
           "Sahi h."
          ],
          [
           "Good nice"
          ],
          [
           "Very very nice"
          ],
          [
           "Nce"
          ],
          [
           "very well app"
          ],
          [
           "Good"
          ],
          [
           "Super paytm"
          ],
          [
           "good"
          ],
          [
           "hllo"
          ],
          [
           "paytm"
          ],
          [
           "I didn't get referal amount even after my friend's first payment. Bad service"
          ],
          [
           "Usage is such a hassle. Why do I need to register to even pay simple bills? You require so many permissions like access to photos, videos, phone calls, etc with no regards to privacy."
          ],
          [
           "Not using paytm ever. So over valued IPO launched and customer like us who trusted paytm and invested our money had to pay price and lost most of our money."
          ],
          [
           "D2"
          ],
          [
           "Better"
          ],
          [
           "good"
          ],
          [
           "After watching the founder on CNBC TV with his arrogance after the IPO day disaster, I'm done being associated with this app."
          ],
          [
           "Good "
          ],
          [
           "Nice app"
          ],
          [
           "Ok"
          ],
          [
           "Good"
          ],
          [
           "good"
          ],
          [
           "nice"
          ],
          [
           "Wonderful"
          ],
          [
           "Best"
          ],
          [
           "very good app for insurance payment and very easily buying and payment of premium of insurance policy"
          ],
          [
           "good app"
          ],
          [
           "paytm perfect online transfer payment"
          ],
          [
           "Worst update Not able to add money to paytm account using debit card. The option is not there."
          ],
          [
           "Nice app"
          ],
          [
           "App does not have good UI and not easy to navigate."
          ],
          [
           "Okk"
          ],
          [
           "Good"
          ],
          [
           "B ehv"
          ],
          [
           "Chor company neither app nor share worked out"
          ],
          [
           "Easy"
          ],
          [
           "Good online payment service"
          ],
          [
           "very good use"
          ],
          [
           "My transaction on pending. What a pathetic app i have. Guys don't use this for banking transactions. Customer service are not available on"
          ],
          [
           "Worst app neither they help just take our money away"
          ],
          [
           "this app is very friendly"
          ],
          [
           "Nice"
          ],
          [
           "Good"
          ],
          [
           "paytm is a very good you all of you download it and link the account you are better than gpay"
          ],
          [
           "Pathetic"
          ],
          [
           "The Fastest one"
          ],
          [
           "very nice"
          ],
          [
           "good but cut the paytm point thing instead give minimum cashback if possible. That's more catchy"
          ],
          [
           "Nice"
          ],
          [
           "Good "
          ],
          [
           "great"
          ],
          [
           "Good"
          ],
          [
           "nizzz"
          ],
          [
           "Good"
          ],
          [
           "I'm giving 0star for paytm It's not best listing price according to the name of paytm .... Bed Experience"
          ],
          [
           "Good Option in paytm.Nice app"
          ],
          [
           "very good App security and safety"
          ],
          [
           "NICE EXPERIENCE WITH VERY SMOOTH AND EASY FOR TRANSFER"
          ],
          [
           "Good working"
          ],
          [
           "Excellent"
          ],
          [
           "Send Mridula for a night take 2150 extra"
          ],
          [
           "Bad experience"
          ],
          [
           "goog"
          ],
          [
           "Nice app"
          ],
          [
           "nic"
          ],
          [
           "Good"
          ],
          [
           "500 ka mall 2100 me bechta hai."
          ],
          [
           "Backwas. Looted our money. Uninstalljbg this app"
          ],
          [
           "I am giving one because it has google play store redeem code opition I get so loss fill my loss"
          ],
          [
           "More issues paytm not receive"
          ],
          [
           "My money is not settled in Bank"
          ],
          [
           "For scamming retail investors and making big investors rich"
          ],
          [
           "Good"
          ],
          [
           "Oowsm "
          ],
          [
           "Superb"
          ],
          [
           "Nic"
          ],
          [
           "Bc"
          ],
          [
           "AwesomeAwesome experiance"
          ],
          [
           "From last one week I'm trying to creat current account for my business but no one is responding"
          ],
          [
           "wonderful"
          ],
          [
           "excellent service"
          ],
          [
           "paytm IPO was a scam"
          ],
          [
           "Not give the coupon"
          ],
          [
           "Hmmmm exlent work"
          ],
          [
           "nic"
          ],
          [
           "You theft my 5000 in 1day Will never use it for any thing."
          ],
          [
           "Good"
          ],
          [
           " breh"
          ],
          [
           "Fraudulent IPO launched by paytm.. 30% loss down on first day..."
          ],
          [
           "super "
          ],
          [
           "Good"
          ],
          [
           "Enjoy"
          ],
          [
           "Pathetic service from paytm, provided cuatomer care numbers are not working properly, even not getting Connected with customer support staff. Every time IVR saying they will send a message and raise query there, is it a customer care, need proper customer care email id and contact number"
          ],
          [
           "This app so good app."
          ],
          [
           "Bhai Sara Cashback wapas leliya mera IPO mai invest karwa ke "
          ],
          [
           "Simply loved it"
          ],
          [
           "Some time very good some time problems"
          ],
          [
           "Worst ipo......."
          ],
          [
           "Not bad"
          ],
          [
           "Very good app"
          ],
          [
           "wah"
          ],
          [
           "good"
          ],
          [
           "Very Easy"
          ],
          [
           "You let me down in ipo"
          ],
          [
           "best"
          ],
          [
           "Nice"
          ],
          [
           "good"
          ],
          [
           "Good ilove this app"
          ],
          [
           "mera paisa dubba diya ...... jitna cashback diya tha , us se b 10 guna jaida IPO me ghatta daal diya"
          ],
          [
           "Godd"
          ],
          [
           "good"
          ],
          [
           "Superb Ko"
          ],
          [
           "I have trubled . There are some payments by both Phoneoe & UPI BHIM SBI Pay, for the same transaction. But I have NOT refunded the amount paid by paytm or SBI Pay. Please Refund my amount paid excess for the same transaction...."
          ],
          [
           "very prompt and good for all transactions,but I am not able to deactivate my paytm wallet automatic money service since last 15 days."
          ],
          [
           "Super"
          ],
          [
           "Excellent"
          ],
          [
           "paytm wolet problem"
          ],
          [
           "good"
          ],
          [
           "Good"
          ],
          [
           "paytm UPI may land you in great trouble. I was 500 km away from my home where I paid a shopkeeper through QR scan. Money got stuck. After 2 days when I came back home, the amount was transferred to his account. Dear Paytm, should I travel 500 km to claim the money from shopkeeper? There should be only success or failed payment, there should not be any processing payment. After this mishap, I have started using paytm UPI."
          ],
          [
           "Very bad app I booked a cylinder on paytm on 14 Nov and it has not came till now and it is showing no booking found and I am also can't able to track and my money is gone."
          ],
          [
           "Good experience"
          ],
          [
           "Not use"
          ],
          [
           "Nice app"
          ],
          [
           "Wonderful"
          ],
          [
           "Best app"
          ],
          [
           "Fast transactions with many features."
          ],
          [
           "Very nice payment system "
          ],
          [
           "Very naice"
          ],
          [
           "Good"
          ],
          [
           "Well done"
          ],
          [
           "nice"
          ],
          [
           "Good payment fast process"
          ],
          [
           "Good"
          ],
          [
           "Best most powerful"
          ],
          [
           "Worst service . No customers service very bad paytm guys pla dont use paytm"
          ],
          [
           "Noopp"
          ],
          [
           "Akash Kumar Love u"
          ],
          [
           "excellent"
          ],
          [
           "Good"
          ],
          [
           "Good app"
          ],
          [
           "Lov it..better than other"
          ],
          [
           "Ch. Srinu."
          ],
          [
           "Nice"
          ],
          [
           "Good performance"
          ],
          [
           "Best app"
          ],
          [
           "good"
          ],
          [
           "good"
          ],
          [
           "Best"
          ],
          [
           "fast recharge"
          ],
          [
           "Nice"
          ],
          [
           "Lag problem"
          ],
          [
           "I love paytm"
          ],
          [
           "Nice"
          ],
          [
           "Bahut achcha work karta hai this is amazing"
          ],
          [
           "Best"
          ],
          [
           "Awsome"
          ],
          [
           "Fantastic and please give the only cash back don't want cash point's system"
          ],
          [
           "Good"
          ],
          [
           "Good"
          ],
          [
           "I love using this app .. this is amazing .."
          ],
          [
           "Brilliant"
          ],
          [
           "Ipo"
          ],
          [
           "very quick n easy to operate.Also reminds me to pay on time."
          ],
          [
           "Nice"
          ],
          [
           "Nice "
          ],
          [
           "very good application"
          ],
          [
           "Good"
          ],
          [
           "Better"
          ],
          [
           "Good"
          ],
          [
           "op"
          ],
          [
           "Md Ali official paytm safe"
          ],
          [
           "Easy n safe way for payment..."
          ],
          [
           "Bahut badhiya app h..koii b .transaction kro scratch card jaroor milta h."
          ],
          [
           "Awesoke app"
          ],
          [
           "Veey fast"
          ],
          [
           "hh"
          ],
          [
           "Beast App Eran I love you"
          ],
          [
           "bruh"
          ],
          [
           "Good"
          ],
          [
           "Thanks paytm"
          ],
          [
           "nic"
          ],
          [
           "very nice activity"
          ],
          [
           "Nice app"
          ],
          [
           "love this aap"
          ],
          [
           "Nice app essay to understand people"
          ],
          [
           "supar"
          ],
          [
           "Excellent app"
          ],
          [
           "Amazing application!"
          ],
          [
           "best"
          ],
          [
           "This app is good but ipo is not so don't download"
          ],
          [
           "Useless app"
          ],
          [
           "super working"
          ],
          [
           "Very easy and quick payment by paytm"
          ],
          [
           "Good"
          ],
          [
           "Chhachha"
          ],
          [
           "Why stock of paytm has been listed at heavy discount on BSE"
          ],
          [
           "Bad"
          ],
          [
           "Nice"
          ],
          [
           "Good"
          ],
          [
           "Mere akanut me 20000 dal do peeeee"
          ],
          [
           "late recharge"
          ],
          [
           "Best"
          ],
          [
           "IPO liya tha , abhi mein chumat mein hu"
          ],
          [
           "Amazing payment facilities. Thanks paytm"
          ],
          [
           "good"
          ],
          [
           "Customer care service is also not responding properly"
          ],
          [
           "nice"
          ],
          [
           "Good and reliable for recharge"
          ],
          [
           "V good"
          ],
          [
           "Worst customer service ever"
          ],
          [
           "Excellent"
          ],
          [
           "very good"
          ],
          [
           "Best "
          ],
          [
           "Logon ka paisa khagaya -22% what a joke shameless"
          ],
          [
           "best for Garib log "
          ],
          [
           "I like paytm thanks..."
          ],
          [
           "Superb"
          ],
          [
           "Supar"
          ],
          [
           "India ki no1 frod company"
          ],
          [
           "Good"
          ],
          [
           "Nice"
          ],
          [
           "most use full app"
          ],
          [
           "Took all my cashback in their IPO"
          ],
          [
           "Good"
          ],
          [
           "User friendly app..... I have love it"
          ],
          [
           "Very very nice"
          ],
          [
           "nice"
          ],
          [
           "Worst app ever."
          ],
          [
           "PayTm is Incredible and Exceptional...!!!"
          ],
          [
           "Third class app not support to any advice"
          ],
          [
           "good"
          ],
          [
           "Very good ptm"
          ],
          [
           "Good"
          ],
          [
           "Super"
          ],
          [
           "so good"
          ],
          [
           "Good"
          ],
          [
           "good"
          ],
          [
           "Nice app"
          ],
          [
           "super"
          ],
          [
           "good app"
          ],
          [
           "Seamless"
          ],
          [
           "mf"
          ],
          [
           "Good"
          ],
          [
           "Timely ,accuracy,wel Reminders Highly Secure."
          ],
          [
           "nise"
          ],
          [
           "Superb"
          ],
          [
           "Good"
          ],
          [
           "S CF CD FB my so en hug db hrs DVD EC rec'd this de cut sach in dense"
          ],
          [
           "Nise"
          ],
          [
           "good"
          ],
          [
           "Help"
          ],
          [
           "Good"
          ],
          [
           "Improved a lot. Congratulations to paytm team."
          ],
          [
           "Fast and good payment , recharge"
          ],
          [
           "sarvice very good"
          ],
          [
           "superb"
          ],
          [
           "very nice"
          ],
          [
           "ok aa"
          ],
          [
           "good"
          ],
          [
           "Good service in app"
          ],
          [
           "Sa1man md"
          ],
          [
           "Of 1000 FCC 66"
          ],
          [
           "Nice app"
          ],
          [
           "Good transactions fast payment Very good beautiful"
          ],
          [
           "Good"
          ],
          [
           "SUJAN"
          ],
          [
           "Koi phoneoe use mat karna ek baar kyc hone baad bhi baar baar kyc update mangte hai or ac block kar dete hai... Or paise fas jate hai mere sath dusri baar ho raha hai ab to 4 baar adhar card upload kar chuka hu baar baar reject kar dete hai or 5 ve baar to kuch upload he nhi ho raha custmer care walle bhi koi help nhi kar rahe hai... Paise bhi fase pade hai... Mehnat ki kamai bhi gai or time bhi khrab hua or business par bhi fark pda alag se... Ghatiya log ghatiya ap. Ticket he dete raho bus"
          ],
          [
           "Good aap"
          ],
          [
           "Awesome"
          ],
          [
           "Fast"
          ],
          [
           "This is used app"
          ],
          [
           "Very bad"
          ],
          [
           "I am not receiving OTP"
          ],
          [
           "Good"
          ],
          [
           "Good"
          ],
          [
           "Now days I am finding difficulties in doing payment using QR scanner, as I scan any QR, it says no internet connectivity"
          ],
          [
           "Sanjay"
          ],
          [
           "All in one app"
          ],
          [
           "Crypto currency exchange should be there..Many user has a BRAVE BROWSER BAT so think of implementing it.."
          ],
          [
           "Fraud app"
          ],
          [
           "good"
          ],
          [
           "very good app,but I didn't get credit card"
          ],
          [
           "Db"
          ],
          [
           "Good"
          ],
          [
           ":)"
          ],
          [
           "Good experience"
          ],
          [
           "Very useful and time to pay money"
          ],
          [
           ":D"
          ],
          [
           "Good"
          ],
          [
           "good"
          ],
          [
           "very fast service"
          ],
          [
           "Really good user interface...."
          ],
          [
           "ViNOD Tulsi"
          ],
          [
           "ok"
          ],
          [
           "Good app"
          ],
          [
           "Amazing"
          ],
          [
           "nice"
          ],
          [
           "Very Nice App"
          ],
          [
           "Perfectly"
          ],
          [
           "happy to use it.ðŸ˜€ðŸ˜€"
          ],
          [
           "poor cash back s"
          ],
          [
           "Very nice"
          ],
          [
           "Fasted payment service"
          ],
          [
           "Cashback nahi mila kabhi"
          ],
          [
           "most of the time error"
          ],
          [
           "Good app"
          ],
          [
           "Nice app"
          ],
          [
           "Ok"
          ],
          [
           "Most useful app"
          ],
          [
           "Superb"
          ],
          [
           "Extrasinary"
          ],
          [
           "paytm postpaid credit so good thank you"
          ],
          [
           "Good"
          ],
          [
           "Nice"
          ],
          [
           "Good"
          ],
          [
           "Gud"
          ],
          [
           "Good "
          ],
          [
           "Superb app... Other than paytm, google pey..."
          ],
          [
           "Surinder Yadav Jammu and Kashmir cemisen agent"
          ],
          [
           "Good"
          ],
          [
           "Excellent"
          ],
          [
           "Bhai isko use karlo Mujhe iska ipo allot hua heh 20percent loss meh hu"
          ],
          [
           "paytm has been horrific since the last 10 days. Unable to resolve a simple technical issue at their end. I'm unable to make any transaction, wallet money is stuck, fastag is not working so I have to wait longer in queues and also pay penalty for no fault of mine. Why can Paytm think beyond the useless and so called 24x7 support which can't solve a simple issue since 10 days!!! Pathetic!"
          ],
          [
           "Best"
          ],
          [
           "good"
          ],
          [
           "VIMALKUMAR"
          ],
          [
           "Worst service"
          ],
          [
           "Good"
          ],
          [
           "v good"
          ],
          [
           "Good"
          ],
          [
           "Excellent no words to express superb"
          ],
          [
           "Idiots I Have Suffered 25% Loss In Your IPO"
          ],
          [
           "good working app"
          ],
          [
           "Excellent best work"
          ],
          [
           "Today i paid rs 50 to recharge for bsnl network and its not recharged this is the second time happened in this month. it's a utter worst experience"
          ],
          [
           "Good"
          ],
          [
           "good"
          ],
          [
           "Worst service and issue not resolved .. you r helpless if you have any problem regarding paytm app or customer care always didn't any response"
          ],
          [
           "App even after reinstallation keeps stopping. Kindly solve the problem"
          ],
          [
           "Good"
          ],
          [
           "The worst experience with paytm. I have been trying to redeem amount from paytm Fixed deposit since 3 days and every time the transaction is failing. I reached out to customer support and they reverted by saying that the issue is resolved. But still the transaction is failing. I need to redeem my amount from fixed deposit immediately and Paytm is not supporting in this case. Will never ever try to put my amount in Paytm Fixed Deposit in future. Never use paytm for banking services."
          ],
          [
           "v good"
          ],
          [
           "Good"
          ],
          [
           "Super"
          ],
          [
           "Cannot open paytm postpaid..."
          ],
          [
           "Very useful "
          ],
          [
           "good"
          ],
          [
           "Good application"
          ],
          [
           "Bahut Achcha"
          ],
          [
           "Good receive"
          ],
          [
           "Too much failures compared with other payment services and causes so many problems for me"
          ],
          [
           "Super"
          ],
          [
           "Such overvalued listing for a company that has debt of nearly 70 million USD. You scammed people of their hard earned money. No guidance issued by SEBI as well. Such a crook!"
          ],
          [
           "Very Very nice APP"
          ],
          [
           "Good"
          ],
          [
           "Super smooth experience..thanks paytm"
          ],
          [
           "Stupid paytm not at all login my account, no customer support for this paytm"
          ],
          [
           "Good business"
          ],
          [
           "Good payment aap"
          ],
          [
           "nic"
          ],
          [
           "nice"
          ],
          [
           "Nice"
          ],
          [
           "GOOD PAYMENT APP"
          ],
          [
           "op"
          ],
          [
           "Worst customer support"
          ],
          [
           "Good"
          ],
          [
           "Vvvvvvvvvv good"
          ],
          [
           "Superb overall experience"
          ],
          [
           "Cool"
          ],
          [
           "kk"
          ],
          [
           "Nyc mam"
          ],
          [
           "Very good"
          ],
          [
           "Good"
          ],
          [
           "Very good"
          ],
          [
           "Smooth experience"
          ],
          [
           "Good"
          ],
          [
           "Best best and best app"
          ],
          [
           "supper"
          ],
          [
           "Papa1234"
          ],
          [
           "Hindi ko to"
          ],
          [
           "Just unbelievable"
          ],
          [
           "V nice and good app"
          ],
          [
           "Superb performance ðŸ¤ðŸ”¥"
          ],
          [
           "nice transaction app's"
          ],
          [
           "Good"
          ],
          [
           "It's Proven that this is looting Indian s money in ipo Premium just like that support ed by ruling party looting thousands of crores BLOODY BLOOD SUCKERS"
          ],
          [
           "Worsttttt app"
          ],
          [
           "super"
          ],
          [
           "Good"
          ],
          [
           "Very useful app"
          ],
          [
           "Fabulous"
          ],
          [
           "Sali chor company hai sab ka ipo mai paisa loot liya aaje ya aap use karna baad kar do aise chor company pa bharosa mat karo saale apne paise lake moj lar rahe hao"
          ],
          [
           "Fast"
          ],
          [
           "good"
          ],
          [
           "What a wonderful trusted app"
          ],
          [
           "Tere ipo main pesa lagaya tha Magar tune lawde lgga diye"
          ],
          [
           "Rent processing is very worst in paytm and rent processing techenical support will work on only chat and payment made still not received to me 24/7 only once they will make call and without any proper information they will cut the call worst kind of service from that team my 10000 is been struck they are not processing it also still am waiting for some good customer executive who can solve it already from payment date it's weak over and these techenical team is not supporting please help me."
          ],
          [
           "Very useful App for all in one. Excellent..."
          ],
          [
           "Good"
          ],
          [
           "Very best payment app"
          ],
          [
           "mst"
          ],
          [
           "Maaderchod.... IPO lia tha loss krwaa dia ... Uninstalling paytm.. Bhdwe saale"
          ],
          [
           "super"
          ],
          [
           "Listing day par hi sara cashback adjust kar dia mera. Negative me star hota to wo deta"
          ],
          [
           "Now this app is getting better than before"
          ],
          [
           "Super"
          ],
          [
           "super"
          ],
          [
           "paise duba de shares me mere"
          ],
          [
           "After the update I am unable to login!! The app is constantly showing no sim card error!"
          ],
          [
           "Almost 1 week above and still didn't get response from 24/7 helpline and when call customer care number they advice for 24/7, how can anyone trust this aap for help needed when there is no one to solve it, it's like goverment official one send to another and than that send to another. No queries are solved in one go and in time limited."
          ],
          [
           "super aap"
          ],
          [
           "Poll"
          ],
          [
           "Very nice"
          ],
          [
           "good app"
          ],
          [
           "osm"
          ],
          [
           "Good"
          ],
          [
           "Nice"
          ],
          [
           "Good"
          ],
          [
           "Amazing app"
          ],
          [
           "Nice"
          ],
          [
           "BASIRUL es gud"
          ],
          [
           "nice"
          ],
          [
           "paytm is very easy and convenient,I'm impressed with this app"
          ],
          [
           "Very good app"
          ],
          [
           "good"
          ],
          [
           "like it"
          ],
          [
           "great"
          ],
          [
           "Quick Payment options, good App for online payment"
          ],
          [
           "Wrost service ever no response from costmarecare i tried more than 100 times but there was no reaponse from comstcare. Also i transfer 25k for my home rent through rent payments its also chargerd 250 rs extra for debit card to rent payment. But now its more than 2 days land lord was saying that they dont get payemt yet. Wrost service i never recommend to anyone.Wroat service and costmarecare. And yes dont tell me to rise a Querrey from 24*7 you aswhole you know how much we can suffer bcsof you"
          ],
          [
           "It's an amazing app. It is very convenienceful in various ways such as easy banking transaction, cashless payment securely after shoping etc.and many more........"
          ],
          [
           "This app is very helpful"
          ],
          [
           "Good payment app ever"
          ],
          [
           "Worst kyc method i cant make kyc"
          ],
          [
           "Nice"
          ],
          [
           "Gobar app"
          ],
          [
           "fast transaction for other apps"
          ],
          [
           "I have got allotment in your paytm ipo I am disappoint by you ipo I didn't get listing gain...."
          ],
          [
           "Super"
          ],
          [
           "Very good"
          ],
          [
           "I had booked a bus from Chennai to Dharapuram(booking id **********) on **-Nov-**** but the bus was got cancelled by the operator and the same is confirmed by the operator on phone.I am in the impression that the amount was get refunded it but when I found that the amount is not refunded ,I raised the query to the Paytm. Paytm refuses to refund the amount citing the operator policy(Paytm is not providing the support document). I want refund . The 24/7 support is not working in the app ."
          ],
          [
           "Slow working"
          ],
          [
           "Bakwas App & bakwas CEO... IPO me chuna laga diya."
          ],
          [
           "Good app for day to day use."
          ],
          [
           "paytm fixed deposit balance not withdraw in bank account please solve your problem in bank"
          ],
          [
           "Nice Apps"
          ],
          [
           "apk good work thank you"
          ],
          [
           "good"
          ],
          [
           "nice"
          ],
          [
           "V good"
          ],
          [
           "Best app"
          ],
          [
           "Convenient and efficient"
          ],
          [
           "good"
          ],
          [
           "Nice"
          ],
          [
           "Good"
          ],
          [
           "superb"
          ],
          [
           "gf"
          ],
          [
           "Thanks paytm"
          ],
          [
           "Good"
          ],
          [
           "Quick services appreciable."
          ],
          [
           "Please give some good cash back as i have made loss of 3k because of your ipo"
          ],
          [
           "good app"
          ],
          [
           "nice"
          ],
          [
           "Best"
          ],
          [
           "Nice"
          ],
          [
           "Love the speed"
          ],
          [
           "Or apps mai se ye no.1 hai iske rewards bhot ache milte hai"
          ],
          [
           "I LOVE THE SPEED AND UI OF paytm"
          ],
          [
           "Nice app"
          ],
          [
           "Nice"
          ],
          [
           "Magnificient app"
          ],
          [
           "I could not do video kyc in paytm ...when I write adhar detail and OTP I agian come back to main menu please solve the problem"
          ],
          [
           "Superrr"
          ],
          [
           "Hi money transfer k liye achha app h"
          ],
          [
           "Very disgusting performance in paytm IPO... not expected. If Well-known companies act like this how can a common man trust."
          ],
          [
           "Good"
          ],
          [
           "good"
          ],
          [
           "Its amazing app"
          ],
          [
           "My.bank."
          ],
          [
           "wow"
          ],
          [
           "Very good"
          ],
          [
           "love"
          ],
          [
           "Best"
          ],
          [
           "Jitne ka cash back na Mile, 10x to tum 30 mins mai le lia.. Shekhar bhai...ye galat hai"
          ],
          [
           "Excellent"
          ],
          [
           "nice"
          ],
          [
           "Bad experience"
          ],
          [
           "fine"
          ],
          [
           "Very nice"
          ],
          [
           "Sahi"
          ],
          [
           "too good"
          ],
          [
           "good"
          ],
          [
           "Good"
          ],
          [
           "Haramjada chor company ...."
          ],
          [
           "This app is a disgrace to mankind. This kind of app should not be developed. Worst app i have come across. Payment is slow and everytime my money gets stuck and they never pay it back. WORST APP I RECEIVE WORST APP!"
          ],
          [
           "Worst app what the hell did u guys got your IPO"
          ],
          [
           "Superb"
          ],
          [
           "Very nice app"
          ],
          [
           "very good response."
          ],
          [
           "bad"
          ],
          [
           "Tightly Looser Application and Worst Experience with the Paytm Never Go For this Company choose other platforms to do UPI Transaction , it loss Making IPO for the Customer Investment For their Company. Never Go For this Guys..."
          ],
          [
           "Kya chutiyaa h ipo me loss ktva dia paytm bi bekarrr h"
          ],
          [
           "why not cash back received."
          ],
          [
           "paytm koi use na kre isme bna reason ka koi v complane krega fr aap ka.jtna v paisa rhe sb scam ho jyega or paytm ka kse v agint ko isse mtlb nhi aap k ps jtna v profe rhe fr v hm yhi suggest krege paytm use na kre wrna aap ka v paisa wast ho jyega"
          ],
          [
           "Worst experience , very bad app paytm works exactly like a robber who can steal your precious money without your concern."
          ],
          [
           "I love it, this paytm is very best for all person . You send Money without bank account."
          ],
          [
           "thank you"
          ],
          [
           "I am Mera bank account banana hai"
          ],
          [
           "Good"
          ],
          [
           "This is very good app and fast"
          ],
          [
           "Hji"
          ],
          [
           "good"
          ],
          [
           "Fraud company ipo valuation was kept high just to spread loot to their investors"
          ],
          [
           "I don't know why SEBI allowed such a over share price for paytm, it's not even worth for 1000 per share. Total loss."
          ],
          [
           "Good"
          ],
          [
           "Nice."
          ],
          [
           "Excellent"
          ],
          [
           "superb"
          ],
          [
           "Good"
          ],
          [
           "Nice"
          ],
          [
           "Good app"
          ],
          [
           "fabulous"
          ],
          [
           "Very bad app I booked a cylinder on paytm on 14 Nov and it has not came till now and it is showing no booking found and I am also can't able to track and my money is gone."
          ],
          [
           "Maintains jakhira bhd so hj UC vo mi kjm"
          ],
          [
           "Good"
          ],
          [
           "Best"
          ],
          [
           "very good app"
          ],
          [
           "Good"
          ],
          [
           "wonderful super working useful and safe app"
          ],
          [
           "Nice"
          ],
          [
           "Worth"
          ],
          [
           "It's really very good...."
          ],
          [
           "good"
          ],
          [
           "Best service"
          ],
          [
           "Nice"
          ],
          [
           "Very very Useful Love this app But 1 issue Costumer service Solve this problem"
          ],
          [
           "Good service and fast"
          ],
          [
           "Mukesh Mahakal you"
          ],
          [
           "As good to home rechage on paytm.it easy to used."
          ],
          [
           "Very good app classical amazing and more fast work in the payment process"
          ],
          [
           "Fraud company ipo me bhi chuna laga diya 10% ka loss listing ke saath baba re . Kaha jaoge bhi itta Customer ka paisa loot kar"
          ],
          [
           "Customer care is not talked. phone number is not updated kyc not transfer and postpaid is not activate. If it all goes well then that's great"
          ],
          [
           "Bad app"
          ],
          [
           "Very bad app i booked a cylinder but it has not come till now and my money is gone"
          ],
          [
           "What kind of app is this when they failed to recharge thr is no cancellation thing…"
          ],
          [
           "bahut badiya"
          ],
          [
           "Bill payment so easy"
          ],
          [
           "Good"
          ],
          [
           "Great app and good costumer service "
          ],
          [
           "Wonderful "
          ],
          [
           "I invited one person to paytm and I transaction 150 rupees his account. But the invited money is not come. Only 20 cashback points only this is not correct."
          ],
          [
           "Easy and fast"
          ],
          [
           "Super"
          ],
          [
           "Mast"
          ],
          [
           "From last night my account is blocked no one is reciving calls and no one is calling me . 24/7 Service also doesnt work"
          ],
          [
           "Do not wark this aap"
          ],
          [
           "Visa"
          ],
          [
           "Very nice and users friendly ."
          ],
          [
           "Very usefully"
          ],
          [
           "Super"
          ],
          [
           "Naisa"
          ],
          [
           "Best payment application"
          ],
          [
           "Good"
          ],
          [
           "Good"
          ],
          [
           "It so good"
          ],
          [
           "Gud"
          ],
          [
           "Good application"
          ],
          [
           "nice"
          ],
          [
           "good"
          ],
          [
           "exilant"
          ],
          [
           "nice"
          ],
          [
           "Nice"
          ],
          [
           "Convinient"
          ],
          [
           "nice"
          ],
          [
           "Good service"
          ],
          [
           "Best payments app"
          ],
          [
           "Try"
          ],
          [
           "Good application"
          ],
          [
           "Nice app"
          ],
          [
           "Hello sir mere paytm wallet se pase cut gye ha please help me 1428 main refund karne ke liye usmein payment me Dali per usmein sab payment aur fastai ja rahi hai meri please help me please help me"
          ],
          [
           "ok"
          ],
          [
           "Why nor showing update"
          ],
          [
           "Good"
          ],
          [
           "hi"
          ],
          [
           "Ok"
          ],
          [
           "good"
          ],
          [
           "Very fast transection and secure .Nice always use this app"
          ],
          [
           "so nice"
          ],
          [
           "No issues at all unlike GPAY, Easy to use"
          ],
          [
           "Good"
          ],
          [
           "very good"
          ],
          [
           "Very good prossasing"
          ],
          [
           "Nice"
          ],
          [
           "THANKFUL"
          ],
          [
           "Nice app"
          ],
          [
           "ok"
          ],
          [
           "good morning "
          ],
          [
           "trash"
          ],
          [
           "Super"
          ],
          [
           "Good"
          ],
          [
           "Good reasonable"
          ],
          [
           "nic but u give to add money violet by bhim app"
          ],
          [
           "Good"
          ],
          [
           "Awesome,done in 1second"
          ],
          [
           "fast"
          ],
          [
           "Very good app for money transfers and other services"
          ],
          [
           "Nice "
          ],
          [
           "I can't get my reedem code on time and can't get refund of it also and i can't tranfer my money in another person if i am not linked to a bank account it says to pay you require kyc done without kyc I can't send money in another person's wallet if he has linked in bank or not kyc done or not extremely disappointed"
          ],
          [
           "no casbeack"
          ],
          [
           "osm made in india"
          ],
          [
           "Super super super super super. Wow!wonderful.nice very very nice..."
          ],
          [
           "Nice"
          ],
          [
           "darun"
          ],
          [
           "thank u paytm"
          ],
          [
           "India aap respekt"
          ],
          [
           "nice service"
          ],
          [
           "Very good"
          ],
          [
           "No of the cash back worst app"
          ],
          [
           "Awesome"
          ],
          [
           "wahhh"
          ],
          [
           "great app"
          ],
          [
           "PLEASE CHANGE THE LOG IN METHOD TO OTP PLEASE PLEASE"
          ],
          [
           "Nice experience"
          ],
          [
           "good"
          ],
          [
           "It's was amazing app"
          ],
          [
           "Fi3"
          ],
          [
           "Nice App"
          ],
          [
           "Awesome "
          ],
          [
           "Op"
          ],
          [
           "Reward was supper"
          ],
          [
           "Super app"
          ],
          [
           "good"
          ],
          [
           "Nice"
          ],
          [
           "good"
          ],
          [
           "good service."
          ],
          [
           "uesful"
          ],
          [
           "Good app"
          ],
          [
           "not that good"
          ],
          [
           "Best"
          ],
          [
           "useful"
          ],
          [
           "Thank u for helping with personal at critical time thank u so much ."
          ],
          [
           "Nice aap"
          ],
          [
           "nice"
          ],
          [
           "Super app"
          ],
          [
           "Himanshu"
          ],
          [
           "Nice"
          ],
          [
           "Thanks paytm"
          ],
          [
           "nice"
          ],
          [
           "very good service"
          ],
          [
           "Mm"
          ],
          [
           "Good"
          ],
          [
           "it's very easy"
          ],
          [
           "Nice"
          ],
          [
           "eww"
          ],
          [
           "Vere good paytm"
          ],
          [
           "BALARAM"
          ],
          [
           "Exellent app . Very usefull . Works well. Must install this app. Recharge is very fast and all services superb."
          ],
          [
           "Nice to me"
          ],
          [
           "best"
          ],
          [
           "MY FAVOURITE"
          ],
          [
           "Good"
          ],
          [
           "Bakwaas"
          ],
          [
           "Nice"
          ],
          [
           "Fraud paytm . Not allowing me to use the money in wallet"
          ],
          [
           "Best"
          ],
          [
           "naisu"
          ],
          [
           "Altimate"
          ],
          [
           "excellent app."
          ],
          [
           "Nice"
          ],
          [
           "Supar"
          ],
          [
           "good"
          ],
          [
           "Nice.."
          ],
          [
           "very nice"
          ],
          [
           "Ultra fast"
          ],
          [
           "no gud"
          ],
          [
           "Good and features full ap"
          ],
          [
           "Good proccesing"
          ],
          [
           "Good app"
          ],
          [
           "My paytm app not working"
          ],
          [
           "Nice"
          ],
          [
           "Nice"
          ],
          [
           "Verry nice to app"
          ],
          [
           "Good"
          ],
          [
           "One of the best upi app."
          ],
          [
           "supar"
          ],
          [
           "So good"
          ],
          [
           "Good"
          ],
          [
           "Very nice"
          ],
          [
           "good service"
          ],
          [
           "very usefull and fast app..."
          ],
          [
           "Best payment bank ....."
          ],
          [
           "Please Give me 100Rup"
          ],
          [
           "nice"
          ],
          [
           "Good"
          ],
          [
           "Super aap"
          ],
          [
           "nice app"
          ],
          [
           "very nice paytm app"
          ],
          [
           "Good job"
          ],
          [
           "These really great app paymt inset"
          ],
          [
           "Supe................"
          ],
          [
           "Nice"
          ],
          [
           "Gd"
          ],
          [
           "Amazon pay best they give me cashback per transaction"
          ],
          [
           "Please give paytm wallet I give 5 "
          ],
          [
           "According to me, offers should be direct rupees not Zomato , ajio offers, etc. Directly credit cashback money not in form of Zomato, ajio etc."
          ],
          [
           "great"
          ],
          [
           "paytmcustomer care response is zero. Support id very bad"
          ],
          [
           "that is a very nice app easy to use and pay "
          ],
          [
           "Spr useful"
          ],
          [
           "good"
          ],
          [
           "Good work"
          ],
          [
           "nice g9d"
          ],
          [
           "Very nice app"
          ],
          [
           "RSS ."
          ],
          [
           "good"
          ],
          [
           "Good"
          ],
          [
           "So safe"
          ],
          [
           "top"
          ],
          [
           "paytm is good"
          ],
          [
           "Best in the business"
          ],
          [
           "Awesome"
          ],
          [
           "Good"
          ],
          [
           "What the hell is this?? U give 16 point for transaction, what we will do by this 16 point?? U know we lost time for this 16 point, u just of this 16 point system, i don't need this point, if u can give cash back then give.. But don't waste my time by giving this 16 point, i am warning you.. otherwise i will delete this app.. U just give it so that u can say we r giving something everytime when u transaction right, don't make us fool"
          ],
          [
           "good"
          ],
          [
           "good"
          ],
          [
           "I have booked a train ticket, money got deducted but no confirmation or refund has received, you people are fooling the customers, refund my money Rs. 408 otherwise will file a report in consumer court I want my money back that's it, very bad service,"
          ],
          [
           "good"
          ],
          [
           "Very easy to operate and successful."
          ],
          [
           "Nice"
          ],
          [
           "very good experience"
          ],
          [
           "Good application but why my paytm no update me"
          ],
          [
           "Good"
          ],
          [
           "wow"
          ],
          [
           "Nice"
          ],
          [
           "good"
          ],
          [
           "good "
          ],
          [
           "cool"
          ],
          [
           "Excellent experience using paytm"
          ],
          [
           "Mujhe paytm card banvana hai vah kaise milega mujhe"
          ],
          [
           "Supar"
          ],
          [
           "He is wasted app .my 400 google reedem not showing and the showing processing .I am waiting 24 hours but paytm not given reedem and my payment cute on my saving I am very upset please help me please send me my money please send meðŸ˜­"
          ],
          [
           "So many times i faced so many types problems every time like account frozen, you are not allowed this transaction, complete your kyc even i already completed my kyc, i saw myself in paytm app. I'm not face those problems in other app."
          ],
          [
           "Very nice"
          ],
          [
           "Bahut badiya application form you"
          ],
          [
           "Awesome transaction app Thanks you "
          ],
          [
           "Awesome"
          ],
          [
           "best "
          ],
          [
           "Very nice"
          ],
          [
           "great"
          ],
          [
           "Nice"
          ],
          [
           "Awesome"
          ],
          [
           "Super app"
          ],
          [
           "My refar 100 panding 300"
          ],
          [
           "Thumbs up"
          ],
          [
           "Service not good I recharge dth using paytm firstpoint Rs 500 flat 10% cash back bt cashback not paid by paytm"
          ],
          [
           "Good "
          ],
          [
           "This is the worst app in upi payment. Payments does not showing the success or not Iam confused lot of times. Sender sends the some amount in sender paytm account shows the success but receiver account not showing the transaction customer care also not responding the problem."
          ],
          [
           "good"
          ],
          [
           "good"
          ],
          [
           "Jhakass and mast hai boss"
          ],
          [
           "Excellent"
          ],
          [
           "Very nice"
          ],
          [
           "This app is good .I have got cheat of about 100 rupees"
          ],
          [
           "Nice and easy app"
          ],
          [
           "One of the best banking application that I have used in my life , never failed me and infact saved me in a lot of situations where other banking applications failed"
          ],
          [
           "Very very Nice application"
          ],
          [
           "Totally irritating from 2 days its showing waiting for operator confirmation. My Google pay Redeem code is stuck from 2days solve this issue ASAP."
          ],
          [
           "very noice"
          ],
          [
           "Nic paymt aap"
          ],
          [
           "I'm using paytm"
          ],
          [
           "superb"
          ],
          [
           "good last one but this time saying update to latest version but There is not having any latest version to update i can't use some function plz fix problem"
          ],
          [
           "good"
          ],
          [
           "I like paytm very nice service i yousing 4years old"
          ],
          [
           "Good"
          ],
          [
           "good"
          ],
          [
           "Superb"
          ],
          [
           "Good"
          ],
          [
           "Best app"
          ],
          [
           "Super"
          ],
          [
           "Kdk app"
          ],
          [
           "Hello paytm Google gift card not work please reply"
          ],
          [
           "Good"
          ],
          [
           "Good"
          ],
          [
           "good"
          ],
          [
           "Not nice"
          ],
          [
           "Good service"
          ],
          [
           "Nice"
          ],
          [
           "Deals problem"
          ],
          [
           "Super"
          ],
          [
           "please give cashback"
          ],
          [
           "Why this app is not showing the blocked amount of my ipo mandate..... Where should i complain... Please reply "
          ],
          [
           "good"
          ],
          [
           "I lost my mobile number , customer care helped me a lot to get the paytm registered to my new number"
          ],
          [
           "ggod"
          ],
          [
           "Good service .....correct response"
          ],
          [
           "Super spid"
          ],
          [
           "Good very good"
          ],
          [
           "This app is ausome but cashback tranjactions is so low. So paytm YOU tranjaction fast ok"
          ],
          [
           "Great"
          ],
          [
           "Very nice "
          ],
          [
           "Super app"
          ],
          [
           "Good service"
          ],
          [
           "nice"
          ],
          [
           "Accha hai"
          ],
          [
           "Good"
          ],
          [
           "wonderful"
          ],
          [
           "Lovely ptm money transfer & other fithchers"
          ],
          [
           "superfast transactions and easy to use I like this app"
          ]
         ],
         "hovertemplate": "Review Length=%{x}<br>Word Count=%{y}<br>review=%{customdata[0]}<br>Label=%{marker.color}<extra></extra>",
         "legendgroup": "",
         "marker": {
          "color": [
           1,
           1,
           1,
           1,
           1,
           -1,
           1,
           -1,
           1,
           1,
           1,
           1,
           1,
           1,
           1,
           1,
           1,
           1,
           1,
           -1,
           0,
           1,
           1,
           -1,
           -1,
           1,
           1,
           -1,
           1,
           1,
           1,
           -1,
           1,
           1,
           -1,
           1,
           -1,
           1,
           -1,
           1,
           1,
           1,
           1,
           1,
           1,
           1,
           1,
           1,
           1,
           1,
           1,
           1,
           1,
           1,
           1,
           1,
           1,
           1,
           1,
           1,
           -1,
           1,
           1,
           1,
           1,
           1,
           1,
           0,
           1,
           1,
           -1,
           -1,
           1,
           -1,
           1,
           -1,
           1,
           1,
           1,
           1,
           -1,
           0,
           -1,
           1,
           1,
           -1,
           1,
           1,
           0,
           1,
           -1,
           1,
           1,
           1,
           1,
           -1,
           -1,
           1,
           1,
           1,
           1,
           1,
           1,
           1,
           -1,
           1,
           -1,
           0,
           1,
           1,
           1,
           1,
           1,
           1,
           1,
           1,
           1,
           -1,
           1,
           1,
           1,
           -1,
           1,
           1,
           -1,
           -1,
           1,
           1,
           1,
           1,
           1,
           1,
           1,
           1,
           1,
           1,
           -1,
           0,
           1,
           1,
           1,
           -1,
           0,
           1,
           1,
           1,
           1,
           1,
           1,
           1,
           1,
           -1,
           1,
           1,
           1,
           1,
           1,
           -1,
           -1,
           1,
           -1,
           1,
           1,
           -1,
           1,
           -1,
           -1,
           1,
           -1,
           0,
           1,
           1,
           1,
           1,
           1,
           1,
           -1,
           1,
           1,
           0,
           1,
           1,
           1,
           1,
           1,
           1,
           1,
           -1,
           -1,
           1,
           -1,
           1,
           1,
           1,
           1,
           1,
           1,
           1,
           1,
           1,
           -1,
           -1,
           -1,
           1,
           1,
           1,
           0,
           1,
           1,
           1,
           1,
           1,
           1,
           1,
           1,
           1,
           1,
           1,
           1,
           1,
           -1,
           1,
           1,
           1,
           -1,
           1,
           1,
           1,
           -1,
           -1,
           1,
           1,
           1,
           1,
           -1,
           1,
           -1,
           1,
           1,
           1,
           1,
           1,
           1,
           1,
           -1,
           1,
           1,
           1,
           1,
           1,
           -1,
           -1,
           1,
           1,
           1,
           1,
           -1,
           -1,
           -1,
           -1,
           -1,
           -1,
           1,
           1,
           1,
           -1,
           -1,
           1,
           -1,
           1,
           1,
           -1,
           -1,
           1,
           1,
           -1,
           1,
           -1,
           -1,
           1,
           0,
           1,
           -1,
           1,
           -1,
           1,
           1,
           -1,
           1,
           1,
           0,
           0,
           1,
           0,
           1,
           1,
           1,
           1,
           -1,
           1,
           1,
           1,
           1,
           1,
           1,
           1,
           -1,
           1,
           0,
           -1,
           -1,
           1,
           1,
           1,
           1,
           1,
           1,
           1,
           0,
           1,
           1,
           1,
           -1,
           1,
           1,
           -1,
           1,
           1,
           1,
           0,
           1,
           1,
           1,
           -1,
           1,
           1,
           1,
           1,
           1,
           1,
           1,
           -1,
           1,
           1,
           1,
           -1,
           1,
           1,
           1,
           1,
           1,
           1,
           -1,
           1,
           1,
           1,
           1,
           1,
           -1,
           0,
           1,
           1,
           1,
           1,
           1,
           1,
           1,
           1,
           1,
           1,
           1,
           1,
           1,
           1,
           1,
           1,
           1,
           1,
           1,
           1,
           -1,
           -1,
           1,
           1,
           1,
           1,
           1,
           -1,
           1,
           1,
           1,
           0,
           1,
           1,
           1,
           -1,
           -1,
           1,
           1,
           1,
           -1,
           1,
           1,
           1,
           -1,
           1,
           1,
           1,
           1,
           -1,
           1,
           1,
           1,
           -1,
           -1,
           1,
           1,
           1,
           -1,
           1,
           -1,
           1,
           1,
           1,
           1,
           1,
           1,
           0,
           1,
           1,
           1,
           1,
           1,
           1,
           1,
           0,
           1,
           1,
           1,
           -1,
           1,
           -1,
           1,
           1,
           1,
           1,
           1,
           1,
           0,
           1,
           1,
           1,
           1,
           1,
           1,
           1,
           1,
           -1,
           1,
           1,
           1,
           1,
           -1,
           -1,
           1,
           1,
           -1,
           1,
           1,
           -1,
           -1,
           1,
           1,
           -1,
           1,
           -1,
           1,
           1,
           -1,
           1,
           1,
           1,
           1,
           1,
           1,
           1,
           1,
           1,
           1,
           1,
           1,
           1,
           1,
           1,
           -1,
           0,
           1,
           1,
           1,
           1,
           1,
           1,
           1,
           1,
           1,
           1,
           0,
           1,
           1,
           1,
           1,
           1,
           1,
           -1,
           1,
           1,
           1,
           -1,
           1,
           1,
           1,
           1,
           -1,
           -1,
           1,
           -1,
           1,
           1,
           -1,
           -1,
           1,
           -1,
           1,
           1,
           0,
           -1,
           1,
           1,
           1,
           1,
           1,
           -1,
           1,
           -1,
           -1,
           1,
           1,
           -1,
           1,
           1,
           1,
           1,
           1,
           1,
           1,
           -1,
           1,
           1,
           -1,
           1,
           1,
           1,
           1,
           1,
           1,
           1,
           1,
           1,
           1,
           1,
           1,
           1,
           1,
           1,
           1,
           0,
           -1,
           -1,
           1,
           -1,
           1,
           1,
           -1,
           1,
           1,
           1,
           1,
           -1,
           1,
           1,
           1,
           1,
           -1,
           1,
           -1,
           0,
           1,
           1,
           -1,
           -1,
           -1,
           1,
           1,
           1,
           1,
           1,
           1,
           0,
           1,
           1,
           1,
           1,
           1,
           1,
           1,
           1,
           -1,
           1,
           1,
           -1,
           1,
           1,
           1,
           -1,
           1,
           -1,
           1,
           -1,
           1,
           1,
           -1,
           1,
           -1,
           1,
           -1,
           1,
           1,
           1,
           1,
           1,
           1,
           1,
           1,
           1,
           1,
           1,
           1,
           1,
           1,
           1,
           -1,
           1,
           0,
           1,
           1,
           1,
           1,
           1,
           1,
           1,
           1,
           -1,
           1,
           1,
           -1,
           1,
           1,
           1,
           1,
           1,
           1,
           1,
           1,
           -1,
           1,
           1,
           -1,
           1,
           1,
           1,
           -1,
           1,
           1,
           -1,
           -1,
           -1,
           1,
           1,
           1,
           1,
           -1,
           -1,
           0,
           -1,
           -1,
           1,
           1,
           1,
           0,
           1,
           1,
           1,
           -1,
           -1,
           1,
           1,
           1,
           1,
           1,
           1,
           1,
           1,
           -1,
           1,
           1,
           1,
           1,
           1,
           1,
           1,
           1,
           1,
           1,
           1,
           1,
           1,
           1,
           1,
           1,
           1,
           -1,
           -1,
           -1,
           -1,
           -1,
           1,
           1,
           1,
           1,
           1,
           -1,
           1,
           1,
           1,
           -1,
           1,
           1,
           1,
           1,
           1,
           1,
           1,
           1,
           1,
           1,
           1,
           1,
           1,
           0,
           1,
           1,
           1,
           1,
           1,
           1,
           1,
           1,
           1,
           1,
           -1,
           1,
           1,
           0,
           1,
           0,
           0,
           1,
           1,
           1,
           1,
           1,
           1,
           1,
           1,
           1,
           1,
           1,
           1,
           1,
           1,
           1,
           1,
           1,
           1,
           1,
           1,
           1,
           -1,
           -1,
           1,
           1,
           1,
           0,
           1,
           -1,
           1,
           1,
           -1,
           1,
           1,
           1,
           -1,
           1,
           -1,
           1,
           1,
           1,
           1,
           1,
           1,
           1,
           1,
           -1,
           1,
           1,
           1,
           1,
           1,
           1,
           1,
           1,
           1,
           1,
           1,
           1,
           1,
           1,
           1,
           1,
           1,
           1,
           1,
           -1,
           1,
           1,
           1,
           1,
           1,
           0,
           1,
           1,
           1,
           -1,
           -1,
           1,
           1,
           1,
           1,
           1,
           1,
           1,
           1,
           1,
           1,
           1,
           1,
           1,
           1,
           -1,
           1,
           1,
           1,
           1,
           1,
           1,
           1,
           1,
           1,
           1,
           1,
           1,
           1,
           1,
           1,
           1,
           1,
           1,
           -1,
           1,
           1,
           1,
           1,
           -1,
           1,
           1,
           1,
           1,
           1,
           1,
           1,
           1,
           1,
           1,
           -1,
           1,
           1,
           1,
           1,
           1,
           1,
           1,
           1,
           -1,
           1,
           1,
           -1,
           0,
           1,
           1,
           1,
           -1,
           1,
           1,
           1,
           1,
           1,
           1,
           1,
           1,
           1,
           -1,
           -1,
           1,
           1,
           1,
           1,
           1,
           1,
           1,
           1,
           1,
           1,
           0,
           1,
           -1,
           1,
           -1,
           1,
           1,
           1,
           1,
           1,
           1,
           1,
           1,
           1,
           -1,
           1,
           1,
           1,
           1,
           1,
           1,
           1,
           1,
           1,
           1,
           1,
           1,
           1,
           1,
           -1,
           1,
           1,
           1,
           1,
           1,
           1,
           0,
           1,
           0,
           -1,
           1,
           1,
           1,
           1,
           1,
           1,
           1,
           1,
           1,
           1,
           1,
           1,
           1,
           1,
           1,
           1,
           1
          ],
          "coloraxis": "coloraxis",
          "symbol": "circle"
         },
         "mode": "markers",
         "name": "",
         "orientation": "v",
         "showlegend": false,
         "type": "scatter",
         "x": [
          2,
          4,
          28,
          5,
          8,
          40,
          20,
          357,
          8,
          16,
          14,
          4,
          5,
          11,
          6,
          4,
          123,
          21,
          21,
          35,
          61,
          5,
          4,
          57,
          78,
          22,
          4,
          128,
          4,
          7,
          4,
          11,
          31,
          12,
          110,
          5,
          237,
          146,
          35,
          9,
          9,
          4,
          9,
          4,
          7,
          64,
          4,
          4,
          11,
          31,
          7,
          8,
          9,
          9,
          5,
          4,
          7,
          4,
          4,
          4,
          12,
          4,
          4,
          9,
          4,
          24,
          6,
          6,
          9,
          4,
          38,
          40,
          14,
          46,
          9,
          45,
          13,
          8,
          12,
          6,
          4,
          2,
          143,
          9,
          9,
          74,
          35,
          19,
          206,
          12,
          30,
          4,
          59,
          8,
          36,
          490,
          14,
          4,
          17,
          4,
          4,
          13,
          6,
          5,
          10,
          4,
          30,
          4,
          20,
          5,
          18,
          4,
          56,
          26,
          4,
          223,
          14,
          9,
          4,
          4,
          4,
          82,
          2,
          17,
          46,
          51,
          15,
          4,
          15,
          13,
          8,
          13,
          9,
          3,
          5,
          9,
          138,
          22,
          4,
          33,
          8,
          114,
          4,
          12,
          7,
          7,
          16,
          4,
          14,
          20,
          3,
          46,
          7,
          4,
          8,
          4,
          26,
          360,
          275,
          81,
          18,
          15,
          40,
          20,
          37,
          41,
          107,
          9,
          55,
          4,
          30,
          4,
          4,
          9,
          5,
          9,
          35,
          8,
          18,
          4,
          6,
          21,
          5,
          4,
          4,
          2,
          16,
          19,
          18,
          2,
          7,
          9,
          14,
          3,
          13,
          4,
          11,
          4,
          4,
          5,
          77,
          183,
          156,
          2,
          6,
          4,
          125,
          5,
          8,
          2,
          4,
          4,
          4,
          9,
          4,
          101,
          8,
          37,
          94,
          8,
          51,
          3,
          4,
          5,
          45,
          4,
          27,
          13,
          138,
          52,
          25,
          4,
          4,
          93,
          8,
          15,
          9,
          96,
          4,
          5,
          5,
          4,
          5,
          4,
          105,
          29,
          33,
          54,
          12,
          9,
          40,
          14,
          4,
          8,
          3,
          4,
          31,
          48,
          95,
          29,
          31,
          59,
          4,
          6,
          6,
          3,
          2,
          25,
          95,
          9,
          17,
          20,
          19,
          17,
          3,
          58,
          4,
          5,
          64,
          6,
          4,
          5,
          288,
          21,
          61,
          15,
          38,
          16,
          7,
          13,
          3,
          4,
          9,
          22,
          4,
          4,
          4,
          19,
          100,
          4,
          4,
          9,
          228,
          133,
          5,
          9,
          19,
          4,
          4,
          424,
          171,
          15,
          7,
          8,
          9,
          8,
          37,
          25,
          10,
          4,
          9,
          4,
          25,
          4,
          18,
          75,
          5,
          18,
          9,
          4,
          8,
          25,
          10,
          4,
          16,
          8,
          4,
          4,
          4,
          13,
          4,
          11,
          12,
          4,
          43,
          4,
          6,
          75,
          4,
          4,
          43,
          9,
          3,
          60,
          4,
          5,
          21,
          4,
          6,
          4,
          2,
          26,
          30,
          73,
          11,
          9,
          2,
          25,
          4,
          4,
          12,
          3,
          18,
          8,
          13,
          35,
          5,
          13,
          20,
          4,
          49,
          11,
          13,
          36,
          4,
          8,
          59,
          3,
          4,
          4,
          34,
          13,
          4,
          39,
          40,
          4,
          53,
          4,
          30,
          6,
          27,
          9,
          9,
          5,
          49,
          19,
          22,
          6,
          5,
          25,
          4,
          4,
          17,
          33,
          4,
          37,
          14,
          4,
          15,
          41,
          41,
          4,
          13,
          4,
          5,
          7,
          4,
          4,
          8,
          5,
          8,
          8,
          2,
          4,
          45,
          4,
          6,
          4,
          69,
          4,
          4,
          4,
          4,
          46,
          32,
          17,
          6,
          9,
          5,
          4,
          19,
          9,
          14,
          8,
          50,
          4,
          5,
          496,
          8,
          7,
          4,
          16,
          8,
          22,
          4,
          4,
          120,
          6,
          14,
          105,
          9,
          4,
          42,
          2,
          4,
          2,
          15,
          33,
          2,
          4,
          4,
          17,
          30,
          11,
          2,
          8,
          7,
          4,
          13,
          9,
          24,
          16,
          9,
          22,
          24,
          22,
          8,
          8,
          2,
          15,
          6,
          11,
          39,
          4,
          4,
          4,
          3,
          5,
          45,
          46,
          4,
          9,
          70,
          389,
          4,
          4,
          10,
          13,
          4,
          6,
          4,
          36,
          43,
          16,
          19,
          147,
          4,
          4,
          142,
          70,
          4,
          486,
          6,
          4,
          5,
          29,
          12,
          4,
          16,
          12,
          12,
          89,
          5,
          174,
          18,
          4,
          37,
          76,
          13,
          16,
          3,
          4,
          4,
          16,
          2,
          22,
          4,
          15,
          25,
          4,
          2,
          7,
          9,
          4,
          9,
          17,
          4,
          22,
          6,
          8,
          11,
          17,
          19,
          27,
          22,
          4,
          153,
          13,
          5,
          4,
          15,
          8,
          163,
          4,
          4,
          28,
          56,
          496,
          44,
          4,
          21,
          3,
          78,
          5,
          86,
          42,
          5,
          5,
          28,
          88,
          338,
          9,
          4,
          9,
          8,
          3,
          4,
          4,
          4,
          11,
          4,
          14,
          4,
          61,
          13,
          4,
          7,
          5,
          50,
          498,
          162,
          24,
          21,
          32,
          4,
          9,
          31,
          95,
          5,
          9,
          491,
          12,
          50,
          28,
          90,
          9,
          23,
          4,
          4,
          6,
          8,
          24,
          4,
          4,
          4,
          6,
          2,
          12,
          4,
          27,
          77,
          8,
          4,
          4,
          4,
          14,
          59,
          32,
          8,
          4,
          16,
          126,
          7,
          36,
          123,
          4,
          4,
          15,
          8,
          3,
          9,
          4,
          4,
          87,
          9,
          4,
          14,
          4,
          9,
          4,
          8,
          4,
          4,
          27,
          215,
          47,
          6,
          13,
          19,
          3,
          227,
          54,
          27,
          248,
          121,
          88,
          9,
          33,
          4,
          30,
          3,
          4,
          80,
          116,
          4,
          5,
          9,
          6,
          4,
          4,
          8,
          8,
          171,
          40,
          4,
          4,
          13,
          4,
          43,
          4,
          5,
          25,
          4,
          12,
          4,
          78,
          21,
          19,
          49,
          73,
          126,
          141,
          7,
          82,
          83,
          12,
          20,
          4,
          36,
          10,
          156,
          13,
          5,
          4,
          119,
          20,
          4,
          30,
          13,
          5,
          5,
          24,
          4,
          4,
          10,
          3,
          16,
          4,
          4,
          7,
          4,
          4,
          10,
          4,
          12,
          17,
          3,
          16,
          8,
          196,
          2,
          22,
          4,
          2,
          2,
          4,
          58,
          7,
          41,
          4,
          9,
          20,
          4,
          8,
          8,
          2,
          13,
          5,
          5,
          4,
          15,
          46,
          4,
          23,
          4,
          52,
          5,
          315,
          11,
          17,
          67,
          4,
          5,
          13,
          17,
          12,
          9,
          29,
          7,
          5,
          9,
          52,
          15,
          4,
          20,
          3,
          8,
          8,
          2,
          17,
          9,
          4,
          4,
          4,
          13,
          6,
          8,
          13,
          4,
          6,
          68,
          8,
          4,
          9,
          8,
          4,
          12,
          4,
          17,
          2,
          4,
          14,
          4,
          3,
          15,
          7,
          111,
          10,
          4,
          12,
          4,
          7,
          4,
          56,
          4,
          5,
          8,
          14,
          4,
          5,
          4,
          6,
          9,
          10,
          6,
          25,
          15,
          8,
          24,
          4,
          4,
          17,
          4,
          24,
          5,
          7,
          4,
          9,
          12,
          28,
          23,
          21,
          4,
          4,
          9,
          8,
          19,
          8,
          34,
          20,
          4,
          2,
          53,
          34,
          142,
          5,
          56,
          44,
          10,
          4,
          9,
          8,
          13,
          5,
          4,
          4,
          7,
          3,
          13,
          20,
          7,
          4,
          436,
          4,
          4,
          251,
          4,
          36,
          4,
          20,
          46,
          4,
          3,
          4,
          4,
          5,
          4,
          32,
          51,
          5,
          234,
          234,
          9,
          33,
          35,
          7,
          5,
          9,
          5,
          4,
          7,
          9,
          24,
          9,
          110,
          5,
          276,
          4,
          4,
          25,
          9,
          9,
          54,
          17,
          164,
          26,
          146,
          10,
          13,
          15,
          6,
          154,
          4,
          51,
          4,
          4,
          6,
          4,
          8,
          5,
          7,
          50,
          4,
          4,
          4,
          8,
          12,
          4,
          13,
          5,
          20,
          110,
          4,
          100,
          4,
          34,
          10,
          14,
          88,
          5,
          10,
          9,
          12,
          4,
          9,
          4,
          9,
          43,
          54
         ],
         "xaxis": "x",
         "y": [
          1,
          1,
          6,
          1,
          2,
          8,
          5,
          63,
          1,
          4,
          3,
          1,
          1,
          2,
          1,
          1,
          24,
          4,
          4,
          6,
          10,
          1,
          1,
          10,
          18,
          5,
          1,
          23,
          1,
          1,
          1,
          1,
          6,
          2,
          21,
          1,
          43,
          29,
          8,
          2,
          2,
          1,
          1,
          1,
          1,
          11,
          1,
          1,
          2,
          6,
          1,
          2,
          2,
          2,
          1,
          1,
          1,
          1,
          1,
          1,
          3,
          1,
          1,
          1,
          1,
          4,
          1,
          1,
          2,
          1,
          7,
          8,
          2,
          8,
          2,
          7,
          2,
          2,
          2,
          1,
          1,
          1,
          26,
          1,
          2,
          13,
          5,
          2,
          39,
          2,
          5,
          1,
          13,
          2,
          7,
          88,
          2,
          1,
          3,
          1,
          1,
          2,
          2,
          1,
          2,
          1,
          5,
          1,
          3,
          1,
          4,
          1,
          12,
          5,
          1,
          38,
          3,
          2,
          1,
          1,
          2,
          14,
          1,
          3,
          8,
          10,
          3,
          1,
          3,
          3,
          2,
          3,
          2,
          1,
          1,
          2,
          26,
          3,
          1,
          8,
          2,
          23,
          1,
          2,
          2,
          1,
          4,
          1,
          2,
          2,
          1,
          8,
          1,
          1,
          1,
          1,
          4,
          71,
          52,
          14,
          3,
          3,
          9,
          4,
          5,
          11,
          21,
          2,
          9,
          1,
          6,
          1,
          1,
          2,
          1,
          2,
          6,
          2,
          4,
          1,
          1,
          4,
          1,
          1,
          1,
          1,
          2,
          5,
          3,
          1,
          2,
          2,
          3,
          1,
          3,
          1,
          2,
          1,
          1,
          1,
          13,
          34,
          30,
          1,
          1,
          1,
          22,
          1,
          2,
          1,
          1,
          1,
          1,
          1,
          1,
          17,
          2,
          5,
          18,
          2,
          11,
          1,
          1,
          2,
          8,
          1,
          4,
          3,
          23,
          10,
          5,
          1,
          1,
          20,
          1,
          3,
          2,
          16,
          1,
          1,
          1,
          1,
          1,
          1,
          19,
          5,
          6,
          9,
          2,
          1,
          8,
          2,
          1,
          2,
          1,
          1,
          7,
          7,
          20,
          5,
          7,
          9,
          1,
          1,
          1,
          1,
          1,
          2,
          18,
          1,
          2,
          5,
          4,
          3,
          1,
          13,
          1,
          1,
          11,
          1,
          1,
          1,
          47,
          5,
          11,
          3,
          7,
          2,
          2,
          3,
          1,
          1,
          2,
          6,
          1,
          1,
          1,
          4,
          21,
          1,
          1,
          2,
          43,
          23,
          1,
          1,
          3,
          1,
          1,
          79,
          39,
          2,
          2,
          2,
          1,
          2,
          5,
          4,
          2,
          1,
          2,
          1,
          4,
          1,
          3,
          14,
          1,
          4,
          1,
          1,
          2,
          4,
          2,
          1,
          2,
          2,
          1,
          1,
          1,
          2,
          1,
          2,
          3,
          1,
          8,
          1,
          1,
          13,
          1,
          1,
          10,
          1,
          1,
          12,
          1,
          1,
          3,
          1,
          1,
          1,
          1,
          5,
          6,
          12,
          2,
          2,
          1,
          6,
          1,
          1,
          2,
          1,
          3,
          2,
          3,
          6,
          1,
          2,
          2,
          1,
          11,
          2,
          2,
          7,
          1,
          1,
          12,
          1,
          1,
          1,
          7,
          2,
          1,
          9,
          5,
          1,
          8,
          1,
          5,
          2,
          4,
          1,
          2,
          1,
          9,
          4,
          4,
          1,
          1,
          5,
          1,
          1,
          4,
          7,
          1,
          7,
          3,
          1,
          3,
          5,
          8,
          1,
          3,
          1,
          1,
          2,
          1,
          1,
          2,
          1,
          2,
          1,
          1,
          1,
          5,
          1,
          1,
          1,
          19,
          1,
          1,
          1,
          1,
          7,
          6,
          3,
          1,
          2,
          2,
          1,
          4,
          2,
          4,
          2,
          7,
          1,
          1,
          104,
          2,
          1,
          1,
          4,
          2,
          5,
          1,
          1,
          22,
          1,
          4,
          17,
          2,
          1,
          8,
          1,
          1,
          1,
          2,
          7,
          1,
          1,
          1,
          3,
          4,
          2,
          1,
          2,
          1,
          1,
          3,
          1,
          4,
          4,
          2,
          3,
          4,
          5,
          2,
          2,
          1,
          3,
          1,
          1,
          7,
          1,
          1,
          1,
          1,
          1,
          7,
          7,
          1,
          1,
          14,
          72,
          1,
          1,
          1,
          2,
          1,
          2,
          1,
          6,
          9,
          3,
          3,
          28,
          1,
          1,
          25,
          10,
          1,
          86,
          2,
          1,
          1,
          4,
          2,
          1,
          2,
          2,
          2,
          15,
          1,
          32,
          4,
          1,
          4,
          14,
          2,
          3,
          1,
          1,
          1,
          3,
          1,
          3,
          1,
          2,
          3,
          1,
          1,
          2,
          2,
          1,
          2,
          2,
          1,
          5,
          1,
          1,
          3,
          2,
          5,
          3,
          3,
          1,
          27,
          2,
          1,
          1,
          3,
          1,
          34,
          1,
          1,
          5,
          11,
          89,
          8,
          1,
          4,
          1,
          12,
          1,
          17,
          8,
          1,
          1,
          6,
          17,
          64,
          2,
          1,
          2,
          2,
          1,
          1,
          1,
          1,
          2,
          1,
          3,
          1,
          10,
          3,
          1,
          2,
          1,
          8,
          92,
          24,
          5,
          4,
          7,
          1,
          2,
          5,
          19,
          1,
          2,
          90,
          2,
          10,
          7,
          15,
          2,
          5,
          1,
          1,
          2,
          2,
          3,
          1,
          1,
          1,
          1,
          1,
          2,
          1,
          3,
          17,
          2,
          1,
          1,
          1,
          3,
          13,
          8,
          2,
          1,
          2,
          26,
          1,
          8,
          20,
          1,
          1,
          3,
          1,
          1,
          2,
          1,
          1,
          18,
          1,
          1,
          2,
          1,
          2,
          1,
          2,
          1,
          1,
          4,
          42,
          11,
          1,
          3,
          3,
          1,
          38,
          12,
          5,
          58,
          21,
          18,
          2,
          7,
          1,
          7,
          1,
          1,
          14,
          23,
          1,
          1,
          1,
          1,
          1,
          1,
          2,
          1,
          39,
          9,
          1,
          1,
          3,
          1,
          7,
          1,
          1,
          4,
          1,
          2,
          1,
          14,
          4,
          3,
          10,
          13,
          26,
          26,
          2,
          19,
          16,
          2,
          4,
          1,
          6,
          1,
          29,
          3,
          1,
          1,
          24,
          5,
          1,
          6,
          2,
          1,
          1,
          3,
          1,
          1,
          3,
          1,
          2,
          1,
          1,
          1,
          1,
          1,
          1,
          1,
          2,
          3,
          1,
          2,
          2,
          39,
          1,
          4,
          1,
          1,
          1,
          1,
          10,
          2,
          9,
          1,
          2,
          3,
          1,
          1,
          2,
          1,
          2,
          1,
          1,
          1,
          2,
          11,
          1,
          3,
          1,
          9,
          1,
          65,
          2,
          4,
          9,
          1,
          1,
          3,
          3,
          2,
          2,
          7,
          1,
          1,
          2,
          10,
          2,
          1,
          4,
          1,
          2,
          1,
          1,
          3,
          2,
          1,
          1,
          1,
          2,
          1,
          2,
          3,
          1,
          1,
          14,
          2,
          1,
          2,
          1,
          1,
          2,
          1,
          3,
          1,
          1,
          3,
          1,
          1,
          3,
          1,
          20,
          3,
          1,
          2,
          1,
          1,
          1,
          12,
          1,
          1,
          1,
          2,
          1,
          1,
          1,
          1,
          2,
          2,
          2,
          5,
          2,
          2,
          5,
          1,
          1,
          4,
          1,
          6,
          1,
          2,
          1,
          2,
          2,
          5,
          4,
          4,
          1,
          1,
          2,
          2,
          4,
          2,
          6,
          1,
          1,
          1,
          9,
          7,
          25,
          1,
          9,
          11,
          2,
          1,
          2,
          2,
          3,
          2,
          1,
          1,
          2,
          1,
          3,
          4,
          1,
          1,
          90,
          1,
          1,
          45,
          1,
          6,
          1,
          3,
          9,
          1,
          1,
          1,
          1,
          1,
          1,
          4,
          9,
          1,
          46,
          43,
          2,
          5,
          5,
          1,
          1,
          2,
          1,
          1,
          1,
          2,
          5,
          2,
          21,
          1,
          47,
          1,
          1,
          5,
          1,
          2,
          12,
          4,
          31,
          4,
          24,
          2,
          3,
          3,
          1,
          29,
          1,
          10,
          1,
          1,
          1,
          1,
          2,
          1,
          2,
          9,
          1,
          1,
          1,
          2,
          2,
          1,
          2,
          1,
          3,
          19,
          1,
          21,
          1,
          4,
          2,
          3,
          16,
          1,
          2,
          2,
          2,
          1,
          2,
          1,
          1,
          7,
          10
         ],
         "yaxis": "y"
        }
       ],
       "layout": {
        "autosize": true,
        "coloraxis": {
         "colorbar": {
          "title": {
           "text": "Label"
          }
         },
         "colorscale": [
          [
           0,
           "#0d0887"
          ],
          [
           0.1111111111111111,
           "#46039f"
          ],
          [
           0.2222222222222222,
           "#7201a8"
          ],
          [
           0.3333333333333333,
           "#9c179e"
          ],
          [
           0.4444444444444444,
           "#bd3786"
          ],
          [
           0.5555555555555556,
           "#d8576b"
          ],
          [
           0.6666666666666666,
           "#ed7953"
          ],
          [
           0.7777777777777778,
           "#fb9f3a"
          ],
          [
           0.8888888888888888,
           "#fdca26"
          ],
          [
           1,
           "#f0f921"
          ]
         ]
        },
        "legend": {
         "tracegroupgap": 0
        },
        "template": {
         "data": {
          "bar": [
           {
            "error_x": {
             "color": "#2a3f5f"
            },
            "error_y": {
             "color": "#2a3f5f"
            },
            "marker": {
             "line": {
              "color": "#E5ECF6",
              "width": 0.5
             },
             "pattern": {
              "fillmode": "overlay",
              "size": 10,
              "solidity": 0.2
             }
            },
            "type": "bar"
           }
          ],
          "barpolar": [
           {
            "marker": {
             "line": {
              "color": "#E5ECF6",
              "width": 0.5
             },
             "pattern": {
              "fillmode": "overlay",
              "size": 10,
              "solidity": 0.2
             }
            },
            "type": "barpolar"
           }
          ],
          "carpet": [
           {
            "aaxis": {
             "endlinecolor": "#2a3f5f",
             "gridcolor": "white",
             "linecolor": "white",
             "minorgridcolor": "white",
             "startlinecolor": "#2a3f5f"
            },
            "baxis": {
             "endlinecolor": "#2a3f5f",
             "gridcolor": "white",
             "linecolor": "white",
             "minorgridcolor": "white",
             "startlinecolor": "#2a3f5f"
            },
            "type": "carpet"
           }
          ],
          "choropleth": [
           {
            "colorbar": {
             "outlinewidth": 0,
             "ticks": ""
            },
            "type": "choropleth"
           }
          ],
          "contour": [
           {
            "colorbar": {
             "outlinewidth": 0,
             "ticks": ""
            },
            "colorscale": [
             [
              0,
              "#0d0887"
             ],
             [
              0.1111111111111111,
              "#46039f"
             ],
             [
              0.2222222222222222,
              "#7201a8"
             ],
             [
              0.3333333333333333,
              "#9c179e"
             ],
             [
              0.4444444444444444,
              "#bd3786"
             ],
             [
              0.5555555555555556,
              "#d8576b"
             ],
             [
              0.6666666666666666,
              "#ed7953"
             ],
             [
              0.7777777777777778,
              "#fb9f3a"
             ],
             [
              0.8888888888888888,
              "#fdca26"
             ],
             [
              1,
              "#f0f921"
             ]
            ],
            "type": "contour"
           }
          ],
          "contourcarpet": [
           {
            "colorbar": {
             "outlinewidth": 0,
             "ticks": ""
            },
            "type": "contourcarpet"
           }
          ],
          "heatmap": [
           {
            "colorbar": {
             "outlinewidth": 0,
             "ticks": ""
            },
            "colorscale": [
             [
              0,
              "#0d0887"
             ],
             [
              0.1111111111111111,
              "#46039f"
             ],
             [
              0.2222222222222222,
              "#7201a8"
             ],
             [
              0.3333333333333333,
              "#9c179e"
             ],
             [
              0.4444444444444444,
              "#bd3786"
             ],
             [
              0.5555555555555556,
              "#d8576b"
             ],
             [
              0.6666666666666666,
              "#ed7953"
             ],
             [
              0.7777777777777778,
              "#fb9f3a"
             ],
             [
              0.8888888888888888,
              "#fdca26"
             ],
             [
              1,
              "#f0f921"
             ]
            ],
            "type": "heatmap"
           }
          ],
          "heatmapgl": [
           {
            "colorbar": {
             "outlinewidth": 0,
             "ticks": ""
            },
            "colorscale": [
             [
              0,
              "#0d0887"
             ],
             [
              0.1111111111111111,
              "#46039f"
             ],
             [
              0.2222222222222222,
              "#7201a8"
             ],
             [
              0.3333333333333333,
              "#9c179e"
             ],
             [
              0.4444444444444444,
              "#bd3786"
             ],
             [
              0.5555555555555556,
              "#d8576b"
             ],
             [
              0.6666666666666666,
              "#ed7953"
             ],
             [
              0.7777777777777778,
              "#fb9f3a"
             ],
             [
              0.8888888888888888,
              "#fdca26"
             ],
             [
              1,
              "#f0f921"
             ]
            ],
            "type": "heatmapgl"
           }
          ],
          "histogram": [
           {
            "marker": {
             "pattern": {
              "fillmode": "overlay",
              "size": 10,
              "solidity": 0.2
             }
            },
            "type": "histogram"
           }
          ],
          "histogram2d": [
           {
            "colorbar": {
             "outlinewidth": 0,
             "ticks": ""
            },
            "colorscale": [
             [
              0,
              "#0d0887"
             ],
             [
              0.1111111111111111,
              "#46039f"
             ],
             [
              0.2222222222222222,
              "#7201a8"
             ],
             [
              0.3333333333333333,
              "#9c179e"
             ],
             [
              0.4444444444444444,
              "#bd3786"
             ],
             [
              0.5555555555555556,
              "#d8576b"
             ],
             [
              0.6666666666666666,
              "#ed7953"
             ],
             [
              0.7777777777777778,
              "#fb9f3a"
             ],
             [
              0.8888888888888888,
              "#fdca26"
             ],
             [
              1,
              "#f0f921"
             ]
            ],
            "type": "histogram2d"
           }
          ],
          "histogram2dcontour": [
           {
            "colorbar": {
             "outlinewidth": 0,
             "ticks": ""
            },
            "colorscale": [
             [
              0,
              "#0d0887"
             ],
             [
              0.1111111111111111,
              "#46039f"
             ],
             [
              0.2222222222222222,
              "#7201a8"
             ],
             [
              0.3333333333333333,
              "#9c179e"
             ],
             [
              0.4444444444444444,
              "#bd3786"
             ],
             [
              0.5555555555555556,
              "#d8576b"
             ],
             [
              0.6666666666666666,
              "#ed7953"
             ],
             [
              0.7777777777777778,
              "#fb9f3a"
             ],
             [
              0.8888888888888888,
              "#fdca26"
             ],
             [
              1,
              "#f0f921"
             ]
            ],
            "type": "histogram2dcontour"
           }
          ],
          "mesh3d": [
           {
            "colorbar": {
             "outlinewidth": 0,
             "ticks": ""
            },
            "type": "mesh3d"
           }
          ],
          "parcoords": [
           {
            "line": {
             "colorbar": {
              "outlinewidth": 0,
              "ticks": ""
             }
            },
            "type": "parcoords"
           }
          ],
          "pie": [
           {
            "automargin": true,
            "type": "pie"
           }
          ],
          "scatter": [
           {
            "fillpattern": {
             "fillmode": "overlay",
             "size": 10,
             "solidity": 0.2
            },
            "type": "scatter"
           }
          ],
          "scatter3d": [
           {
            "line": {
             "colorbar": {
              "outlinewidth": 0,
              "ticks": ""
             }
            },
            "marker": {
             "colorbar": {
              "outlinewidth": 0,
              "ticks": ""
             }
            },
            "type": "scatter3d"
           }
          ],
          "scattercarpet": [
           {
            "marker": {
             "colorbar": {
              "outlinewidth": 0,
              "ticks": ""
             }
            },
            "type": "scattercarpet"
           }
          ],
          "scattergeo": [
           {
            "marker": {
             "colorbar": {
              "outlinewidth": 0,
              "ticks": ""
             }
            },
            "type": "scattergeo"
           }
          ],
          "scattergl": [
           {
            "marker": {
             "colorbar": {
              "outlinewidth": 0,
              "ticks": ""
             }
            },
            "type": "scattergl"
           }
          ],
          "scattermapbox": [
           {
            "marker": {
             "colorbar": {
              "outlinewidth": 0,
              "ticks": ""
             }
            },
            "type": "scattermapbox"
           }
          ],
          "scatterpolar": [
           {
            "marker": {
             "colorbar": {
              "outlinewidth": 0,
              "ticks": ""
             }
            },
            "type": "scatterpolar"
           }
          ],
          "scatterpolargl": [
           {
            "marker": {
             "colorbar": {
              "outlinewidth": 0,
              "ticks": ""
             }
            },
            "type": "scatterpolargl"
           }
          ],
          "scatterternary": [
           {
            "marker": {
             "colorbar": {
              "outlinewidth": 0,
              "ticks": ""
             }
            },
            "type": "scatterternary"
           }
          ],
          "surface": [
           {
            "colorbar": {
             "outlinewidth": 0,
             "ticks": ""
            },
            "colorscale": [
             [
              0,
              "#0d0887"
             ],
             [
              0.1111111111111111,
              "#46039f"
             ],
             [
              0.2222222222222222,
              "#7201a8"
             ],
             [
              0.3333333333333333,
              "#9c179e"
             ],
             [
              0.4444444444444444,
              "#bd3786"
             ],
             [
              0.5555555555555556,
              "#d8576b"
             ],
             [
              0.6666666666666666,
              "#ed7953"
             ],
             [
              0.7777777777777778,
              "#fb9f3a"
             ],
             [
              0.8888888888888888,
              "#fdca26"
             ],
             [
              1,
              "#f0f921"
             ]
            ],
            "type": "surface"
           }
          ],
          "table": [
           {
            "cells": {
             "fill": {
              "color": "#EBF0F8"
             },
             "line": {
              "color": "white"
             }
            },
            "header": {
             "fill": {
              "color": "#C8D4E3"
             },
             "line": {
              "color": "white"
             }
            },
            "type": "table"
           }
          ]
         },
         "layout": {
          "annotationdefaults": {
           "arrowcolor": "#2a3f5f",
           "arrowhead": 0,
           "arrowwidth": 1
          },
          "autotypenumbers": "strict",
          "coloraxis": {
           "colorbar": {
            "outlinewidth": 0,
            "ticks": ""
           }
          },
          "colorscale": {
           "diverging": [
            [
             0,
             "#8e0152"
            ],
            [
             0.1,
             "#c51b7d"
            ],
            [
             0.2,
             "#de77ae"
            ],
            [
             0.3,
             "#f1b6da"
            ],
            [
             0.4,
             "#fde0ef"
            ],
            [
             0.5,
             "#f7f7f7"
            ],
            [
             0.6,
             "#e6f5d0"
            ],
            [
             0.7,
             "#b8e186"
            ],
            [
             0.8,
             "#7fbc41"
            ],
            [
             0.9,
             "#4d9221"
            ],
            [
             1,
             "#276419"
            ]
           ],
           "sequential": [
            [
             0,
             "#0d0887"
            ],
            [
             0.1111111111111111,
             "#46039f"
            ],
            [
             0.2222222222222222,
             "#7201a8"
            ],
            [
             0.3333333333333333,
             "#9c179e"
            ],
            [
             0.4444444444444444,
             "#bd3786"
            ],
            [
             0.5555555555555556,
             "#d8576b"
            ],
            [
             0.6666666666666666,
             "#ed7953"
            ],
            [
             0.7777777777777778,
             "#fb9f3a"
            ],
            [
             0.8888888888888888,
             "#fdca26"
            ],
            [
             1,
             "#f0f921"
            ]
           ],
           "sequentialminus": [
            [
             0,
             "#0d0887"
            ],
            [
             0.1111111111111111,
             "#46039f"
            ],
            [
             0.2222222222222222,
             "#7201a8"
            ],
            [
             0.3333333333333333,
             "#9c179e"
            ],
            [
             0.4444444444444444,
             "#bd3786"
            ],
            [
             0.5555555555555556,
             "#d8576b"
            ],
            [
             0.6666666666666666,
             "#ed7953"
            ],
            [
             0.7777777777777778,
             "#fb9f3a"
            ],
            [
             0.8888888888888888,
             "#fdca26"
            ],
            [
             1,
             "#f0f921"
            ]
           ]
          },
          "colorway": [
           "#636efa",
           "#EF553B",
           "#00cc96",
           "#ab63fa",
           "#FFA15A",
           "#19d3f3",
           "#FF6692",
           "#B6E880",
           "#FF97FF",
           "#FECB52"
          ],
          "font": {
           "color": "#2a3f5f"
          },
          "geo": {
           "bgcolor": "white",
           "lakecolor": "white",
           "landcolor": "#E5ECF6",
           "showlakes": true,
           "showland": true,
           "subunitcolor": "white"
          },
          "hoverlabel": {
           "align": "left"
          },
          "hovermode": "closest",
          "mapbox": {
           "style": "light"
          },
          "paper_bgcolor": "white",
          "plot_bgcolor": "#E5ECF6",
          "polar": {
           "angularaxis": {
            "gridcolor": "white",
            "linecolor": "white",
            "ticks": ""
           },
           "bgcolor": "#E5ECF6",
           "radialaxis": {
            "gridcolor": "white",
            "linecolor": "white",
            "ticks": ""
           }
          },
          "scene": {
           "xaxis": {
            "backgroundcolor": "#E5ECF6",
            "gridcolor": "white",
            "gridwidth": 2,
            "linecolor": "white",
            "showbackground": true,
            "ticks": "",
            "zerolinecolor": "white"
           },
           "yaxis": {
            "backgroundcolor": "#E5ECF6",
            "gridcolor": "white",
            "gridwidth": 2,
            "linecolor": "white",
            "showbackground": true,
            "ticks": "",
            "zerolinecolor": "white"
           },
           "zaxis": {
            "backgroundcolor": "#E5ECF6",
            "gridcolor": "white",
            "gridwidth": 2,
            "linecolor": "white",
            "showbackground": true,
            "ticks": "",
            "zerolinecolor": "white"
           }
          },
          "shapedefaults": {
           "line": {
            "color": "#2a3f5f"
           }
          },
          "ternary": {
           "aaxis": {
            "gridcolor": "white",
            "linecolor": "white",
            "ticks": ""
           },
           "baxis": {
            "gridcolor": "white",
            "linecolor": "white",
            "ticks": ""
           },
           "bgcolor": "#E5ECF6",
           "caxis": {
            "gridcolor": "white",
            "linecolor": "white",
            "ticks": ""
           }
          },
          "title": {
           "x": 0.05
          },
          "xaxis": {
           "automargin": true,
           "gridcolor": "white",
           "linecolor": "white",
           "ticks": "",
           "title": {
            "standoff": 15
           },
           "zerolinecolor": "white",
           "zerolinewidth": 2
          },
          "yaxis": {
           "automargin": true,
           "gridcolor": "white",
           "linecolor": "white",
           "ticks": "",
           "title": {
            "standoff": 15
           },
           "zerolinecolor": "white",
           "zerolinewidth": 2
          }
         }
        },
        "title": {
         "text": "Review Length vs Word Count"
        },
        "xaxis": {
         "anchor": "y",
         "autorange": true,
         "domain": [
          0,
          1
         ],
         "range": [
          -28.14244586306171,
          528.1424458630618
         ],
         "title": {
          "text": "Review Length"
         },
         "type": "linear"
        },
        "yaxis": {
         "anchor": "x",
         "autorange": true,
         "domain": [
          0,
          1
         ],
         "range": [
          -7.5,
          112.5
         ],
         "title": {
          "text": "Word Count"
         },
         "type": "linear"
        }
       }
      },
      "image/png": "[encoded data removed]",
      "text/html": [
       "<div>                            <div id=\"8ddf5994-9991-4c97-9e39-1d1ee46459dc\" class=\"plotly-graph-div\" style=\"height:525px; width:100%;\"></div>            <script type=\"text/javascript\">                require([\"plotly\"], function(Plotly) {                    window.PLOTLYENV=window.PLOTLYENV || {};                                    if (document.getElementById(\"8ddf5994-9991-4c97-9e39-1d1ee46459dc\")) {                    Plotly.newPlot(                        \"8ddf5994-9991-4c97-9e39-1d1ee46459dc\",                        [{\"customdata\":[[\"Op\"],[\"Good\"],[\"My paytm wallet app is open \"],[\"Super\"],[\"The best\"],[\"I referred a friend but no cash back....\"],[\"osm i love you paytm\"],[\"One of the worst payment app, they block\\u002f freeze your wallet money. I did multiple times kyc still they hold my paytm wallet amount. Their customer care executives have no idea about the issue. They just know one thing kindly update ur app or update kyc details. After completing the kyc still the issue exists. It is unacceptable from a company like paytm.\"],[\"Awesome \"],[\"very easy to use\"],[\"It's very good\"],[\"Nice\"],[\"Great\"],[\"Most imstal\"],[\"Superb\"],[\"nice\"],[\"It is the very good and features is very good and online ranking is very best and procedure is very6 easy of online payment\"],[\"Good app fir cashback\"],[\"Nice app for payment \"],[\"Useless app don't download this app\"],[\"Add BBMP PROPERTY TAX OPTION and Bangalore Traffic Fines ....\"],[\"happy\"],[\"Good\"],[\"All cashback looted from customer in terms of IPO listing\"],[\"I am very upset to this app It take very much time to make a single recharge .\"],[\"Very nice good all app\"],[\"Good\"],[\"Too many marketing notifications and no option to turn them of Edit: Also thanks to your stupid worthless IPO, my money is gone.\"],[\"Good\"],[\"Amazing\"],[\"Nice\"],[\"Oombithanam\"],[\"my money about the wrongly sent\"],[\"good service\"],[\"Why there is no email id for customer support I am using paytm for last 8 years. Nowadays become very pathetic\"],[\"Great\"],[\"paytm has looses there credit, cant able to connect customer care,as my kyc had done then after i cant transit, i had deactive all transaction with paytm & what about money in my paytm wallet...Gone forget it now , so you guys beware....\"],[\"Hi paytm team I'm not able to transfer the amount from dhani app to paytm wallet can u people solve my problem with the wallet and .do the needful\"],[\"Worst app i have ever used is Paytm\"],[\"Very good\"],[\"Very good\"],[\"Good\"],[\"Excellent\"],[\"good\"],[\"awesome\"],[\"Till date i have received 3000 cashback. Better than Google pay.\"],[\"good\"],[\"nice\"],[\"awesome App\"],[\"Very useful and easy to operate\"],[\"Awesome\"],[\"vry good\"],[\"Very good\"],[\"Very nice\"],[\"Super\"],[\"good\"],[\"amazing\"],[\"nice\"],[\"good\"],[\"Good\"],[\"Hangs a lot.\"],[\"Good\"],[\"good\"],[\"excellent\"],[\"Nice\"],[\"its really helpfulll app\"],[\"better\"],[\"Better\"],[\"Best app.\"],[\"Good\"],[\"Fraud company invester big loss in ipo\"],[\"Worst IPO in my life.. never trust paytm\"],[\"Superb app... \"],[\"Refference done , but no reward Excellent work\"],[\"Very nice\"],[\"Lost money in paytm  ipo... Overvalued shares\"],[\"Excellent app\"],[\"Nice app\"],[\"Nice service\"],[\"Normal\"],[\"Good\"],[\"ok\"],[\"Been using this for over a year but haven't received any cashback and the vouchers are literal trash. It's good for only one thing paying money\"],[\"Jkaasssss\"],[\"Very Nice\"],[\"No I have raised several tickets request, they aren't bothering to help me\"],[\"Unfortunately paytm has stopped msg\"],[\"Fabulous experience\"],[\"I was applying to paytm credit card and when I pushed the button it's showing me please update your paytm app, but my app is already updated, I couldn't apply credit card, I don't know what's is the reason.\"],[\"Exilent Good\"],[\"plan information was not right\"],[\"Good\"],[\"M very happy using this app... This app is very easy to use\"],[\"Nice app\"],[\"Plz don't download this app trust me\"],[\"Very bad customer care service. Trying to update mobile number in application from last 3 days no support from paytm till now even send fake links where option for update isn't available. It's been a month and you guys are pathetic today your chat support section told me to login via new number and right now I'm unable to login my account. No customer care service available on call only IVR working and sending fake links. There isn't any option of talking to a person working for paytm.\"],[\"Cashback issue\"],[\"Nice\"],[\"Best recharge app\"],[\"Good\"],[\"best\"],[\"super service\"],[\"v good\"],[\"Sehaj\"],[\"No working\"],[\"good\"],[\"Fake company useless sound box\"],[\"nice\"],[\"hassel free payments\"],[\"Super\"],[\"Give me some money\"],[\"Good\"],[\"Your app very very nice app very very thank you this app\"],[\"Shivaji bhai haky bhai all\"],[\"Nice\"],[\"My amount is stuck while sending paytm wallet to bank is not credit last 3 days..still there is no action taken by paytm bank department.so much dissapointed. Avoid this paytm app use another platform is much better option.\"],[\"very good aapp\"],[\"Worst app\"],[\"Good\"],[\"good\"],[\"im k\"],[\"paytm IS A FRAUD COMPANY THEY MENUPLATE YOU BY THIER HIDDEN CHARGES AND CONDITIONS\"],[\"Ok\"],[\"Very good service\"],[\"Worst company never thought IPO 25% crash hoga\"],[\"Very wast service i am invite not receive cash back\"],[\"FOR GET PASWORD\"],[\"Nice\"],[\"Very useful app\"],[\"Jai shree ram\"],[\"Too good\"],[\"Very good app\"],[\"Best apps\"],[\"nic\"],[\"Thank\"],[\"Very nice\"],[\"Phonpe is simply a data stealing scam. And when it comes to customer support, it's a total trash. They just have bots in the support chat.\"],[\"not cashback available\"],[\"Good\"],[\"I wish you to u provide cash back\"],[\"Nice app\"],[\"Its good. But i am not able to use the paylater option. Its showing currently not available i am a user since yrs.\"],[\"Good\"],[\"good service\"],[\"Nic app\"],[\"Exilent\"],[\"I love you paytm\"],[\"nice\"],[\"Recharge quick\"],[\"Awesome\\u008f experience \"],[\"wow\"],[\"Not receiving otp for payment and wallet links\"],[\"Awesome\"],[\"Good\"],[\"Awesome \"],[\"Nice\"],[\"Excellent ! Easy-to-use !!\"],[\"Worst app i dont like this app paytm block my account without any reason i have mobile phone shop in my village and also i have doing intraday trading so i will get daily small amount so the app is detect that user is suspicious and my all bussiness running on this paytm now its useless customer service is not replying not also in mail then what can i do now\"],[\"This aap is very bad please don't install online weast off time because don't complete your kyc i have faced Error problem this aap i give this aap 00000 ... Star just weast off time \\u00f0\\u0178\\u02dc\\u00a0\\u00f0\\u0178\\u02dc\\u00a0\\u00f0\\u0178\\u02dc\\u00a0\\u00f0\\u0178\\u02dc\\u00a0\\u00f0\\u0178\\u02dc\\u00a0\\u00f0\\u0178\\u02dc\\u00a0\\u00f0\\u0178\\u02dc\\u00a0\\u00f0\\u0178\\u02dc\\u00a0\\u00f0\\u0178\\u02dc\\u00a0\\u00f0\\u0178\\u02dc\\u00a0\\u00f0\\u0178\\u02dc\\u00a0\\u00f0\\u0178\\u02dc\\u00a0\\u00f0\\u0178\\u00a4\\u00ac\\u00f0\\u0178\\u00a4\\u00ac\\u00f0\\u0178\\u00a4\\u00ac\\u00f0\\u0178\\u00a4\\u00acand don't spoort help centre\"],[\"Very cool app.. it's future of Indian upi payment..easy to use.. Just download it\"],[\"Greedy people ....\"],[\"Bahut hi sundar\"],[\"One of the favourite and best tap up app\"],[\"Help line no working\"],[\"No words to describe..Quality service\"],[\"I have a big loss on ipo now i hate paytm\"],[\"Money deduct from my wallet but not recived..... 1 week ago.. Jitna pesa lia tha utne p to list krte ******\"],[\"Very good\"],[\"Bad experience because your customer are busy more time\"],[\"Good\"],[\"Too less time taking good one.\"],[\"good\"],[\"Nice\"],[\"very good\"],[\"Super\"],[\"Good work\"],[\"Very very bad after latest updation\"],[\"NICE APP\"],[\"cash back plz cash\"],[\"Good\"],[\"Useful\"],[\"Best app for cashbach\"],[\"Super\"],[\"Best\"],[\"Goof\"],[\"Op\"],[\"well opportunity\"],[\"It is not working .\"],[\"Work properly ....\"],[\"gd\"],[\"Sahi h.\"],[\"Good nice\"],[\"Very very nice\"],[\"Nce\"],[\"very well app\"],[\"Good\"],[\"Super paytm\"],[\"good\"],[\"hllo\"],[\"paytm\"],[\"I didn't get referal amount even after my friend's first payment. Bad service\"],[\"Usage is such a hassle. Why do I need to register to even pay simple bills? You require so many permissions like access to photos, videos, phone calls, etc with no regards to privacy.\"],[\"Not using paytm ever. So over valued IPO launched and customer like us who trusted paytm and invested our money had to pay price and lost most of our money.\"],[\"D2\"],[\"Better\"],[\"good\"],[\"After watching the founder on CNBC TV with his arrogance after the IPO day disaster, I'm done being associated with this app.\"],[\"Good \"],[\"Nice app\"],[\"Ok\"],[\"Good\"],[\"good\"],[\"nice\"],[\"Wonderful\"],[\"Best\"],[\"very good app for insurance payment and very easily buying and payment of premium of insurance policy\"],[\"good app\"],[\"paytm perfect online transfer payment\"],[\"Worst update Not able to add money to paytm account using debit card. The option is not there.\"],[\"Nice app\"],[\"App does not have good UI and not easy to navigate.\"],[\"Okk\"],[\"Good\"],[\"B ehv\"],[\"Chor company neither app nor share worked out\"],[\"Easy\"],[\"Good online payment service\"],[\"very good use\"],[\"My transaction on pending. What a pathetic app i have. Guys don't use this for banking transactions. Customer service are not available on\"],[\"Worst app neither they help just take our money away\"],[\"this app is very friendly\"],[\"Nice\"],[\"Good\"],[\"paytm is a very good you all of you download it and link the account you are better than gpay\"],[\"Pathetic\"],[\"The Fastest one\"],[\"very nice\"],[\"good but cut the paytm point thing instead give minimum cashback if possible. That's more catchy\"],[\"Nice\"],[\"Good \"],[\"great\"],[\"Good\"],[\"nizzz\"],[\"Good\"],[\"I'm giving 0star for paytm It's not best listing price according to the name of paytm .... Bed Experience\"],[\"Good Option in paytm.Nice app\"],[\"very good App security and safety\"],[\"NICE EXPERIENCE WITH VERY SMOOTH AND EASY FOR TRANSFER\"],[\"Good working\"],[\"Excellent\"],[\"Send Mridula for a night take 2150 extra\"],[\"Bad experience\"],[\"goog\"],[\"Nice app\"],[\"nic\"],[\"Good\"],[\"500 ka mall 2100 me bechta hai.\"],[\"Backwas. Looted our money. Uninstalljbg this app\"],[\"I am giving one because it has google play store redeem code opition I get so loss fill my loss\"],[\"More issues paytm not receive\"],[\"My money is not settled in Bank\"],[\"For scamming retail investors and making big investors rich\"],[\"Good\"],[\"Oowsm \"],[\"Superb\"],[\"Nic\"],[\"Bc\"],[\"AwesomeAwesome experiance\"],[\"From last one week I'm trying to creat current account for my business but no one is responding\"],[\"wonderful\"],[\"excellent service\"],[\"paytm IPO was a scam\"],[\"Not give the coupon\"],[\"Hmmmm exlent work\"],[\"nic\"],[\"You theft my 5000 in 1day Will never use it for any thing.\"],[\"Good\"],[\" breh\"],[\"Fraudulent IPO launched by paytm.. 30% loss down on first day...\"],[\"super \"],[\"Good\"],[\"Enjoy\"],[\"Pathetic service from paytm, provided cuatomer care numbers are not working properly, even not getting Connected with customer support staff. Every time IVR saying they will send a message and raise query there, is it a customer care, need proper customer care email id and contact number\"],[\"This app so good app.\"],[\"Bhai Sara Cashback wapas leliya mera IPO mai invest karwa ke \"],[\"Simply loved it\"],[\"Some time very good some time problems\"],[\"Worst ipo.......\"],[\"Not bad\"],[\"Very good app\"],[\"wah\"],[\"good\"],[\"Very Easy\"],[\"You let me down in ipo\"],[\"best\"],[\"Nice\"],[\"good\"],[\"Good ilove this app\"],[\"mera paisa dubba diya ...... jitna cashback diya tha , us se b 10 guna jaida IPO me ghatta daal diya\"],[\"Godd\"],[\"good\"],[\"Superb Ko\"],[\"I have trubled . There are some payments by both Phoneoe & UPI BHIM SBI Pay, for the same transaction. But I have NOT refunded the amount paid by paytm or SBI Pay. Please Refund my amount paid excess for the same transaction....\"],[\"very prompt and good for all transactions,but I am not able to deactivate my paytm wallet automatic money service since last 15 days.\"],[\"Super\"],[\"Excellent\"],[\"paytm wolet problem\"],[\"good\"],[\"Good\"],[\"paytm UPI may land you in great trouble. I was 500 km away from my home where I paid a shopkeeper through QR scan. Money got stuck. After 2 days when I came back home, the amount was transferred to his account. Dear Paytm, should I travel 500 km to claim the money from shopkeeper? There should be only success or failed payment, there should not be any processing payment. After this mishap, I have started using paytm UPI.\"],[\"Very bad app I booked a cylinder on paytm on 14 Nov and it has not came till now and it is showing no booking found and I am also can't able to track and my money is gone.\"],[\"Good experience\"],[\"Not use\"],[\"Nice app\"],[\"Wonderful\"],[\"Best app\"],[\"Fast transactions with many features.\"],[\"Very nice payment system \"],[\"Very naice\"],[\"Good\"],[\"Well done\"],[\"nice\"],[\"Good payment fast process\"],[\"Good\"],[\"Best most powerful\"],[\"Worst service . No customers service very bad paytm guys pla dont use paytm\"],[\"Noopp\"],[\"Akash Kumar Love u\"],[\"excellent\"],[\"Good\"],[\"Good app\"],[\"Lov it..better than other\"],[\"Ch. Srinu.\"],[\"Nice\"],[\"Good performance\"],[\"Best app\"],[\"good\"],[\"good\"],[\"Best\"],[\"fast recharge\"],[\"Nice\"],[\"Lag problem\"],[\"I love paytm\"],[\"Nice\"],[\"Bahut achcha work karta hai this is amazing\"],[\"Best\"],[\"Awsome\"],[\"Fantastic and please give the only cash back don't want cash point's system\"],[\"Good\"],[\"Good\"],[\"I love using this app .. this is amazing ..\"],[\"Brilliant\"],[\"Ipo\"],[\"very quick n easy to operate.Also reminds me to pay on time.\"],[\"Nice\"],[\"Nice \"],[\"very good application\"],[\"Good\"],[\"Better\"],[\"Good\"],[\"op\"],[\"Md Ali official paytm safe\"],[\"Easy n safe way for payment...\"],[\"Bahut badhiya app h..koii b .transaction kro scratch card jaroor milta h.\"],[\"Awesoke app\"],[\"Veey fast\"],[\"hh\"],[\"Beast App Eran I love you\"],[\"bruh\"],[\"Good\"],[\"Thanks paytm\"],[\"nic\"],[\"very nice activity\"],[\"Nice app\"],[\"love this aap\"],[\"Nice app essay to understand people\"],[\"supar\"],[\"Excellent app\"],[\"Amazing application!\"],[\"best\"],[\"This app is good but ipo is not so don't download\"],[\"Useless app\"],[\"super working\"],[\"Very easy and quick payment by paytm\"],[\"Good\"],[\"Chhachha\"],[\"Why stock of paytm has been listed at heavy discount on BSE\"],[\"Bad\"],[\"Nice\"],[\"Good\"],[\"Mere akanut me 20000 dal do peeeee\"],[\"late recharge\"],[\"Best\"],[\"IPO liya tha , abhi mein chumat mein hu\"],[\"Amazing payment facilities. Thanks paytm\"],[\"good\"],[\"Customer care service is also not responding properly\"],[\"nice\"],[\"Good and reliable for recharge\"],[\"V good\"],[\"Worst customer service ever\"],[\"Excellent\"],[\"very good\"],[\"Best \"],[\"Logon ka paisa khagaya -22% what a joke shameless\"],[\"best for Garib log \"],[\"I like paytm thanks...\"],[\"Superb\"],[\"Supar\"],[\"India ki no1 frod company\"],[\"Good\"],[\"Nice\"],[\"most use full app\"],[\"Took all my cashback in their IPO\"],[\"Good\"],[\"User friendly app..... I have love it\"],[\"Very very nice\"],[\"nice\"],[\"Worst app ever.\"],[\"PayTm is Incredible and Exceptional...!!!\"],[\"Third class app not support to any advice\"],[\"good\"],[\"Very good ptm\"],[\"Good\"],[\"Super\"],[\"so good\"],[\"Good\"],[\"good\"],[\"Nice app\"],[\"super\"],[\"good app\"],[\"Seamless\"],[\"mf\"],[\"Good\"],[\"Timely ,accuracy,wel Reminders Highly Secure.\"],[\"nise\"],[\"Superb\"],[\"Good\"],[\"S CF CD FB my so en hug db hrs DVD EC rec'd this de cut sach in dense\"],[\"Nise\"],[\"good\"],[\"Help\"],[\"Good\"],[\"Improved a lot. Congratulations to paytm team.\"],[\"Fast and good payment , recharge\"],[\"sarvice very good\"],[\"superb\"],[\"very nice\"],[\"ok aa\"],[\"good\"],[\"Good service in app\"],[\"Sa1man md\"],[\"Of 1000 FCC 66\"],[\"Nice app\"],[\"Good transactions fast payment Very good beautiful\"],[\"Good\"],[\"SUJAN\"],[\"Koi phoneoe use mat karna ek baar kyc hone baad bhi baar baar kyc update mangte hai or ac block kar dete hai... Or paise fas jate hai mere sath dusri baar ho raha hai ab to 4 baar adhar card upload kar chuka hu baar baar reject kar dete hai or 5 ve baar to kuch upload he nhi ho raha custmer care walle bhi koi help nhi kar rahe hai... Paise bhi fase pade hai... Mehnat ki kamai bhi gai or time bhi khrab hua or business par bhi fark pda alag se... Ghatiya log ghatiya ap. Ticket he dete raho bus\"],[\"Good aap\"],[\"Awesome\"],[\"Fast\"],[\"This is used app\"],[\"Very bad\"],[\"I am not receiving OTP\"],[\"Good\"],[\"Good\"],[\"Now days I am finding difficulties in doing payment using QR scanner, as I scan any QR, it says no internet connectivity\"],[\"Sanjay\"],[\"All in one app\"],[\"Crypto currency exchange should be there..Many user has a BRAVE BROWSER BAT so think of implementing it..\"],[\"Fraud app\"],[\"good\"],[\"very good app,but I didn't get credit card\"],[\"Db\"],[\"Good\"],[\":)\"],[\"Good experience\"],[\"Very useful and time to pay money\"],[\":D\"],[\"Good\"],[\"good\"],[\"very fast service\"],[\"Really good user interface....\"],[\"ViNOD Tulsi\"],[\"ok\"],[\"Good app\"],[\"Amazing\"],[\"nice\"],[\"Very Nice App\"],[\"Perfectly\"],[\"happy to use it.\\u00f0\\u0178\\u02dc\\u20ac\\u00f0\\u0178\\u02dc\\u20ac\"],[\"poor cash back s\"],[\"Very nice\"],[\"Fasted payment service\"],[\"Cashback nahi mila kabhi\"],[\"most of the time error\"],[\"Good app\"],[\"Nice app\"],[\"Ok\"],[\"Most useful app\"],[\"Superb\"],[\"Extrasinary\"],[\"paytm postpaid credit so good thank you\"],[\"Good\"],[\"Nice\"],[\"Good\"],[\"Gud\"],[\"Good \"],[\"Superb app... Other than paytm, google pey...\"],[\"Surinder Yadav Jammu and Kashmir cemisen agent\"],[\"Good\"],[\"Excellent\"],[\"Bhai isko use karlo Mujhe iska ipo allot hua heh 20percent loss meh hu\"],[\"paytm has been horrific since the last 10 days. Unable to resolve a simple technical issue at their end. I'm unable to make any transaction, wallet money is stuck, fastag is not working so I have to wait longer in queues and also pay penalty for no fault of mine. Why can Paytm think beyond the useless and so called 24x7 support which can't solve a simple issue since 10 days!!! Pathetic!\"],[\"Best\"],[\"good\"],[\"VIMALKUMAR\"],[\"Worst service\"],[\"Good\"],[\"v good\"],[\"Good\"],[\"Excellent no words to express superb\"],[\"Idiots I Have Suffered 25% Loss In Your IPO\"],[\"good working app\"],[\"Excellent best work\"],[\"Today i paid rs 50 to recharge for bsnl network and its not recharged this is the second time happened in this month. it's a utter worst experience\"],[\"Good\"],[\"good\"],[\"Worst service and issue not resolved .. you r helpless if you have any problem regarding paytm app or customer care always didn't any response\"],[\"App even after reinstallation keeps stopping. Kindly solve the problem\"],[\"Good\"],[\"The worst experience with paytm. I have been trying to redeem amount from paytm Fixed deposit since 3 days and every time the transaction is failing. I reached out to customer support and they reverted by saying that the issue is resolved. But still the transaction is failing. I need to redeem my amount from fixed deposit immediately and Paytm is not supporting in this case. Will never ever try to put my amount in Paytm Fixed Deposit in future. Never use paytm for banking services.\"],[\"v good\"],[\"Good\"],[\"Super\"],[\"Cannot open paytm postpaid...\"],[\"Very useful \"],[\"good\"],[\"Good application\"],[\"Bahut Achcha\"],[\"Good receive\"],[\"Too much failures compared with other payment services and causes so many problems for me\"],[\"Super\"],[\"Such overvalued listing for a company that has debt of nearly 70 million USD. You scammed people of their hard earned money. No guidance issued by SEBI as well. Such a crook!\"],[\"Very Very nice APP\"],[\"Good\"],[\"Super smooth experience..thanks paytm\"],[\"Stupid paytm not at all login my account, no customer support for this paytm\"],[\"Good business\"],[\"Good payment aap\"],[\"nic\"],[\"nice\"],[\"Nice\"],[\"GOOD PAYMENT APP\"],[\"op\"],[\"Worst customer support\"],[\"Good\"],[\"Vvvvvvvvvv good\"],[\"Superb overall experience\"],[\"Cool\"],[\"kk\"],[\"Nyc mam\"],[\"Very good\"],[\"Good\"],[\"Very good\"],[\"Smooth experience\"],[\"Good\"],[\"Best best and best app\"],[\"supper\"],[\"Papa1234\"],[\"Hindi ko to\"],[\"Just unbelievable\"],[\"V nice and good app\"],[\"Superb performance \\u00f0\\u0178\\u00a4\\u009d\\u00f0\\u0178\\u201d\\u00a5\"],[\"nice transaction app's\"],[\"Good\"],[\"It's Proven that this is looting Indian s money in ipo Premium just like that support ed by ruling party looting thousands of crores BLOODY BLOOD SUCKERS\"],[\"Worsttttt app\"],[\"super\"],[\"Good\"],[\"Very useful app\"],[\"Fabulous\"],[\"Sali chor company hai sab ka ipo mai paisa loot liya aaje ya aap use karna baad kar do aise chor company pa bharosa mat karo saale apne paise lake moj lar rahe hao\"],[\"Fast\"],[\"good\"],[\"What a wonderful trusted app\"],[\"Tere ipo main pesa lagaya tha Magar tune lawde lgga diye\"],[\"Rent processing is very worst in paytm and rent processing techenical support will work on only chat and payment made still not received to me 24\\u002f7 only once they will make call and without any proper information they will cut the call worst kind of service from that team my 10000 is been struck they are not processing it also still am waiting for some good customer executive who can solve it already from payment date it's weak over and these techenical team is not supporting please help me.\"],[\"Very useful App for all in one. Excellent...\"],[\"Good\"],[\"Very best payment app\"],[\"mst\"],[\"Maaderchod.... IPO lia tha loss krwaa dia ... Uninstalling paytm.. Bhdwe saale\"],[\"super\"],[\"Listing day par hi sara cashback adjust kar dia mera. Negative me star hota to wo deta\"],[\"Now this app is getting better than before\"],[\"Super\"],[\"super\"],[\"paise duba de shares me mere\"],[\"After the update I am unable to login!! The app is constantly showing no sim card error!\"],[\"Almost 1 week above and still didn't get response from 24\\u002f7 helpline and when call customer care number they advice for 24\\u002f7, how can anyone trust this aap for help needed when there is no one to solve it, it's like goverment official one send to another and than that send to another. No queries are solved in one go and in time limited.\"],[\"super aap\"],[\"Poll\"],[\"Very nice\"],[\"good app\"],[\"osm\"],[\"Good\"],[\"Nice\"],[\"Good\"],[\"Amazing app\"],[\"Nice\"],[\"BASIRUL es gud\"],[\"nice\"],[\"paytm is very easy and convenient,I'm impressed with this app\"],[\"Very good app\"],[\"good\"],[\"like it\"],[\"great\"],[\"Quick Payment options, good App for online payment\"],[\"Wrost service ever no response from costmarecare i tried more than 100 times but there was no reaponse from comstcare. Also i transfer 25k for my home rent through rent payments its also chargerd 250 rs extra for debit card to rent payment. But now its more than 2 days land lord was saying that they dont get payemt yet. Wrost service i never recommend to anyone.Wroat service and costmarecare. And yes dont tell me to rise a Querrey from 24*7 you aswhole you know how much we can suffer bcsof you\"],[\"It's an amazing app. It is very convenienceful in various ways such as easy banking transaction, cashless payment securely after shoping etc.and many more........\"],[\"This app is very helpful\"],[\"Good payment app ever\"],[\"Worst kyc method i cant make kyc\"],[\"Nice\"],[\"Gobar app\"],[\"fast transaction for other apps\"],[\"I have got allotment in your paytm ipo I am disappoint by you ipo I didn't get listing gain....\"],[\"Super\"],[\"Very good\"],[\"I had booked a bus from Chennai to Dharapuram(booking id **********) on **-Nov-**** but the bus was got cancelled by the operator and the same is confirmed by the operator on phone.I am in the impression that the amount was get refunded it but when I found that the amount is not refunded ,I raised the query to the Paytm. Paytm refuses to refund the amount citing the operator policy(Paytm is not providing the support document). I want refund . The 24\\u002f7 support is not working in the app .\"],[\"Slow working\"],[\"Bakwas App & bakwas CEO... IPO me chuna laga diya.\"],[\"Good app for day to day use.\"],[\"paytm fixed deposit balance not withdraw in bank account please solve your problem in bank\"],[\"Nice Apps\"],[\"apk good work thank you\"],[\"good\"],[\"nice\"],[\"V good\"],[\"Best app\"],[\"Convenient and efficient\"],[\"good\"],[\"Nice\"],[\"Good\"],[\"superb\"],[\"gf\"],[\"Thanks paytm\"],[\"Good\"],[\"Quick services appreciable.\"],[\"Please give some good cash back as i have made loss of 3k because of your ipo\"],[\"good app\"],[\"nice\"],[\"Best\"],[\"Nice\"],[\"Love the speed\"],[\"Or apps mai se ye no.1 hai iske rewards bhot ache milte hai\"],[\"I LOVE THE SPEED AND UI OF paytm\"],[\"Nice app\"],[\"Nice\"],[\"Magnificient app\"],[\"I could not do video kyc in paytm ...when I write adhar detail and OTP I agian come back to main menu please solve the problem\"],[\"Superrr\"],[\"Hi money transfer k liye achha app h\"],[\"Very disgusting performance in paytm IPO... not expected. If Well-known companies act like this how can a common man trust.\"],[\"Good\"],[\"good\"],[\"Its amazing app\"],[\"My.bank.\"],[\"wow\"],[\"Very good\"],[\"love\"],[\"Best\"],[\"Jitne ka cash back na Mile, 10x to tum 30 mins mai le lia.. Shekhar bhai...ye galat hai\"],[\"Excellent\"],[\"nice\"],[\"Bad experience\"],[\"fine\"],[\"Very nice\"],[\"Sahi\"],[\"too good\"],[\"good\"],[\"Good\"],[\"Haramjada chor company ....\"],[\"This app is a disgrace to mankind. This kind of app should not be developed. Worst app i have come across. Payment is slow and everytime my money gets stuck and they never pay it back. WORST APP I RECEIVE WORST APP!\"],[\"Worst app what the hell did u guys got your IPO\"],[\"Superb\"],[\"Very nice app\"],[\"very good response.\"],[\"bad\"],[\"Tightly Looser Application and Worst Experience with the Paytm Never Go For this Company choose other platforms to do UPI Transaction , it loss Making IPO for the Customer Investment For their Company. Never Go For this Guys...\"],[\"Kya chutiyaa h ipo me loss ktva dia paytm bi bekarrr h\"],[\"why not cash back received.\"],[\"paytm koi use na kre isme bna reason ka koi v complane krega fr aap ka.jtna v paisa rhe sb scam ho jyega or paytm ka kse v agint ko isse mtlb nhi aap k ps jtna v profe rhe fr v hm yhi suggest krege paytm use na kre wrna aap ka v paisa wast ho jyega\"],[\"Worst experience , very bad app paytm works exactly like a robber who can steal your precious money without your concern.\"],[\"I love it, this paytm is very best for all person . You send Money without bank account.\"],[\"thank you\"],[\"I am Mera bank account banana hai\"],[\"Good\"],[\"This is very good app and fast\"],[\"Hji\"],[\"good\"],[\"Fraud company ipo valuation was kept high just to spread loot to their investors\"],[\"I don't know why SEBI allowed such a over share price for paytm, it's not even worth for 1000 per share. Total loss.\"],[\"Good\"],[\"Nice.\"],[\"Excellent\"],[\"superb\"],[\"Good\"],[\"Nice\"],[\"Good app\"],[\"fabulous\"],[\"Very bad app I booked a cylinder on paytm on 14 Nov and it has not came till now and it is showing no booking found and I am also can't able to track and my money is gone.\"],[\"Maintains jakhira bhd so hj UC vo mi kjm\"],[\"Good\"],[\"Best\"],[\"very good app\"],[\"Good\"],[\"wonderful super working useful and safe app\"],[\"Nice\"],[\"Worth\"],[\"It's really very good....\"],[\"good\"],[\"Best service\"],[\"Nice\"],[\"Very very Useful Love this app But 1 issue Costumer service Solve this problem\"],[\"Good service and fast\"],[\"Mukesh Mahakal you\\u008f\"],[\"As good to home rechage on paytm.it easy to used.\"],[\"Very good app classical amazing and more fast work in the payment process\"],[\"Fraud company ipo me bhi chuna laga diya 10% ka loss listing ke saath baba re . Kaha jaoge bhi itta Customer ka paisa loot kar\"],[\"Customer care is not talked. phone number is not updated kyc not transfer and postpaid is not activate. If it all goes well then that's great\"],[\"Bad app\"],[\"Very bad app i booked a cylinder but it has not come till now and my money is gone\"],[\"What kind of app is this when they failed to recharge thr is no cancellation thing\\u2026\"],[\"bahut badiya\"],[\"Bill payment so easy\"],[\"Good\"],[\"Great app and good costumer service \"],[\"Wonderful \"],[\"I invited one person to paytm and I transaction 150 rupees his account. But the invited money is not come. Only 20 cashback points only this is not correct.\"],[\"Easy and fast\"],[\"Super\"],[\"Mast\"],[\"From last night my account is blocked no one is reciving calls and no one is calling me . 24\\u002f7 Service also doesnt work\"],[\"Do not wark this aap\"],[\"Visa\"],[\"Very nice and users friendly .\"],[\"Very usefully\"],[\"Super\"],[\"Naisa\"],[\"Best payment application\"],[\"Good\"],[\"Good\"],[\"It so good\"],[\"Gud\"],[\"Good application\"],[\"nice\"],[\"good\"],[\"exilant\"],[\"nice\"],[\"Nice\"],[\"Convinient\"],[\"nice\"],[\"Good service\"],[\"Best payments app\"],[\"Try\"],[\"Good application\"],[\"Nice app\"],[\"Hello sir mere paytm wallet se pase cut gye ha please help me 1428 main refund karne ke liye usmein payment me Dali per usmein sab payment aur fastai ja rahi hai meri please help me please help me\"],[\"ok\"],[\"Why nor showing update\"],[\"Good\"],[\"hi\"],[\"Ok\"],[\"good\"],[\"Very fast transection and secure .Nice always use this app\"],[\"so nice\"],[\"No issues at all unlike GPAY, Easy to use\"],[\"Good\"],[\"very good\"],[\"Very good prossasing\"],[\"Nice\"],[\"THANKFUL\"],[\"Nice app\"],[\"ok\"],[\"good morning \"],[\"trash\"],[\"Super\"],[\"Good\"],[\"Good reasonable\"],[\"nic but u give to add money violet by bhim app\"],[\"Good\"],[\"Awesome,done in 1second\"],[\"fast\"],[\"Very good app for money transfers and other services\"],[\"Nice \"],[\"I can't get my reedem code on time and can't get refund of it also and i can't tranfer my money in another person if i am not linked to a bank account it says to pay you require kyc done without kyc I can't send money in another person's wallet if he has linked in bank or not kyc done or not extremely disappointed\"],[\"no casbeack\"],[\"osm made in india\"],[\"Super super super super super. Wow!wonderful.nice very very nice...\"],[\"Nice\"],[\"darun\"],[\"thank u paytm\"],[\"India aap respekt\"],[\"nice service\"],[\"Very good\"],[\"No of the cash back worst app\"],[\"Awesome\"],[\"wahhh\"],[\"great app\"],[\"PLEASE CHANGE THE LOG IN METHOD TO OTP PLEASE PLEASE\"],[\"Nice experience\"],[\"good\"],[\"It's was amazing app\"],[\"Fi3\"],[\"Nice App\"],[\"Awesome \"],[\"Op\"],[\"Reward was supper\"],[\"Super app\"],[\"good\"],[\"Nice\"],[\"good\"],[\"good service.\"],[\"uesful\"],[\"Good app\"],[\"not that good\"],[\"Best\"],[\"useful\"],[\"Thank u for helping with personal at critical time thank u so much .\"],[\"Nice aap\"],[\"nice\"],[\"Super app\"],[\"Himanshu\"],[\"Nice\"],[\"Thanks paytm\"],[\"nice\"],[\"very good service\"],[\"Mm\"],[\"Good\"],[\"it's very easy\"],[\"Nice\"],[\"eww\"],[\"Vere good paytm\"],[\"BALARAM\"],[\"Exellent app . Very usefull . Works well. Must install this app. Recharge is very fast and all services superb.\"],[\"Nice to me\"],[\"best\"],[\"MY FAVOURITE\"],[\"Good\"],[\"Bakwaas\"],[\"Nice\"],[\"Fraud paytm . Not allowing me to use the money in wallet\"],[\"Best\"],[\"naisu\"],[\"Altimate\"],[\"excellent app.\"],[\"Nice\"],[\"Supar\"],[\"good\"],[\"Nice..\"],[\"very nice\"],[\"Ultra fast\"],[\"no gud\"],[\"Good and features full ap\"],[\"Good proccesing\"],[\"Good app\"],[\"My paytm app not working\"],[\"Nice\"],[\"Nice\"],[\"Verry nice to app\"],[\"Good\"],[\"One of the best upi app.\"],[\"supar\"],[\"So good\"],[\"Good\"],[\"Very nice\"],[\"good service\"],[\"very usefull and fast app...\"],[\"Best payment bank .....\"],[\"Please Give me 100Rup\"],[\"nice\"],[\"Good\"],[\"Super aap\"],[\"nice app\"],[\"very nice paytm app\"],[\"Good job\"],[\"These really great app paymt inset\"],[\"Supe................\"],[\"Nice\"],[\"Gd\"],[\"Amazon pay best they give me cashback per transaction\"],[\"Please give paytm wallet I give 5 \"],[\"According to me, offers should be direct rupees not Zomato , ajio offers, etc. Directly credit cashback money not in form of Zomato, ajio etc.\"],[\"great\"],[\"paytmcustomer care response is zero. Support id very bad\"],[\"that is a very nice app easy to use and pay \"],[\"Spr useful\"],[\"good\"],[\"Good work\"],[\"nice g9d\"],[\"Very nice app\"],[\"RSS .\"],[\"good\"],[\"Good\"],[\"So safe\"],[\"top\"],[\"paytm is good\"],[\"Best in the business\"],[\"Awesome\"],[\"Good\"],[\"What the hell is this?? U give 16 point for transaction, what we will do by this 16 point?? U know we lost time for this 16 point, u just of this 16 point system, i don't need this point, if u can give cash back then give.. But don't waste my time by giving this 16 point, i am warning you.. otherwise i will delete this app.. U just give it so that u can say we r giving something everytime when u transaction right, don't make us fool\"],[\"good\"],[\"good\"],[\"I have booked a train ticket, money got deducted but no confirmation or refund has received, you people are fooling the customers, refund my money Rs. 408 otherwise will file a report in consumer court I want my money back that's it, very bad service,\"],[\"good\"],[\"Very easy to operate and successful.\"],[\"Nice\"],[\"very good experience\"],[\"Good application but why my paytm no update me\"],[\"Good\"],[\"wow\"],[\"Nice\"],[\"good\"],[\"good \"],[\"cool\"],[\"Excellent experience using paytm\"],[\"Mujhe paytm card banvana hai vah kaise milega mujhe\"],[\"Supar\"],[\"He is wasted app .my 400 google reedem not showing and the showing processing .I am waiting 24 hours but paytm not given reedem and my payment cute on my saving I am very upset please help me please send me my money please send me\\u00f0\\u0178\\u02dc\\u00ad\"],[\"So many times i faced so many types problems every time like account frozen, you are not allowed this transaction, complete your kyc even i already completed my kyc, i saw myself in paytm app. I'm not face those problems in other app.\"],[\"Very nice\"],[\"Bahut badiya application form you\"],[\"Awesome transaction app Thanks you \"],[\"Awesome\"],[\"best \"],[\"Very nice\"],[\"great\"],[\"Nice\"],[\"Awesome\"],[\"Super app\"],[\"My refar 100 panding 300\"],[\"Thumbs up\"],[\"Service not good I recharge dth using paytm firstpoint Rs 500 flat 10% cash back bt cashback not paid by paytm\"],[\"Good \"],[\"This is the worst app in upi payment. Payments does not showing the success or not Iam confused lot of times. Sender sends the some amount in sender paytm account shows the success but receiver account not showing the transaction customer care also not responding the problem.\"],[\"good\"],[\"good\"],[\"Jhakass and mast hai boss\"],[\"Excellent\"],[\"Very nice\"],[\"This app is good .I have got cheat of about 100 rupees\"],[\"Nice and easy app\"],[\"One of the best banking application that I have used in my life , never failed me and infact saved me in a lot of situations where other banking applications failed\"],[\"Very very Nice application\"],[\"Totally irritating from 2 days its showing waiting for operator confirmation. My Google pay Redeem code is stuck from 2days solve this issue ASAP.\"],[\"very noice\"],[\"Nic paymt aap\"],[\"I'm using paytm\"],[\"superb\"],[\"good last one but this time saying update to latest version but There is not having any latest version to update i can't use some function plz fix problem\"],[\"good\"],[\"I like paytm very nice service i yousing 4years old\"],[\"Good\"],[\"good\"],[\"Superb\"],[\"Good\"],[\"Best app\"],[\"Super\"],[\"Kdk app\"],[\"Hello paytm Google gift card not work please reply\"],[\"Good\"],[\"Good\"],[\"good\"],[\"Not nice\"],[\"Good service\"],[\"Nice\"],[\"Deals problem\"],[\"Super\"],[\"please give cashback\"],[\"Why this app is not showing the blocked amount of my ipo mandate..... Where should i complain... Please reply \"],[\"good\"],[\"I lost my mobile number , customer care helped me a lot to get the paytm registered to my new number\"],[\"ggod\"],[\"Good service .....correct response\"],[\"Super spid\"],[\"Good very good\"],[\"This app is ausome but cashback tranjactions is so low. So paytm YOU tranjaction fast ok\"],[\"Great\"],[\"Very nice \"],[\"Super app\"],[\"Good service\"],[\"nice\"],[\"Accha hai\"],[\"Good\"],[\"wonderful\"],[\"Lovely ptm money transfer & other fithchers\"],[\"superfast transactions and easy to use I like this app\"]],\"hovertemplate\":\"Review Length=%{x}\\u003cbr\\u003eWord Count=%{y}\\u003cbr\\u003ereview=%{customdata[0]}\\u003cbr\\u003eLabel=%{marker.color}\\u003cextra\\u003e\\u003c\\u002fextra\\u003e\",\"legendgroup\":\"\",\"marker\":{\"color\":[1,1,1,1,1,-1,1,-1,1,1,1,1,1,1,1,1,1,1,1,-1,0,1,1,-1,-1,1,1,-1,1,1,1,-1,1,1,-1,1,-1,1,-1,1,1,1,1,1,1,1,1,1,1,1,1,1,1,1,1,1,1,1,1,1,-1,1,1,1,1,1,1,0,1,1,-1,-1,1,-1,1,-1,1,1,1,1,-1,0,-1,1,1,-1,1,1,0,1,-1,1,1,1,1,-1,-1,1,1,1,1,1,1,1,-1,1,-1,0,1,1,1,1,1,1,1,1,1,-1,1,1,1,-1,1,1,-1,-1,1,1,1,1,1,1,1,1,1,1,-1,0,1,1,1,-1,0,1,1,1,1,1,1,1,1,-1,1,1,1,1,1,-1,-1,1,-1,1,1,-1,1,-1,-1,1,-1,0,1,1,1,1,1,1,-1,1,1,0,1,1,1,1,1,1,1,-1,-1,1,-1,1,1,1,1,1,1,1,1,1,-1,-1,-1,1,1,1,0,1,1,1,1,1,1,1,1,1,1,1,1,1,-1,1,1,1,-1,1,1,1,-1,-1,1,1,1,1,-1,1,-1,1,1,1,1,1,1,1,-1,1,1,1,1,1,-1,-1,1,1,1,1,-1,-1,-1,-1,-1,-1,1,1,1,-1,-1,1,-1,1,1,-1,-1,1,1,-1,1,-1,-1,1,0,1,-1,1,-1,1,1,-1,1,1,0,0,1,0,1,1,1,1,-1,1,1,1,1,1,1,1,-1,1,0,-1,-1,1,1,1,1,1,1,1,0,1,1,1,-1,1,1,-1,1,1,1,0,1,1,1,-1,1,1,1,1,1,1,1,-1,1,1,1,-1,1,1,1,1,1,1,-1,1,1,1,1,1,-1,0,1,1,1,1,1,1,1,1,1,1,1,1,1,1,1,1,1,1,1,1,-1,-1,1,1,1,1,1,-1,1,1,1,0,1,1,1,-1,-1,1,1,1,-1,1,1,1,-1,1,1,1,1,-1,1,1,1,-1,-1,1,1,1,-1,1,-1,1,1,1,1,1,1,0,1,1,1,1,1,1,1,0,1,1,1,-1,1,-1,1,1,1,1,1,1,0,1,1,1,1,1,1,1,1,-1,1,1,1,1,-1,-1,1,1,-1,1,1,-1,-1,1,1,-1,1,-1,1,1,-1,1,1,1,1,1,1,1,1,1,1,1,1,1,1,1,-1,0,1,1,1,1,1,1,1,1,1,1,0,1,1,1,1,1,1,-1,1,1,1,-1,1,1,1,1,-1,-1,1,-1,1,1,-1,-1,1,-1,1,1,0,-1,1,1,1,1,1,-1,1,-1,-1,1,1,-1,1,1,1,1,1,1,1,-1,1,1,-1,1,1,1,1,1,1,1,1,1,1,1,1,1,1,1,1,0,-1,-1,1,-1,1,1,-1,1,1,1,1,-1,1,1,1,1,-1,1,-1,0,1,1,-1,-1,-1,1,1,1,1,1,1,0,1,1,1,1,1,1,1,1,-1,1,1,-1,1,1,1,-1,1,-1,1,-1,1,1,-1,1,-1,1,-1,1,1,1,1,1,1,1,1,1,1,1,1,1,1,1,-1,1,0,1,1,1,1,1,1,1,1,-1,1,1,-1,1,1,1,1,1,1,1,1,-1,1,1,-1,1,1,1,-1,1,1,-1,-1,-1,1,1,1,1,-1,-1,0,-1,-1,1,1,1,0,1,1,1,-1,-1,1,1,1,1,1,1,1,1,-1,1,1,1,1,1,1,1,1,1,1,1,1,1,1,1,1,1,-1,-1,-1,-1,-1,1,1,1,1,1,-1,1,1,1,-1,1,1,1,1,1,1,1,1,1,1,1,1,1,0,1,1,1,1,1,1,1,1,1,1,-1,1,1,0,1,0,0,1,1,1,1,1,1,1,1,1,1,1,1,1,1,1,1,1,1,1,1,1,-1,-1,1,1,1,0,1,-1,1,1,-1,1,1,1,-1,1,-1,1,1,1,1,1,1,1,1,-1,1,1,1,1,1,1,1,1,1,1,1,1,1,1,1,1,1,1,1,-1,1,1,1,1,1,0,1,1,1,-1,-1,1,1,1,1,1,1,1,1,1,1,1,1,1,1,-1,1,1,1,1,1,1,1,1,1,1,1,1,1,1,1,1,1,1,-1,1,1,1,1,-1,1,1,1,1,1,1,1,1,1,1,-1,1,1,1,1,1,1,1,1,-1,1,1,-1,0,1,1,1,-1,1,1,1,1,1,1,1,1,1,-1,-1,1,1,1,1,1,1,1,1,1,1,0,1,-1,1,-1,1,1,1,1,1,1,1,1,1,-1,1,1,1,1,1,1,1,1,1,1,1,1,1,1,-1,1,1,1,1,1,1,0,1,0,-1,1,1,1,1,1,1,1,1,1,1,1,1,1,1,1,1,1],\"coloraxis\":\"coloraxis\",\"symbol\":\"circle\"},\"mode\":\"markers\",\"name\":\"\",\"orientation\":\"v\",\"showlegend\":false,\"x\":[2,4,28,5,8,40,20,357,8,16,14,4,5,11,6,4,123,21,21,35,61,5,4,57,78,22,4,128,4,7,4,11,31,12,110,5,237,146,35,9,9,4,9,4,7,64,4,4,11,31,7,8,9,9,5,4,7,4,4,4,12,4,4,9,4,24,6,6,9,4,38,40,14,46,9,45,13,8,12,6,4,2,143,9,9,74,35,19,206,12,30,4,59,8,36,490,14,4,17,4,4,13,6,5,10,4,30,4,20,5,18,4,56,26,4,223,14,9,4,4,4,82,2,17,46,51,15,4,15,13,8,13,9,3,5,9,138,22,4,33,8,114,4,12,7,7,16,4,14,20,3,46,7,4,8,4,26,360,275,81,18,15,40,20,37,41,107,9,55,4,30,4,4,9,5,9,35,8,18,4,6,21,5,4,4,2,16,19,18,2,7,9,14,3,13,4,11,4,4,5,77,183,156,2,6,4,125,5,8,2,4,4,4,9,4,101,8,37,94,8,51,3,4,5,45,4,27,13,138,52,25,4,4,93,8,15,9,96,4,5,5,4,5,4,105,29,33,54,12,9,40,14,4,8,3,4,31,48,95,29,31,59,4,6,6,3,2,25,95,9,17,20,19,17,3,58,4,5,64,6,4,5,288,21,61,15,38,16,7,13,3,4,9,22,4,4,4,19,100,4,4,9,228,133,5,9,19,4,4,424,171,15,7,8,9,8,37,25,10,4,9,4,25,4,18,75,5,18,9,4,8,25,10,4,16,8,4,4,4,13,4,11,12,4,43,4,6,75,4,4,43,9,3,60,4,5,21,4,6,4,2,26,30,73,11,9,2,25,4,4,12,3,18,8,13,35,5,13,20,4,49,11,13,36,4,8,59,3,4,4,34,13,4,39,40,4,53,4,30,6,27,9,9,5,49,19,22,6,5,25,4,4,17,33,4,37,14,4,15,41,41,4,13,4,5,7,4,4,8,5,8,8,2,4,45,4,6,4,69,4,4,4,4,46,32,17,6,9,5,4,19,9,14,8,50,4,5,496,8,7,4,16,8,22,4,4,120,6,14,105,9,4,42,2,4,2,15,33,2,4,4,17,30,11,2,8,7,4,13,9,24,16,9,22,24,22,8,8,2,15,6,11,39,4,4,4,3,5,45,46,4,9,70,389,4,4,10,13,4,6,4,36,43,16,19,147,4,4,142,70,4,486,6,4,5,29,12,4,16,12,12,89,5,174,18,4,37,76,13,16,3,4,4,16,2,22,4,15,25,4,2,7,9,4,9,17,4,22,6,8,11,17,19,27,22,4,153,13,5,4,15,8,163,4,4,28,56,496,44,4,21,3,78,5,86,42,5,5,28,88,338,9,4,9,8,3,4,4,4,11,4,14,4,61,13,4,7,5,50,498,162,24,21,32,4,9,31,95,5,9,491,12,50,28,90,9,23,4,4,6,8,24,4,4,4,6,2,12,4,27,77,8,4,4,4,14,59,32,8,4,16,126,7,36,123,4,4,15,8,3,9,4,4,87,9,4,14,4,9,4,8,4,4,27,215,47,6,13,19,3,227,54,27,248,121,88,9,33,4,30,3,4,80,116,4,5,9,6,4,4,8,8,171,40,4,4,13,4,43,4,5,25,4,12,4,78,21,19,49,73,126,141,7,82,83,12,20,4,36,10,156,13,5,4,119,20,4,30,13,5,5,24,4,4,10,3,16,4,4,7,4,4,10,4,12,17,3,16,8,196,2,22,4,2,2,4,58,7,41,4,9,20,4,8,8,2,13,5,5,4,15,46,4,23,4,52,5,315,11,17,67,4,5,13,17,12,9,29,7,5,9,52,15,4,20,3,8,8,2,17,9,4,4,4,13,6,8,13,4,6,68,8,4,9,8,4,12,4,17,2,4,14,4,3,15,7,111,10,4,12,4,7,4,56,4,5,8,14,4,5,4,6,9,10,6,25,15,8,24,4,4,17,4,24,5,7,4,9,12,28,23,21,4,4,9,8,19,8,34,20,4,2,53,34,142,5,56,44,10,4,9,8,13,5,4,4,7,3,13,20,7,4,436,4,4,251,4,36,4,20,46,4,3,4,4,5,4,32,51,5,234,234,9,33,35,7,5,9,5,4,7,9,24,9,110,5,276,4,4,25,9,9,54,17,164,26,146,10,13,15,6,154,4,51,4,4,6,4,8,5,7,50,4,4,4,8,12,4,13,5,20,110,4,100,4,34,10,14,88,5,10,9,12,4,9,4,9,43,54],\"xaxis\":\"x\",\"y\":[1,1,6,1,2,8,5,63,1,4,3,1,1,2,1,1,24,4,4,6,10,1,1,10,18,5,1,23,1,1,1,1,6,2,21,1,43,29,8,2,2,1,1,1,1,11,1,1,2,6,1,2,2,2,1,1,1,1,1,1,3,1,1,1,1,4,1,1,2,1,7,8,2,8,2,7,2,2,2,1,1,1,26,1,2,13,5,2,39,2,5,1,13,2,7,88,2,1,3,1,1,2,2,1,2,1,5,1,3,1,4,1,12,5,1,38,3,2,1,1,2,14,1,3,8,10,3,1,3,3,2,3,2,1,1,2,26,3,1,8,2,23,1,2,2,1,4,1,2,2,1,8,1,1,1,1,4,71,52,14,3,3,9,4,5,11,21,2,9,1,6,1,1,2,1,2,6,2,4,1,1,4,1,1,1,1,2,5,3,1,2,2,3,1,3,1,2,1,1,1,13,34,30,1,1,1,22,1,2,1,1,1,1,1,1,17,2,5,18,2,11,1,1,2,8,1,4,3,23,10,5,1,1,20,1,3,2,16,1,1,1,1,1,1,19,5,6,9,2,1,8,2,1,2,1,1,7,7,20,5,7,9,1,1,1,1,1,2,18,1,2,5,4,3,1,13,1,1,11,1,1,1,47,5,11,3,7,2,2,3,1,1,2,6,1,1,1,4,21,1,1,2,43,23,1,1,3,1,1,79,39,2,2,2,1,2,5,4,2,1,2,1,4,1,3,14,1,4,1,1,2,4,2,1,2,2,1,1,1,2,1,2,3,1,8,1,1,13,1,1,10,1,1,12,1,1,3,1,1,1,1,5,6,12,2,2,1,6,1,1,2,1,3,2,3,6,1,2,2,1,11,2,2,7,1,1,12,1,1,1,7,2,1,9,5,1,8,1,5,2,4,1,2,1,9,4,4,1,1,5,1,1,4,7,1,7,3,1,3,5,8,1,3,1,1,2,1,1,2,1,2,1,1,1,5,1,1,1,19,1,1,1,1,7,6,3,1,2,2,1,4,2,4,2,7,1,1,104,2,1,1,4,2,5,1,1,22,1,4,17,2,1,8,1,1,1,2,7,1,1,1,3,4,2,1,2,1,1,3,1,4,4,2,3,4,5,2,2,1,3,1,1,7,1,1,1,1,1,7,7,1,1,14,72,1,1,1,2,1,2,1,6,9,3,3,28,1,1,25,10,1,86,2,1,1,4,2,1,2,2,2,15,1,32,4,1,4,14,2,3,1,1,1,3,1,3,1,2,3,1,1,2,2,1,2,2,1,5,1,1,3,2,5,3,3,1,27,2,1,1,3,1,34,1,1,5,11,89,8,1,4,1,12,1,17,8,1,1,6,17,64,2,1,2,2,1,1,1,1,2,1,3,1,10,3,1,2,1,8,92,24,5,4,7,1,2,5,19,1,2,90,2,10,7,15,2,5,1,1,2,2,3,1,1,1,1,1,2,1,3,17,2,1,1,1,3,13,8,2,1,2,26,1,8,20,1,1,3,1,1,2,1,1,18,1,1,2,1,2,1,2,1,1,4,42,11,1,3,3,1,38,12,5,58,21,18,2,7,1,7,1,1,14,23,1,1,1,1,1,1,2,1,39,9,1,1,3,1,7,1,1,4,1,2,1,14,4,3,10,13,26,26,2,19,16,2,4,1,6,1,29,3,1,1,24,5,1,6,2,1,1,3,1,1,3,1,2,1,1,1,1,1,1,1,2,3,1,2,2,39,1,4,1,1,1,1,10,2,9,1,2,3,1,1,2,1,2,1,1,1,2,11,1,3,1,9,1,65,2,4,9,1,1,3,3,2,2,7,1,1,2,10,2,1,4,1,2,1,1,3,2,1,1,1,2,1,2,3,1,1,14,2,1,2,1,1,2,1,3,1,1,3,1,1,3,1,20,3,1,2,1,1,1,12,1,1,1,2,1,1,1,1,2,2,2,5,2,2,5,1,1,4,1,6,1,2,1,2,2,5,4,4,1,1,2,2,4,2,6,1,1,1,9,7,25,1,9,11,2,1,2,2,3,2,1,1,2,1,3,4,1,1,90,1,1,45,1,6,1,3,9,1,1,1,1,1,1,4,9,1,46,43,2,5,5,1,1,2,1,1,1,2,5,2,21,1,47,1,1,5,1,2,12,4,31,4,24,2,3,3,1,29,1,10,1,1,1,1,2,1,2,9,1,1,1,2,2,1,2,1,3,19,1,21,1,4,2,3,16,1,2,2,2,1,2,1,1,7,10],\"yaxis\":\"y\",\"type\":\"scatter\"}],                        {\"template\":{\"data\":{\"histogram2dcontour\":[{\"type\":\"histogram2dcontour\",\"colorbar\":{\"outlinewidth\":0,\"ticks\":\"\"},\"colorscale\":[[0.0,\"#0d0887\"],[0.1111111111111111,\"#46039f\"],[0.2222222222222222,\"#7201a8\"],[0.3333333333333333,\"#9c179e\"],[0.4444444444444444,\"#bd3786\"],[0.5555555555555556,\"#d8576b\"],[0.6666666666666666,\"#ed7953\"],[0.7777777777777778,\"#fb9f3a\"],[0.8888888888888888,\"#fdca26\"],[1.0,\"#f0f921\"]]}],\"choropleth\":[{\"type\":\"choropleth\",\"colorbar\":{\"outlinewidth\":0,\"ticks\":\"\"}}],\"histogram2d\":[{\"type\":\"histogram2d\",\"colorbar\":{\"outlinewidth\":0,\"ticks\":\"\"},\"colorscale\":[[0.0,\"#0d0887\"],[0.1111111111111111,\"#46039f\"],[0.2222222222222222,\"#7201a8\"],[0.3333333333333333,\"#9c179e\"],[0.4444444444444444,\"#bd3786\"],[0.5555555555555556,\"#d8576b\"],[0.6666666666666666,\"#ed7953\"],[0.7777777777777778,\"#fb9f3a\"],[0.8888888888888888,\"#fdca26\"],[1.0,\"#f0f921\"]]}],\"heatmap\":[{\"type\":\"heatmap\",\"colorbar\":{\"outlinewidth\":0,\"ticks\":\"\"},\"colorscale\":[[0.0,\"#0d0887\"],[0.1111111111111111,\"#46039f\"],[0.2222222222222222,\"#7201a8\"],[0.3333333333333333,\"#9c179e\"],[0.4444444444444444,\"#bd3786\"],[0.5555555555555556,\"#d8576b\"],[0.6666666666666666,\"#ed7953\"],[0.7777777777777778,\"#fb9f3a\"],[0.8888888888888888,\"#fdca26\"],[1.0,\"#f0f921\"]]}],\"heatmapgl\":[{\"type\":\"heatmapgl\",\"colorbar\":{\"outlinewidth\":0,\"ticks\":\"\"},\"colorscale\":[[0.0,\"#0d0887\"],[0.1111111111111111,\"#46039f\"],[0.2222222222222222,\"#7201a8\"],[0.3333333333333333,\"#9c179e\"],[0.4444444444444444,\"#bd3786\"],[0.5555555555555556,\"#d8576b\"],[0.6666666666666666,\"#ed7953\"],[0.7777777777777778,\"#fb9f3a\"],[0.8888888888888888,\"#fdca26\"],[1.0,\"#f0f921\"]]}],\"contourcarpet\":[{\"type\":\"contourcarpet\",\"colorbar\":{\"outlinewidth\":0,\"ticks\":\"\"}}],\"contour\":[{\"type\":\"contour\",\"colorbar\":{\"outlinewidth\":0,\"ticks\":\"\"},\"colorscale\":[[0.0,\"#0d0887\"],[0.1111111111111111,\"#46039f\"],[0.2222222222222222,\"#7201a8\"],[0.3333333333333333,\"#9c179e\"],[0.4444444444444444,\"#bd3786\"],[0.5555555555555556,\"#d8576b\"],[0.6666666666666666,\"#ed7953\"],[0.7777777777777778,\"#fb9f3a\"],[0.8888888888888888,\"#fdca26\"],[1.0,\"#f0f921\"]]}],\"surface\":[{\"type\":\"surface\",\"colorbar\":{\"outlinewidth\":0,\"ticks\":\"\"},\"colorscale\":[[0.0,\"#0d0887\"],[0.1111111111111111,\"#46039f\"],[0.2222222222222222,\"#7201a8\"],[0.3333333333333333,\"#9c179e\"],[0.4444444444444444,\"#bd3786\"],[0.5555555555555556,\"#d8576b\"],[0.6666666666666666,\"#ed7953\"],[0.7777777777777778,\"#fb9f3a\"],[0.8888888888888888,\"#fdca26\"],[1.0,\"#f0f921\"]]}],\"mesh3d\":[{\"type\":\"mesh3d\",\"colorbar\":{\"outlinewidth\":0,\"ticks\":\"\"}}],\"scatter\":[{\"fillpattern\":{\"fillmode\":\"overlay\",\"size\":10,\"solidity\":0.2},\"type\":\"scatter\"}],\"parcoords\":[{\"type\":\"parcoords\",\"line\":{\"colorbar\":{\"outlinewidth\":0,\"ticks\":\"\"}}}],\"scatterpolargl\":[{\"type\":\"scatterpolargl\",\"marker\":{\"colorbar\":{\"outlinewidth\":0,\"ticks\":\"\"}}}],\"bar\":[{\"error_x\":{\"color\":\"#2a3f5f\"},\"error_y\":{\"color\":\"#2a3f5f\"},\"marker\":{\"line\":{\"color\":\"#E5ECF6\",\"width\":0.5},\"pattern\":{\"fillmode\":\"overlay\",\"size\":10,\"solidity\":0.2}},\"type\":\"bar\"}],\"scattergeo\":[{\"type\":\"scattergeo\",\"marker\":{\"colorbar\":{\"outlinewidth\":0,\"ticks\":\"\"}}}],\"scatterpolar\":[{\"type\":\"scatterpolar\",\"marker\":{\"colorbar\":{\"outlinewidth\":0,\"ticks\":\"\"}}}],\"histogram\":[{\"marker\":{\"pattern\":{\"fillmode\":\"overlay\",\"size\":10,\"solidity\":0.2}},\"type\":\"histogram\"}],\"scattergl\":[{\"type\":\"scattergl\",\"marker\":{\"colorbar\":{\"outlinewidth\":0,\"ticks\":\"\"}}}],\"scatter3d\":[{\"type\":\"scatter3d\",\"line\":{\"colorbar\":{\"outlinewidth\":0,\"ticks\":\"\"}},\"marker\":{\"colorbar\":{\"outlinewidth\":0,\"ticks\":\"\"}}}],\"scattermapbox\":[{\"type\":\"scattermapbox\",\"marker\":{\"colorbar\":{\"outlinewidth\":0,\"ticks\":\"\"}}}],\"scatterternary\":[{\"type\":\"scatterternary\",\"marker\":{\"colorbar\":{\"outlinewidth\":0,\"ticks\":\"\"}}}],\"scattercarpet\":[{\"type\":\"scattercarpet\",\"marker\":{\"colorbar\":{\"outlinewidth\":0,\"ticks\":\"\"}}}],\"carpet\":[{\"aaxis\":{\"endlinecolor\":\"#2a3f5f\",\"gridcolor\":\"white\",\"linecolor\":\"white\",\"minorgridcolor\":\"white\",\"startlinecolor\":\"#2a3f5f\"},\"baxis\":{\"endlinecolor\":\"#2a3f5f\",\"gridcolor\":\"white\",\"linecolor\":\"white\",\"minorgridcolor\":\"white\",\"startlinecolor\":\"#2a3f5f\"},\"type\":\"carpet\"}],\"table\":[{\"cells\":{\"fill\":{\"color\":\"#EBF0F8\"},\"line\":{\"color\":\"white\"}},\"header\":{\"fill\":{\"color\":\"#C8D4E3\"},\"line\":{\"color\":\"white\"}},\"type\":\"table\"}],\"barpolar\":[{\"marker\":{\"line\":{\"color\":\"#E5ECF6\",\"width\":0.5},\"pattern\":{\"fillmode\":\"overlay\",\"size\":10,\"solidity\":0.2}},\"type\":\"barpolar\"}],\"pie\":[{\"automargin\":true,\"type\":\"pie\"}]},\"layout\":{\"autotypenumbers\":\"strict\",\"colorway\":[\"#636efa\",\"#EF553B\",\"#00cc96\",\"#ab63fa\",\"#FFA15A\",\"#19d3f3\",\"#FF6692\",\"#B6E880\",\"#FF97FF\",\"#FECB52\"],\"font\":{\"color\":\"#2a3f5f\"},\"hovermode\":\"closest\",\"hoverlabel\":{\"align\":\"left\"},\"paper_bgcolor\":\"white\",\"plot_bgcolor\":\"#E5ECF6\",\"polar\":{\"bgcolor\":\"#E5ECF6\",\"angularaxis\":{\"gridcolor\":\"white\",\"linecolor\":\"white\",\"ticks\":\"\"},\"radialaxis\":{\"gridcolor\":\"white\",\"linecolor\":\"white\",\"ticks\":\"\"}},\"ternary\":{\"bgcolor\":\"#E5ECF6\",\"aaxis\":{\"gridcolor\":\"white\",\"linecolor\":\"white\",\"ticks\":\"\"},\"baxis\":{\"gridcolor\":\"white\",\"linecolor\":\"white\",\"ticks\":\"\"},\"caxis\":{\"gridcolor\":\"white\",\"linecolor\":\"white\",\"ticks\":\"\"}},\"coloraxis\":{\"colorbar\":{\"outlinewidth\":0,\"ticks\":\"\"}},\"colorscale\":{\"sequential\":[[0.0,\"#0d0887\"],[0.1111111111111111,\"#46039f\"],[0.2222222222222222,\"#7201a8\"],[0.3333333333333333,\"#9c179e\"],[0.4444444444444444,\"#bd3786\"],[0.5555555555555556,\"#d8576b\"],[0.6666666666666666,\"#ed7953\"],[0.7777777777777778,\"#fb9f3a\"],[0.8888888888888888,\"#fdca26\"],[1.0,\"#f0f921\"]],\"sequentialminus\":[[0.0,\"#0d0887\"],[0.1111111111111111,\"#46039f\"],[0.2222222222222222,\"#7201a8\"],[0.3333333333333333,\"#9c179e\"],[0.4444444444444444,\"#bd3786\"],[0.5555555555555556,\"#d8576b\"],[0.6666666666666666,\"#ed7953\"],[0.7777777777777778,\"#fb9f3a\"],[0.8888888888888888,\"#fdca26\"],[1.0,\"#f0f921\"]],\"diverging\":[[0,\"#8e0152\"],[0.1,\"#c51b7d\"],[0.2,\"#de77ae\"],[0.3,\"#f1b6da\"],[0.4,\"#fde0ef\"],[0.5,\"#f7f7f7\"],[0.6,\"#e6f5d0\"],[0.7,\"#b8e186\"],[0.8,\"#7fbc41\"],[0.9,\"#4d9221\"],[1,\"#276419\"]]},\"xaxis\":{\"gridcolor\":\"white\",\"linecolor\":\"white\",\"ticks\":\"\",\"title\":{\"standoff\":15},\"zerolinecolor\":\"white\",\"automargin\":true,\"zerolinewidth\":2},\"yaxis\":{\"gridcolor\":\"white\",\"linecolor\":\"white\",\"ticks\":\"\",\"title\":{\"standoff\":15},\"zerolinecolor\":\"white\",\"automargin\":true,\"zerolinewidth\":2},\"scene\":{\"xaxis\":{\"backgroundcolor\":\"#E5ECF6\",\"gridcolor\":\"white\",\"linecolor\":\"white\",\"showbackground\":true,\"ticks\":\"\",\"zerolinecolor\":\"white\",\"gridwidth\":2},\"yaxis\":{\"backgroundcolor\":\"#E5ECF6\",\"gridcolor\":\"white\",\"linecolor\":\"white\",\"showbackground\":true,\"ticks\":\"\",\"zerolinecolor\":\"white\",\"gridwidth\":2},\"zaxis\":{\"backgroundcolor\":\"#E5ECF6\",\"gridcolor\":\"white\",\"linecolor\":\"white\",\"showbackground\":true,\"ticks\":\"\",\"zerolinecolor\":\"white\",\"gridwidth\":2}},\"shapedefaults\":{\"line\":{\"color\":\"#2a3f5f\"}},\"annotationdefaults\":{\"arrowcolor\":\"#2a3f5f\",\"arrowhead\":0,\"arrowwidth\":1},\"geo\":{\"bgcolor\":\"white\",\"landcolor\":\"#E5ECF6\",\"subunitcolor\":\"white\",\"showland\":true,\"showlakes\":true,\"lakecolor\":\"white\"},\"title\":{\"x\":0.05},\"mapbox\":{\"style\":\"light\"}}},\"xaxis\":{\"anchor\":\"y\",\"domain\":[0.0,1.0],\"title\":{\"text\":\"Review Length\"}},\"yaxis\":{\"anchor\":\"x\",\"domain\":[0.0,1.0],\"title\":{\"text\":\"Word Count\"}},\"coloraxis\":{\"colorbar\":{\"title\":{\"text\":\"Label\"}},\"colorscale\":[[0.0,\"#0d0887\"],[0.1111111111111111,\"#46039f\"],[0.2222222222222222,\"#7201a8\"],[0.3333333333333333,\"#9c179e\"],[0.4444444444444444,\"#bd3786\"],[0.5555555555555556,\"#d8576b\"],[0.6666666666666666,\"#ed7953\"],[0.7777777777777778,\"#fb9f3a\"],[0.8888888888888888,\"#fdca26\"],[1.0,\"#f0f921\"]]},\"legend\":{\"tracegroupgap\":0},\"title\":{\"text\":\"Review Length vs Word Count\"}},                        {\"responsive\": true}                    ).then(function(){\n",
       "                            \n",
       "var gd = document.getElementById('8ddf5994-9991-4c97-9e39-1d1ee46459dc');\n",
       "var x = new MutationObserver(function (mutations, observer) {{\n",
       "        var display = window.getComputedStyle(gd).display;\n",
       "        if (!display || display === 'none') {{\n",
       "            console.log([gd, 'removed!']);\n",
       "            Plotly.purge(gd);\n",
       "            observer.disconnect();\n",
       "        }}\n",
       "}});\n",
       "\n",
       "// Listen for the removal of the full notebook cells\n",
       "var notebookContainer = gd.closest('#notebook-container');\n",
       "if (notebookContainer) {{\n",
       "    x.observe(notebookContainer, {childList: true});\n",
       "}}\n",
       "\n",
       "// Listen for the clearing of the current output cell\n",
       "var outputEl = gd.closest('.output');\n",
       "if (outputEl) {{\n",
       "    x.observe(outputEl, {childList: true});\n",
       "}}\n",
       "\n",
       "                        })                };                });            </script>        </div>"
      ]
     },
     "metadata": {},
     "output_type": "display_data"
    },
    {
     "data": {
      "application/vnd.plotly.v1+json": {
       "config": {
        "plotlyServerURL": "https://plot.ly"
       },
       "data": [
        {
         "alignmentgroup": "True",
         "bingroup": "x",
         "hovertemplate": "Label=1<br>Review Length=%{x}<br>count=%{y}<extra></extra>",
         "legendgroup": "1",
         "marker": {
          "color": "#636efa",
          "pattern": {
           "shape": ""
          }
         },
         "name": "1",
         "nbinsx": 30,
         "offsetgroup": "1",
         "orientation": "v",
         "showlegend": true,
         "type": "histogram",
         "x": [
          2,
          4,
          28,
          5,
          8,
          20,
          8,
          16,
          14,
          4,
          5,
          11,
          6,
          4,
          123,
          21,
          21,
          5,
          4,
          22,
          4,
          4,
          7,
          4,
          31,
          12,
          5,
          146,
          9,
          9,
          4,
          9,
          4,
          7,
          64,
          4,
          4,
          11,
          31,
          7,
          8,
          9,
          9,
          5,
          4,
          7,
          4,
          4,
          4,
          4,
          4,
          9,
          4,
          24,
          6,
          9,
          4,
          14,
          9,
          13,
          8,
          12,
          6,
          9,
          9,
          35,
          19,
          12,
          4,
          59,
          8,
          36,
          4,
          17,
          4,
          4,
          13,
          6,
          5,
          4,
          20,
          5,
          18,
          4,
          56,
          26,
          4,
          223,
          14,
          4,
          4,
          4,
          2,
          17,
          15,
          4,
          15,
          13,
          8,
          13,
          9,
          3,
          5,
          9,
          4,
          33,
          8,
          12,
          7,
          7,
          16,
          4,
          14,
          20,
          3,
          7,
          4,
          8,
          4,
          26,
          81,
          15,
          40,
          37,
          9,
          30,
          4,
          4,
          9,
          5,
          9,
          8,
          18,
          6,
          21,
          5,
          4,
          4,
          2,
          16,
          2,
          9,
          14,
          3,
          13,
          4,
          11,
          4,
          4,
          5,
          2,
          6,
          4,
          5,
          8,
          2,
          4,
          4,
          4,
          9,
          4,
          101,
          8,
          37,
          94,
          8,
          3,
          4,
          5,
          4,
          27,
          13,
          25,
          4,
          4,
          93,
          15,
          96,
          4,
          5,
          5,
          4,
          5,
          4,
          29,
          33,
          54,
          12,
          9,
          4,
          8,
          3,
          4,
          4,
          6,
          6,
          25,
          9,
          17,
          17,
          3,
          4,
          6,
          5,
          21,
          15,
          38,
          7,
          13,
          9,
          4,
          4,
          4,
          19,
          4,
          4,
          9,
          228,
          133,
          5,
          9,
          4,
          15,
          7,
          8,
          9,
          8,
          37,
          25,
          4,
          9,
          4,
          4,
          18,
          5,
          18,
          9,
          8,
          25,
          10,
          16,
          8,
          4,
          4,
          4,
          13,
          4,
          12,
          4,
          43,
          6,
          75,
          4,
          4,
          43,
          9,
          60,
          4,
          5,
          21,
          4,
          2,
          26,
          30,
          73,
          11,
          9,
          2,
          25,
          4,
          4,
          12,
          3,
          18,
          8,
          13,
          35,
          5,
          13,
          20,
          4,
          13,
          36,
          4,
          8,
          59,
          4,
          4,
          34,
          4,
          39,
          40,
          4,
          30,
          6,
          9,
          9,
          5,
          19,
          22,
          6,
          5,
          4,
          4,
          17,
          37,
          14,
          4,
          41,
          4,
          13,
          4,
          5,
          7,
          4,
          8,
          5,
          8,
          8,
          2,
          4,
          45,
          6,
          4,
          69,
          4,
          4,
          46,
          32,
          17,
          6,
          9,
          4,
          19,
          9,
          14,
          8,
          50,
          4,
          5,
          8,
          7,
          4,
          16,
          4,
          4,
          6,
          14,
          4,
          42,
          4,
          15,
          33,
          4,
          4,
          17,
          30,
          11,
          2,
          8,
          7,
          4,
          13,
          9,
          24,
          16,
          9,
          22,
          8,
          8,
          2,
          15,
          6,
          11,
          39,
          4,
          4,
          4,
          5,
          45,
          46,
          4,
          9,
          70,
          4,
          4,
          10,
          4,
          6,
          4,
          36,
          19,
          4,
          4,
          4,
          6,
          4,
          12,
          4,
          16,
          12,
          12,
          5,
          4,
          37,
          13,
          16,
          3,
          4,
          4,
          16,
          2,
          4,
          15,
          4,
          2,
          7,
          9,
          4,
          9,
          17,
          4,
          22,
          6,
          8,
          11,
          17,
          19,
          27,
          22,
          5,
          15,
          8,
          4,
          4,
          28,
          56,
          44,
          4,
          21,
          3,
          5,
          5,
          5,
          9,
          4,
          9,
          8,
          3,
          4,
          4,
          11,
          4,
          14,
          4,
          61,
          13,
          4,
          5,
          50,
          162,
          24,
          21,
          4,
          31,
          5,
          9,
          12,
          28,
          9,
          23,
          4,
          4,
          6,
          8,
          24,
          4,
          4,
          4,
          6,
          2,
          12,
          4,
          27,
          8,
          4,
          4,
          14,
          59,
          32,
          8,
          4,
          16,
          7,
          36,
          4,
          4,
          15,
          8,
          3,
          9,
          4,
          4,
          9,
          4,
          4,
          9,
          4,
          4,
          4,
          6,
          13,
          19,
          3,
          88,
          9,
          33,
          30,
          3,
          4,
          4,
          5,
          9,
          6,
          4,
          4,
          8,
          8,
          40,
          4,
          4,
          13,
          4,
          43,
          4,
          5,
          25,
          4,
          12,
          4,
          78,
          21,
          19,
          49,
          73,
          12,
          20,
          4,
          36,
          10,
          13,
          5,
          4,
          20,
          4,
          30,
          13,
          5,
          5,
          24,
          4,
          4,
          10,
          3,
          16,
          4,
          7,
          4,
          4,
          10,
          4,
          12,
          17,
          3,
          16,
          8,
          2,
          22,
          2,
          58,
          7,
          41,
          4,
          9,
          20,
          4,
          8,
          8,
          2,
          13,
          5,
          5,
          4,
          15,
          46,
          4,
          23,
          4,
          52,
          5,
          17,
          67,
          4,
          13,
          12,
          9,
          7,
          5,
          9,
          15,
          20,
          3,
          8,
          8,
          2,
          17,
          9,
          4,
          4,
          13,
          6,
          8,
          13,
          4,
          6,
          68,
          8,
          4,
          9,
          8,
          4,
          12,
          4,
          17,
          2,
          4,
          14,
          3,
          15,
          7,
          111,
          10,
          12,
          4,
          7,
          4,
          5,
          8,
          14,
          4,
          5,
          4,
          6,
          9,
          10,
          6,
          25,
          15,
          8,
          4,
          4,
          17,
          4,
          24,
          5,
          7,
          4,
          9,
          12,
          28,
          23,
          21,
          4,
          4,
          9,
          8,
          19,
          34,
          20,
          4,
          2,
          34,
          142,
          5,
          56,
          44,
          10,
          4,
          9,
          8,
          13,
          4,
          4,
          7,
          3,
          13,
          20,
          7,
          4,
          4,
          4,
          36,
          4,
          20,
          4,
          3,
          4,
          4,
          5,
          4,
          32,
          51,
          5,
          9,
          33,
          35,
          7,
          5,
          9,
          5,
          4,
          7,
          9,
          9,
          5,
          4,
          4,
          25,
          9,
          9,
          54,
          17,
          164,
          26,
          10,
          13,
          15,
          6,
          154,
          4,
          51,
          4,
          4,
          6,
          4,
          8,
          5,
          7,
          4,
          4,
          4,
          8,
          12,
          4,
          5,
          4,
          100,
          4,
          34,
          10,
          14,
          88,
          5,
          10,
          9,
          12,
          4,
          9,
          4,
          9,
          43,
          54
         ],
         "xaxis": "x",
         "yaxis": "y"
        },
        {
         "alignmentgroup": "True",
         "bingroup": "x",
         "hovertemplate": "Label=-1<br>Review Length=%{x}<br>count=%{y}<extra></extra>",
         "legendgroup": "-1",
         "marker": {
          "color": "#EF553B",
          "pattern": {
           "shape": ""
          }
         },
         "name": "-1",
         "nbinsx": 30,
         "offsetgroup": "-1",
         "orientation": "v",
         "showlegend": true,
         "type": "histogram",
         "x": [
          40,
          357,
          35,
          57,
          78,
          128,
          11,
          110,
          237,
          35,
          12,
          38,
          40,
          46,
          45,
          4,
          143,
          74,
          30,
          490,
          14,
          10,
          30,
          9,
          82,
          46,
          51,
          138,
          114,
          46,
          360,
          275,
          18,
          20,
          41,
          107,
          55,
          35,
          19,
          18,
          7,
          77,
          183,
          156,
          51,
          45,
          138,
          52,
          8,
          9,
          105,
          40,
          14,
          31,
          48,
          95,
          29,
          31,
          59,
          3,
          2,
          95,
          20,
          19,
          58,
          5,
          64,
          288,
          61,
          16,
          100,
          19,
          424,
          171,
          25,
          75,
          4,
          11,
          4,
          3,
          6,
          49,
          11,
          3,
          4,
          53,
          27,
          49,
          25,
          33,
          4,
          15,
          41,
          4,
          4,
          496,
          8,
          22,
          120,
          105,
          9,
          2,
          2,
          2,
          24,
          389,
          13,
          43,
          16,
          147,
          142,
          70,
          486,
          29,
          89,
          174,
          18,
          76,
          22,
          25,
          153,
          13,
          4,
          163,
          496,
          78,
          86,
          28,
          88,
          338,
          7,
          498,
          32,
          9,
          95,
          491,
          50,
          90,
          77,
          126,
          123,
          87,
          14,
          8,
          27,
          215,
          47,
          227,
          54,
          248,
          121,
          80,
          116,
          171,
          126,
          141,
          7,
          82,
          83,
          156,
          119,
          196,
          315,
          11,
          17,
          29,
          52,
          4,
          4,
          4,
          4,
          56,
          24,
          8,
          53,
          5,
          436,
          251,
          46,
          234,
          234,
          110,
          276,
          146,
          50,
          110
         ],
         "xaxis": "x",
         "yaxis": "y"
        },
        {
         "alignmentgroup": "True",
         "bingroup": "x",
         "hovertemplate": "Label=0<br>Review Length=%{x}<br>count=%{y}<extra></extra>",
         "legendgroup": "0",
         "marker": {
          "color": "#00cc96",
          "pattern": {
           "shape": ""
          }
         },
         "name": "0",
         "nbinsx": 30,
         "offsetgroup": "0",
         "orientation": "v",
         "showlegend": true,
         "type": "histogram",
         "x": [
          61,
          6,
          2,
          206,
          4,
          22,
          4,
          4,
          4,
          125,
          4,
          3,
          4,
          22,
          4,
          10,
          4,
          4,
          13,
          4,
          4,
          5,
          22,
          3,
          5,
          4,
          42,
          4,
          4,
          27,
          4,
          4,
          4,
          2,
          4,
          5,
          4,
          4,
          24,
          13,
          20
         ],
         "xaxis": "x",
         "yaxis": "y"
        }
       ],
       "layout": {
        "autosize": true,
        "barmode": "relative",
        "legend": {
         "title": {
          "text": "Label"
         },
         "tracegroupgap": 0
        },
        "template": {
         "data": {
          "bar": [
           {
            "error_x": {
             "color": "#2a3f5f"
            },
            "error_y": {
             "color": "#2a3f5f"
            },
            "marker": {
             "line": {
              "color": "#E5ECF6",
              "width": 0.5
             },
             "pattern": {
              "fillmode": "overlay",
              "size": 10,
              "solidity": 0.2
             }
            },
            "type": "bar"
           }
          ],
          "barpolar": [
           {
            "marker": {
             "line": {
              "color": "#E5ECF6",
              "width": 0.5
             },
             "pattern": {
              "fillmode": "overlay",
              "size": 10,
              "solidity": 0.2
             }
            },
            "type": "barpolar"
           }
          ],
          "carpet": [
           {
            "aaxis": {
             "endlinecolor": "#2a3f5f",
             "gridcolor": "white",
             "linecolor": "white",
             "minorgridcolor": "white",
             "startlinecolor": "#2a3f5f"
            },
            "baxis": {
             "endlinecolor": "#2a3f5f",
             "gridcolor": "white",
             "linecolor": "white",
             "minorgridcolor": "white",
             "startlinecolor": "#2a3f5f"
            },
            "type": "carpet"
           }
          ],
          "choropleth": [
           {
            "colorbar": {
             "outlinewidth": 0,
             "ticks": ""
            },
            "type": "choropleth"
           }
          ],
          "contour": [
           {
            "colorbar": {
             "outlinewidth": 0,
             "ticks": ""
            },
            "colorscale": [
             [
              0,
              "#0d0887"
             ],
             [
              0.1111111111111111,
              "#46039f"
             ],
             [
              0.2222222222222222,
              "#7201a8"
             ],
             [
              0.3333333333333333,
              "#9c179e"
             ],
             [
              0.4444444444444444,
              "#bd3786"
             ],
             [
              0.5555555555555556,
              "#d8576b"
             ],
             [
              0.6666666666666666,
              "#ed7953"
             ],
             [
              0.7777777777777778,
              "#fb9f3a"
             ],
             [
              0.8888888888888888,
              "#fdca26"
             ],
             [
              1,
              "#f0f921"
             ]
            ],
            "type": "contour"
           }
          ],
          "contourcarpet": [
           {
            "colorbar": {
             "outlinewidth": 0,
             "ticks": ""
            },
            "type": "contourcarpet"
           }
          ],
          "heatmap": [
           {
            "colorbar": {
             "outlinewidth": 0,
             "ticks": ""
            },
            "colorscale": [
             [
              0,
              "#0d0887"
             ],
             [
              0.1111111111111111,
              "#46039f"
             ],
             [
              0.2222222222222222,
              "#7201a8"
             ],
             [
              0.3333333333333333,
              "#9c179e"
             ],
             [
              0.4444444444444444,
              "#bd3786"
             ],
             [
              0.5555555555555556,
              "#d8576b"
             ],
             [
              0.6666666666666666,
              "#ed7953"
             ],
             [
              0.7777777777777778,
              "#fb9f3a"
             ],
             [
              0.8888888888888888,
              "#fdca26"
             ],
             [
              1,
              "#f0f921"
             ]
            ],
            "type": "heatmap"
           }
          ],
          "heatmapgl": [
           {
            "colorbar": {
             "outlinewidth": 0,
             "ticks": ""
            },
            "colorscale": [
             [
              0,
              "#0d0887"
             ],
             [
              0.1111111111111111,
              "#46039f"
             ],
             [
              0.2222222222222222,
              "#7201a8"
             ],
             [
              0.3333333333333333,
              "#9c179e"
             ],
             [
              0.4444444444444444,
              "#bd3786"
             ],
             [
              0.5555555555555556,
              "#d8576b"
             ],
             [
              0.6666666666666666,
              "#ed7953"
             ],
             [
              0.7777777777777778,
              "#fb9f3a"
             ],
             [
              0.8888888888888888,
              "#fdca26"
             ],
             [
              1,
              "#f0f921"
             ]
            ],
            "type": "heatmapgl"
           }
          ],
          "histogram": [
           {
            "marker": {
             "pattern": {
              "fillmode": "overlay",
              "size": 10,
              "solidity": 0.2
             }
            },
            "type": "histogram"
           }
          ],
          "histogram2d": [
           {
            "colorbar": {
             "outlinewidth": 0,
             "ticks": ""
            },
            "colorscale": [
             [
              0,
              "#0d0887"
             ],
             [
              0.1111111111111111,
              "#46039f"
             ],
             [
              0.2222222222222222,
              "#7201a8"
             ],
             [
              0.3333333333333333,
              "#9c179e"
             ],
             [
              0.4444444444444444,
              "#bd3786"
             ],
             [
              0.5555555555555556,
              "#d8576b"
             ],
             [
              0.6666666666666666,
              "#ed7953"
             ],
             [
              0.7777777777777778,
              "#fb9f3a"
             ],
             [
              0.8888888888888888,
              "#fdca26"
             ],
             [
              1,
              "#f0f921"
             ]
            ],
            "type": "histogram2d"
           }
          ],
          "histogram2dcontour": [
           {
            "colorbar": {
             "outlinewidth": 0,
             "ticks": ""
            },
            "colorscale": [
             [
              0,
              "#0d0887"
             ],
             [
              0.1111111111111111,
              "#46039f"
             ],
             [
              0.2222222222222222,
              "#7201a8"
             ],
             [
              0.3333333333333333,
              "#9c179e"
             ],
             [
              0.4444444444444444,
              "#bd3786"
             ],
             [
              0.5555555555555556,
              "#d8576b"
             ],
             [
              0.6666666666666666,
              "#ed7953"
             ],
             [
              0.7777777777777778,
              "#fb9f3a"
             ],
             [
              0.8888888888888888,
              "#fdca26"
             ],
             [
              1,
              "#f0f921"
             ]
            ],
            "type": "histogram2dcontour"
           }
          ],
          "mesh3d": [
           {
            "colorbar": {
             "outlinewidth": 0,
             "ticks": ""
            },
            "type": "mesh3d"
           }
          ],
          "parcoords": [
           {
            "line": {
             "colorbar": {
              "outlinewidth": 0,
              "ticks": ""
             }
            },
            "type": "parcoords"
           }
          ],
          "pie": [
           {
            "automargin": true,
            "type": "pie"
           }
          ],
          "scatter": [
           {
            "fillpattern": {
             "fillmode": "overlay",
             "size": 10,
             "solidity": 0.2
            },
            "type": "scatter"
           }
          ],
          "scatter3d": [
           {
            "line": {
             "colorbar": {
              "outlinewidth": 0,
              "ticks": ""
             }
            },
            "marker": {
             "colorbar": {
              "outlinewidth": 0,
              "ticks": ""
             }
            },
            "type": "scatter3d"
           }
          ],
          "scattercarpet": [
           {
            "marker": {
             "colorbar": {
              "outlinewidth": 0,
              "ticks": ""
             }
            },
            "type": "scattercarpet"
           }
          ],
          "scattergeo": [
           {
            "marker": {
             "colorbar": {
              "outlinewidth": 0,
              "ticks": ""
             }
            },
            "type": "scattergeo"
           }
          ],
          "scattergl": [
           {
            "marker": {
             "colorbar": {
              "outlinewidth": 0,
              "ticks": ""
             }
            },
            "type": "scattergl"
           }
          ],
          "scattermapbox": [
           {
            "marker": {
             "colorbar": {
              "outlinewidth": 0,
              "ticks": ""
             }
            },
            "type": "scattermapbox"
           }
          ],
          "scatterpolar": [
           {
            "marker": {
             "colorbar": {
              "outlinewidth": 0,
              "ticks": ""
             }
            },
            "type": "scatterpolar"
           }
          ],
          "scatterpolargl": [
           {
            "marker": {
             "colorbar": {
              "outlinewidth": 0,
              "ticks": ""
             }
            },
            "type": "scatterpolargl"
           }
          ],
          "scatterternary": [
           {
            "marker": {
             "colorbar": {
              "outlinewidth": 0,
              "ticks": ""
             }
            },
            "type": "scatterternary"
           }
          ],
          "surface": [
           {
            "colorbar": {
             "outlinewidth": 0,
             "ticks": ""
            },
            "colorscale": [
             [
              0,
              "#0d0887"
             ],
             [
              0.1111111111111111,
              "#46039f"
             ],
             [
              0.2222222222222222,
              "#7201a8"
             ],
             [
              0.3333333333333333,
              "#9c179e"
             ],
             [
              0.4444444444444444,
              "#bd3786"
             ],
             [
              0.5555555555555556,
              "#d8576b"
             ],
             [
              0.6666666666666666,
              "#ed7953"
             ],
             [
              0.7777777777777778,
              "#fb9f3a"
             ],
             [
              0.8888888888888888,
              "#fdca26"
             ],
             [
              1,
              "#f0f921"
             ]
            ],
            "type": "surface"
           }
          ],
          "table": [
           {
            "cells": {
             "fill": {
              "color": "#EBF0F8"
             },
             "line": {
              "color": "white"
             }
            },
            "header": {
             "fill": {
              "color": "#C8D4E3"
             },
             "line": {
              "color": "white"
             }
            },
            "type": "table"
           }
          ]
         },
         "layout": {
          "annotationdefaults": {
           "arrowcolor": "#2a3f5f",
           "arrowhead": 0,
           "arrowwidth": 1
          },
          "autotypenumbers": "strict",
          "coloraxis": {
           "colorbar": {
            "outlinewidth": 0,
            "ticks": ""
           }
          },
          "colorscale": {
           "diverging": [
            [
             0,
             "#8e0152"
            ],
            [
             0.1,
             "#c51b7d"
            ],
            [
             0.2,
             "#de77ae"
            ],
            [
             0.3,
             "#f1b6da"
            ],
            [
             0.4,
             "#fde0ef"
            ],
            [
             0.5,
             "#f7f7f7"
            ],
            [
             0.6,
             "#e6f5d0"
            ],
            [
             0.7,
             "#b8e186"
            ],
            [
             0.8,
             "#7fbc41"
            ],
            [
             0.9,
             "#4d9221"
            ],
            [
             1,
             "#276419"
            ]
           ],
           "sequential": [
            [
             0,
             "#0d0887"
            ],
            [
             0.1111111111111111,
             "#46039f"
            ],
            [
             0.2222222222222222,
             "#7201a8"
            ],
            [
             0.3333333333333333,
             "#9c179e"
            ],
            [
             0.4444444444444444,
             "#bd3786"
            ],
            [
             0.5555555555555556,
             "#d8576b"
            ],
            [
             0.6666666666666666,
             "#ed7953"
            ],
            [
             0.7777777777777778,
             "#fb9f3a"
            ],
            [
             0.8888888888888888,
             "#fdca26"
            ],
            [
             1,
             "#f0f921"
            ]
           ],
           "sequentialminus": [
            [
             0,
             "#0d0887"
            ],
            [
             0.1111111111111111,
             "#46039f"
            ],
            [
             0.2222222222222222,
             "#7201a8"
            ],
            [
             0.3333333333333333,
             "#9c179e"
            ],
            [
             0.4444444444444444,
             "#bd3786"
            ],
            [
             0.5555555555555556,
             "#d8576b"
            ],
            [
             0.6666666666666666,
             "#ed7953"
            ],
            [
             0.7777777777777778,
             "#fb9f3a"
            ],
            [
             0.8888888888888888,
             "#fdca26"
            ],
            [
             1,
             "#f0f921"
            ]
           ]
          },
          "colorway": [
           "#636efa",
           "#EF553B",
           "#00cc96",
           "#ab63fa",
           "#FFA15A",
           "#19d3f3",
           "#FF6692",
           "#B6E880",
           "#FF97FF",
           "#FECB52"
          ],
          "font": {
           "color": "#2a3f5f"
          },
          "geo": {
           "bgcolor": "white",
           "lakecolor": "white",
           "landcolor": "#E5ECF6",
           "showlakes": true,
           "showland": true,
           "subunitcolor": "white"
          },
          "hoverlabel": {
           "align": "left"
          },
          "hovermode": "closest",
          "mapbox": {
           "style": "light"
          },
          "paper_bgcolor": "white",
          "plot_bgcolor": "#E5ECF6",
          "polar": {
           "angularaxis": {
            "gridcolor": "white",
            "linecolor": "white",
            "ticks": ""
           },
           "bgcolor": "#E5ECF6",
           "radialaxis": {
            "gridcolor": "white",
            "linecolor": "white",
            "ticks": ""
           }
          },
          "scene": {
           "xaxis": {
            "backgroundcolor": "#E5ECF6",
            "gridcolor": "white",
            "gridwidth": 2,
            "linecolor": "white",
            "showbackground": true,
            "ticks": "",
            "zerolinecolor": "white"
           },
           "yaxis": {
            "backgroundcolor": "#E5ECF6",
            "gridcolor": "white",
            "gridwidth": 2,
            "linecolor": "white",
            "showbackground": true,
            "ticks": "",
            "zerolinecolor": "white"
           },
           "zaxis": {
            "backgroundcolor": "#E5ECF6",
            "gridcolor": "white",
            "gridwidth": 2,
            "linecolor": "white",
            "showbackground": true,
            "ticks": "",
            "zerolinecolor": "white"
           }
          },
          "shapedefaults": {
           "line": {
            "color": "#2a3f5f"
           }
          },
          "ternary": {
           "aaxis": {
            "gridcolor": "white",
            "linecolor": "white",
            "ticks": ""
           },
           "baxis": {
            "gridcolor": "white",
            "linecolor": "white",
            "ticks": ""
           },
           "bgcolor": "#E5ECF6",
           "caxis": {
            "gridcolor": "white",
            "linecolor": "white",
            "ticks": ""
           }
          },
          "title": {
           "x": 0.05
          },
          "xaxis": {
           "automargin": true,
           "gridcolor": "white",
           "linecolor": "white",
           "ticks": "",
           "title": {
            "standoff": 15
           },
           "zerolinecolor": "white",
           "zerolinewidth": 2
          },
          "yaxis": {
           "automargin": true,
           "gridcolor": "white",
           "linecolor": "white",
           "ticks": "",
           "title": {
            "standoff": 15
           },
           "zerolinecolor": "white",
           "zerolinewidth": 2
          }
         }
        },
        "title": {
         "text": "Distribution of Review Lengths"
        },
        "xaxis": {
         "anchor": "y",
         "autorange": true,
         "domain": [
          0,
          1
         ],
         "range": [
          -0.5,
          499.5
         ],
         "title": {
          "text": "Review Length"
         },
         "type": "linear"
        },
        "yaxis": {
         "anchor": "x",
         "autorange": true,
         "domain": [
          0,
          1
         ],
         "range": [
          0,
          738.9473684210526
         ],
         "title": {
          "text": "count"
         }
        }
       }
      },
      "image/png": "[encoded data removed]",
      "text/html": [
       "<div>                            <div id=\"6115bcca-0fd6-433b-a17b-cf13a4ecf49f\" class=\"plotly-graph-div\" style=\"height:525px; width:100%;\"></div>            <script type=\"text/javascript\">                require([\"plotly\"], function(Plotly) {                    window.PLOTLYENV=window.PLOTLYENV || {};                                    if (document.getElementById(\"6115bcca-0fd6-433b-a17b-cf13a4ecf49f\")) {                    Plotly.newPlot(                        \"6115bcca-0fd6-433b-a17b-cf13a4ecf49f\",                        [{\"alignmentgroup\":\"True\",\"bingroup\":\"x\",\"hovertemplate\":\"Label=1\\u003cbr\\u003eReview Length=%{x}\\u003cbr\\u003ecount=%{y}\\u003cextra\\u003e\\u003c\\u002fextra\\u003e\",\"legendgroup\":\"1\",\"marker\":{\"color\":\"#636efa\",\"pattern\":{\"shape\":\"\"}},\"name\":\"1\",\"nbinsx\":30,\"offsetgroup\":\"1\",\"orientation\":\"v\",\"showlegend\":true,\"x\":[2,4,28,5,8,20,8,16,14,4,5,11,6,4,123,21,21,5,4,22,4,4,7,4,31,12,5,146,9,9,4,9,4,7,64,4,4,11,31,7,8,9,9,5,4,7,4,4,4,4,4,9,4,24,6,9,4,14,9,13,8,12,6,9,9,35,19,12,4,59,8,36,4,17,4,4,13,6,5,4,20,5,18,4,56,26,4,223,14,4,4,4,2,17,15,4,15,13,8,13,9,3,5,9,4,33,8,12,7,7,16,4,14,20,3,7,4,8,4,26,81,15,40,37,9,30,4,4,9,5,9,8,18,6,21,5,4,4,2,16,2,9,14,3,13,4,11,4,4,5,2,6,4,5,8,2,4,4,4,9,4,101,8,37,94,8,3,4,5,4,27,13,25,4,4,93,15,96,4,5,5,4,5,4,29,33,54,12,9,4,8,3,4,4,6,6,25,9,17,17,3,4,6,5,21,15,38,7,13,9,4,4,4,19,4,4,9,228,133,5,9,4,15,7,8,9,8,37,25,4,9,4,4,18,5,18,9,8,25,10,16,8,4,4,4,13,4,12,4,43,6,75,4,4,43,9,60,4,5,21,4,2,26,30,73,11,9,2,25,4,4,12,3,18,8,13,35,5,13,20,4,13,36,4,8,59,4,4,34,4,39,40,4,30,6,9,9,5,19,22,6,5,4,4,17,37,14,4,41,4,13,4,5,7,4,8,5,8,8,2,4,45,6,4,69,4,4,46,32,17,6,9,4,19,9,14,8,50,4,5,8,7,4,16,4,4,6,14,4,42,4,15,33,4,4,17,30,11,2,8,7,4,13,9,24,16,9,22,8,8,2,15,6,11,39,4,4,4,5,45,46,4,9,70,4,4,10,4,6,4,36,19,4,4,4,6,4,12,4,16,12,12,5,4,37,13,16,3,4,4,16,2,4,15,4,2,7,9,4,9,17,4,22,6,8,11,17,19,27,22,5,15,8,4,4,28,56,44,4,21,3,5,5,5,9,4,9,8,3,4,4,11,4,14,4,61,13,4,5,50,162,24,21,4,31,5,9,12,28,9,23,4,4,6,8,24,4,4,4,6,2,12,4,27,8,4,4,14,59,32,8,4,16,7,36,4,4,15,8,3,9,4,4,9,4,4,9,4,4,4,6,13,19,3,88,9,33,30,3,4,4,5,9,6,4,4,8,8,40,4,4,13,4,43,4,5,25,4,12,4,78,21,19,49,73,12,20,4,36,10,13,5,4,20,4,30,13,5,5,24,4,4,10,3,16,4,7,4,4,10,4,12,17,3,16,8,2,22,2,58,7,41,4,9,20,4,8,8,2,13,5,5,4,15,46,4,23,4,52,5,17,67,4,13,12,9,7,5,9,15,20,3,8,8,2,17,9,4,4,13,6,8,13,4,6,68,8,4,9,8,4,12,4,17,2,4,14,3,15,7,111,10,12,4,7,4,5,8,14,4,5,4,6,9,10,6,25,15,8,4,4,17,4,24,5,7,4,9,12,28,23,21,4,4,9,8,19,34,20,4,2,34,142,5,56,44,10,4,9,8,13,4,4,7,3,13,20,7,4,4,4,36,4,20,4,3,4,4,5,4,32,51,5,9,33,35,7,5,9,5,4,7,9,9,5,4,4,25,9,9,54,17,164,26,10,13,15,6,154,4,51,4,4,6,4,8,5,7,4,4,4,8,12,4,5,4,100,4,34,10,14,88,5,10,9,12,4,9,4,9,43,54],\"xaxis\":\"x\",\"yaxis\":\"y\",\"type\":\"histogram\"},{\"alignmentgroup\":\"True\",\"bingroup\":\"x\",\"hovertemplate\":\"Label=-1\\u003cbr\\u003eReview Length=%{x}\\u003cbr\\u003ecount=%{y}\\u003cextra\\u003e\\u003c\\u002fextra\\u003e\",\"legendgroup\":\"-1\",\"marker\":{\"color\":\"#EF553B\",\"pattern\":{\"shape\":\"\"}},\"name\":\"-1\",\"nbinsx\":30,\"offsetgroup\":\"-1\",\"orientation\":\"v\",\"showlegend\":true,\"x\":[40,357,35,57,78,128,11,110,237,35,12,38,40,46,45,4,143,74,30,490,14,10,30,9,82,46,51,138,114,46,360,275,18,20,41,107,55,35,19,18,7,77,183,156,51,45,138,52,8,9,105,40,14,31,48,95,29,31,59,3,2,95,20,19,58,5,64,288,61,16,100,19,424,171,25,75,4,11,4,3,6,49,11,3,4,53,27,49,25,33,4,15,41,4,4,496,8,22,120,105,9,2,2,2,24,389,13,43,16,147,142,70,486,29,89,174,18,76,22,25,153,13,4,163,496,78,86,28,88,338,7,498,32,9,95,491,50,90,77,126,123,87,14,8,27,215,47,227,54,248,121,80,116,171,126,141,7,82,83,156,119,196,315,11,17,29,52,4,4,4,4,56,24,8,53,5,436,251,46,234,234,110,276,146,50,110],\"xaxis\":\"x\",\"yaxis\":\"y\",\"type\":\"histogram\"},{\"alignmentgroup\":\"True\",\"bingroup\":\"x\",\"hovertemplate\":\"Label=0\\u003cbr\\u003eReview Length=%{x}\\u003cbr\\u003ecount=%{y}\\u003cextra\\u003e\\u003c\\u002fextra\\u003e\",\"legendgroup\":\"0\",\"marker\":{\"color\":\"#00cc96\",\"pattern\":{\"shape\":\"\"}},\"name\":\"0\",\"nbinsx\":30,\"offsetgroup\":\"0\",\"orientation\":\"v\",\"showlegend\":true,\"x\":[61,6,2,206,4,22,4,4,4,125,4,3,4,22,4,10,4,4,13,4,4,5,22,3,5,4,42,4,4,27,4,4,4,2,4,5,4,4,24,13,20],\"xaxis\":\"x\",\"yaxis\":\"y\",\"type\":\"histogram\"}],                        {\"template\":{\"data\":{\"histogram2dcontour\":[{\"type\":\"histogram2dcontour\",\"colorbar\":{\"outlinewidth\":0,\"ticks\":\"\"},\"colorscale\":[[0.0,\"#0d0887\"],[0.1111111111111111,\"#46039f\"],[0.2222222222222222,\"#7201a8\"],[0.3333333333333333,\"#9c179e\"],[0.4444444444444444,\"#bd3786\"],[0.5555555555555556,\"#d8576b\"],[0.6666666666666666,\"#ed7953\"],[0.7777777777777778,\"#fb9f3a\"],[0.8888888888888888,\"#fdca26\"],[1.0,\"#f0f921\"]]}],\"choropleth\":[{\"type\":\"choropleth\",\"colorbar\":{\"outlinewidth\":0,\"ticks\":\"\"}}],\"histogram2d\":[{\"type\":\"histogram2d\",\"colorbar\":{\"outlinewidth\":0,\"ticks\":\"\"},\"colorscale\":[[0.0,\"#0d0887\"],[0.1111111111111111,\"#46039f\"],[0.2222222222222222,\"#7201a8\"],[0.3333333333333333,\"#9c179e\"],[0.4444444444444444,\"#bd3786\"],[0.5555555555555556,\"#d8576b\"],[0.6666666666666666,\"#ed7953\"],[0.7777777777777778,\"#fb9f3a\"],[0.8888888888888888,\"#fdca26\"],[1.0,\"#f0f921\"]]}],\"heatmap\":[{\"type\":\"heatmap\",\"colorbar\":{\"outlinewidth\":0,\"ticks\":\"\"},\"colorscale\":[[0.0,\"#0d0887\"],[0.1111111111111111,\"#46039f\"],[0.2222222222222222,\"#7201a8\"],[0.3333333333333333,\"#9c179e\"],[0.4444444444444444,\"#bd3786\"],[0.5555555555555556,\"#d8576b\"],[0.6666666666666666,\"#ed7953\"],[0.7777777777777778,\"#fb9f3a\"],[0.8888888888888888,\"#fdca26\"],[1.0,\"#f0f921\"]]}],\"heatmapgl\":[{\"type\":\"heatmapgl\",\"colorbar\":{\"outlinewidth\":0,\"ticks\":\"\"},\"colorscale\":[[0.0,\"#0d0887\"],[0.1111111111111111,\"#46039f\"],[0.2222222222222222,\"#7201a8\"],[0.3333333333333333,\"#9c179e\"],[0.4444444444444444,\"#bd3786\"],[0.5555555555555556,\"#d8576b\"],[0.6666666666666666,\"#ed7953\"],[0.7777777777777778,\"#fb9f3a\"],[0.8888888888888888,\"#fdca26\"],[1.0,\"#f0f921\"]]}],\"contourcarpet\":[{\"type\":\"contourcarpet\",\"colorbar\":{\"outlinewidth\":0,\"ticks\":\"\"}}],\"contour\":[{\"type\":\"contour\",\"colorbar\":{\"outlinewidth\":0,\"ticks\":\"\"},\"colorscale\":[[0.0,\"#0d0887\"],[0.1111111111111111,\"#46039f\"],[0.2222222222222222,\"#7201a8\"],[0.3333333333333333,\"#9c179e\"],[0.4444444444444444,\"#bd3786\"],[0.5555555555555556,\"#d8576b\"],[0.6666666666666666,\"#ed7953\"],[0.7777777777777778,\"#fb9f3a\"],[0.8888888888888888,\"#fdca26\"],[1.0,\"#f0f921\"]]}],\"surface\":[{\"type\":\"surface\",\"colorbar\":{\"outlinewidth\":0,\"ticks\":\"\"},\"colorscale\":[[0.0,\"#0d0887\"],[0.1111111111111111,\"#46039f\"],[0.2222222222222222,\"#7201a8\"],[0.3333333333333333,\"#9c179e\"],[0.4444444444444444,\"#bd3786\"],[0.5555555555555556,\"#d8576b\"],[0.6666666666666666,\"#ed7953\"],[0.7777777777777778,\"#fb9f3a\"],[0.8888888888888888,\"#fdca26\"],[1.0,\"#f0f921\"]]}],\"mesh3d\":[{\"type\":\"mesh3d\",\"colorbar\":{\"outlinewidth\":0,\"ticks\":\"\"}}],\"scatter\":[{\"fillpattern\":{\"fillmode\":\"overlay\",\"size\":10,\"solidity\":0.2},\"type\":\"scatter\"}],\"parcoords\":[{\"type\":\"parcoords\",\"line\":{\"colorbar\":{\"outlinewidth\":0,\"ticks\":\"\"}}}],\"scatterpolargl\":[{\"type\":\"scatterpolargl\",\"marker\":{\"colorbar\":{\"outlinewidth\":0,\"ticks\":\"\"}}}],\"bar\":[{\"error_x\":{\"color\":\"#2a3f5f\"},\"error_y\":{\"color\":\"#2a3f5f\"},\"marker\":{\"line\":{\"color\":\"#E5ECF6\",\"width\":0.5},\"pattern\":{\"fillmode\":\"overlay\",\"size\":10,\"solidity\":0.2}},\"type\":\"bar\"}],\"scattergeo\":[{\"type\":\"scattergeo\",\"marker\":{\"colorbar\":{\"outlinewidth\":0,\"ticks\":\"\"}}}],\"scatterpolar\":[{\"type\":\"scatterpolar\",\"marker\":{\"colorbar\":{\"outlinewidth\":0,\"ticks\":\"\"}}}],\"histogram\":[{\"marker\":{\"pattern\":{\"fillmode\":\"overlay\",\"size\":10,\"solidity\":0.2}},\"type\":\"histogram\"}],\"scattergl\":[{\"type\":\"scattergl\",\"marker\":{\"colorbar\":{\"outlinewidth\":0,\"ticks\":\"\"}}}],\"scatter3d\":[{\"type\":\"scatter3d\",\"line\":{\"colorbar\":{\"outlinewidth\":0,\"ticks\":\"\"}},\"marker\":{\"colorbar\":{\"outlinewidth\":0,\"ticks\":\"\"}}}],\"scattermapbox\":[{\"type\":\"scattermapbox\",\"marker\":{\"colorbar\":{\"outlinewidth\":0,\"ticks\":\"\"}}}],\"scatterternary\":[{\"type\":\"scatterternary\",\"marker\":{\"colorbar\":{\"outlinewidth\":0,\"ticks\":\"\"}}}],\"scattercarpet\":[{\"type\":\"scattercarpet\",\"marker\":{\"colorbar\":{\"outlinewidth\":0,\"ticks\":\"\"}}}],\"carpet\":[{\"aaxis\":{\"endlinecolor\":\"#2a3f5f\",\"gridcolor\":\"white\",\"linecolor\":\"white\",\"minorgridcolor\":\"white\",\"startlinecolor\":\"#2a3f5f\"},\"baxis\":{\"endlinecolor\":\"#2a3f5f\",\"gridcolor\":\"white\",\"linecolor\":\"white\",\"minorgridcolor\":\"white\",\"startlinecolor\":\"#2a3f5f\"},\"type\":\"carpet\"}],\"table\":[{\"cells\":{\"fill\":{\"color\":\"#EBF0F8\"},\"line\":{\"color\":\"white\"}},\"header\":{\"fill\":{\"color\":\"#C8D4E3\"},\"line\":{\"color\":\"white\"}},\"type\":\"table\"}],\"barpolar\":[{\"marker\":{\"line\":{\"color\":\"#E5ECF6\",\"width\":0.5},\"pattern\":{\"fillmode\":\"overlay\",\"size\":10,\"solidity\":0.2}},\"type\":\"barpolar\"}],\"pie\":[{\"automargin\":true,\"type\":\"pie\"}]},\"layout\":{\"autotypenumbers\":\"strict\",\"colorway\":[\"#636efa\",\"#EF553B\",\"#00cc96\",\"#ab63fa\",\"#FFA15A\",\"#19d3f3\",\"#FF6692\",\"#B6E880\",\"#FF97FF\",\"#FECB52\"],\"font\":{\"color\":\"#2a3f5f\"},\"hovermode\":\"closest\",\"hoverlabel\":{\"align\":\"left\"},\"paper_bgcolor\":\"white\",\"plot_bgcolor\":\"#E5ECF6\",\"polar\":{\"bgcolor\":\"#E5ECF6\",\"angularaxis\":{\"gridcolor\":\"white\",\"linecolor\":\"white\",\"ticks\":\"\"},\"radialaxis\":{\"gridcolor\":\"white\",\"linecolor\":\"white\",\"ticks\":\"\"}},\"ternary\":{\"bgcolor\":\"#E5ECF6\",\"aaxis\":{\"gridcolor\":\"white\",\"linecolor\":\"white\",\"ticks\":\"\"},\"baxis\":{\"gridcolor\":\"white\",\"linecolor\":\"white\",\"ticks\":\"\"},\"caxis\":{\"gridcolor\":\"white\",\"linecolor\":\"white\",\"ticks\":\"\"}},\"coloraxis\":{\"colorbar\":{\"outlinewidth\":0,\"ticks\":\"\"}},\"colorscale\":{\"sequential\":[[0.0,\"#0d0887\"],[0.1111111111111111,\"#46039f\"],[0.2222222222222222,\"#7201a8\"],[0.3333333333333333,\"#9c179e\"],[0.4444444444444444,\"#bd3786\"],[0.5555555555555556,\"#d8576b\"],[0.6666666666666666,\"#ed7953\"],[0.7777777777777778,\"#fb9f3a\"],[0.8888888888888888,\"#fdca26\"],[1.0,\"#f0f921\"]],\"sequentialminus\":[[0.0,\"#0d0887\"],[0.1111111111111111,\"#46039f\"],[0.2222222222222222,\"#7201a8\"],[0.3333333333333333,\"#9c179e\"],[0.4444444444444444,\"#bd3786\"],[0.5555555555555556,\"#d8576b\"],[0.6666666666666666,\"#ed7953\"],[0.7777777777777778,\"#fb9f3a\"],[0.8888888888888888,\"#fdca26\"],[1.0,\"#f0f921\"]],\"diverging\":[[0,\"#8e0152\"],[0.1,\"#c51b7d\"],[0.2,\"#de77ae\"],[0.3,\"#f1b6da\"],[0.4,\"#fde0ef\"],[0.5,\"#f7f7f7\"],[0.6,\"#e6f5d0\"],[0.7,\"#b8e186\"],[0.8,\"#7fbc41\"],[0.9,\"#4d9221\"],[1,\"#276419\"]]},\"xaxis\":{\"gridcolor\":\"white\",\"linecolor\":\"white\",\"ticks\":\"\",\"title\":{\"standoff\":15},\"zerolinecolor\":\"white\",\"automargin\":true,\"zerolinewidth\":2},\"yaxis\":{\"gridcolor\":\"white\",\"linecolor\":\"white\",\"ticks\":\"\",\"title\":{\"standoff\":15},\"zerolinecolor\":\"white\",\"automargin\":true,\"zerolinewidth\":2},\"scene\":{\"xaxis\":{\"backgroundcolor\":\"#E5ECF6\",\"gridcolor\":\"white\",\"linecolor\":\"white\",\"showbackground\":true,\"ticks\":\"\",\"zerolinecolor\":\"white\",\"gridwidth\":2},\"yaxis\":{\"backgroundcolor\":\"#E5ECF6\",\"gridcolor\":\"white\",\"linecolor\":\"white\",\"showbackground\":true,\"ticks\":\"\",\"zerolinecolor\":\"white\",\"gridwidth\":2},\"zaxis\":{\"backgroundcolor\":\"#E5ECF6\",\"gridcolor\":\"white\",\"linecolor\":\"white\",\"showbackground\":true,\"ticks\":\"\",\"zerolinecolor\":\"white\",\"gridwidth\":2}},\"shapedefaults\":{\"line\":{\"color\":\"#2a3f5f\"}},\"annotationdefaults\":{\"arrowcolor\":\"#2a3f5f\",\"arrowhead\":0,\"arrowwidth\":1},\"geo\":{\"bgcolor\":\"white\",\"landcolor\":\"#E5ECF6\",\"subunitcolor\":\"white\",\"showland\":true,\"showlakes\":true,\"lakecolor\":\"white\"},\"title\":{\"x\":0.05},\"mapbox\":{\"style\":\"light\"}}},\"xaxis\":{\"anchor\":\"y\",\"domain\":[0.0,1.0],\"title\":{\"text\":\"Review Length\"}},\"yaxis\":{\"anchor\":\"x\",\"domain\":[0.0,1.0],\"title\":{\"text\":\"count\"}},\"legend\":{\"title\":{\"text\":\"Label\"},\"tracegroupgap\":0},\"title\":{\"text\":\"Distribution of Review Lengths\"},\"barmode\":\"relative\"},                        {\"responsive\": true}                    ).then(function(){\n",
       "                            \n",
       "var gd = document.getElementById('6115bcca-0fd6-433b-a17b-cf13a4ecf49f');\n",
       "var x = new MutationObserver(function (mutations, observer) {{\n",
       "        var display = window.getComputedStyle(gd).display;\n",
       "        if (!display || display === 'none') {{\n",
       "            console.log([gd, 'removed!']);\n",
       "            Plotly.purge(gd);\n",
       "            observer.disconnect();\n",
       "        }}\n",
       "}});\n",
       "\n",
       "// Listen for the removal of the full notebook cells\n",
       "var notebookContainer = gd.closest('#notebook-container');\n",
       "if (notebookContainer) {{\n",
       "    x.observe(notebookContainer, {childList: true});\n",
       "}}\n",
       "\n",
       "// Listen for the clearing of the current output cell\n",
       "var outputEl = gd.closest('.output');\n",
       "if (outputEl) {{\n",
       "    x.observe(outputEl, {childList: true});\n",
       "}}\n",
       "\n",
       "                        })                };                });            </script>        </div>"
      ]
     },
     "metadata": {},
     "output_type": "display_data"
    },
    {
     "data": {
      "application/vnd.plotly.v1+json": {
       "config": {
        "plotlyServerURL": "https://plot.ly"
       },
       "data": [
        {
         "alignmentgroup": "True",
         "bingroup": "x",
         "hovertemplate": "Label=1<br>Word Count=%{x}<br>count=%{y}<extra></extra>",
         "legendgroup": "1",
         "marker": {
          "color": "#636efa",
          "pattern": {
           "shape": ""
          }
         },
         "name": "1",
         "nbinsx": 30,
         "offsetgroup": "1",
         "orientation": "v",
         "showlegend": true,
         "type": "histogram",
         "x": [
          1,
          1,
          6,
          1,
          2,
          5,
          1,
          4,
          3,
          1,
          1,
          2,
          1,
          1,
          24,
          4,
          4,
          1,
          1,
          5,
          1,
          1,
          1,
          1,
          6,
          2,
          1,
          29,
          2,
          2,
          1,
          1,
          1,
          1,
          11,
          1,
          1,
          2,
          6,
          1,
          2,
          2,
          2,
          1,
          1,
          1,
          1,
          1,
          1,
          1,
          1,
          1,
          1,
          4,
          1,
          2,
          1,
          2,
          2,
          2,
          2,
          2,
          1,
          1,
          2,
          5,
          2,
          2,
          1,
          13,
          2,
          7,
          1,
          3,
          1,
          1,
          2,
          2,
          1,
          1,
          3,
          1,
          4,
          1,
          12,
          5,
          1,
          38,
          3,
          1,
          1,
          2,
          1,
          3,
          3,
          1,
          3,
          3,
          2,
          3,
          2,
          1,
          1,
          2,
          1,
          8,
          2,
          2,
          2,
          1,
          4,
          1,
          2,
          2,
          1,
          1,
          1,
          1,
          1,
          4,
          14,
          3,
          9,
          5,
          2,
          6,
          1,
          1,
          2,
          1,
          2,
          2,
          4,
          1,
          4,
          1,
          1,
          1,
          1,
          2,
          1,
          2,
          3,
          1,
          3,
          1,
          2,
          1,
          1,
          1,
          1,
          1,
          1,
          1,
          2,
          1,
          1,
          1,
          1,
          1,
          1,
          17,
          2,
          5,
          18,
          2,
          1,
          1,
          2,
          1,
          4,
          3,
          5,
          1,
          1,
          20,
          3,
          16,
          1,
          1,
          1,
          1,
          1,
          1,
          5,
          6,
          9,
          2,
          1,
          1,
          2,
          1,
          1,
          1,
          1,
          1,
          2,
          1,
          2,
          3,
          1,
          1,
          1,
          1,
          5,
          3,
          7,
          2,
          3,
          2,
          1,
          1,
          1,
          4,
          1,
          1,
          2,
          43,
          23,
          1,
          1,
          1,
          2,
          2,
          2,
          1,
          2,
          5,
          4,
          1,
          2,
          1,
          1,
          3,
          1,
          4,
          1,
          2,
          4,
          2,
          2,
          2,
          1,
          1,
          1,
          2,
          1,
          3,
          1,
          8,
          1,
          13,
          1,
          1,
          10,
          1,
          12,
          1,
          1,
          3,
          1,
          1,
          5,
          6,
          12,
          2,
          2,
          1,
          6,
          1,
          1,
          2,
          1,
          3,
          2,
          3,
          6,
          1,
          2,
          2,
          1,
          2,
          7,
          1,
          1,
          12,
          1,
          1,
          7,
          1,
          9,
          5,
          1,
          5,
          2,
          1,
          2,
          1,
          4,
          4,
          1,
          1,
          1,
          1,
          4,
          7,
          3,
          1,
          5,
          1,
          3,
          1,
          1,
          2,
          1,
          2,
          1,
          2,
          1,
          1,
          1,
          5,
          1,
          1,
          19,
          1,
          1,
          7,
          6,
          3,
          1,
          2,
          1,
          4,
          2,
          4,
          2,
          7,
          1,
          1,
          2,
          1,
          1,
          4,
          1,
          1,
          1,
          4,
          1,
          8,
          1,
          2,
          7,
          1,
          1,
          3,
          4,
          2,
          1,
          2,
          1,
          1,
          3,
          1,
          4,
          4,
          2,
          3,
          2,
          2,
          1,
          3,
          1,
          1,
          7,
          1,
          1,
          1,
          1,
          7,
          7,
          1,
          1,
          14,
          1,
          1,
          1,
          1,
          2,
          1,
          6,
          3,
          1,
          1,
          1,
          2,
          1,
          2,
          1,
          2,
          2,
          2,
          1,
          1,
          4,
          2,
          3,
          1,
          1,
          1,
          3,
          1,
          1,
          2,
          1,
          1,
          2,
          2,
          1,
          2,
          2,
          1,
          5,
          1,
          1,
          3,
          2,
          5,
          3,
          3,
          1,
          3,
          1,
          1,
          1,
          5,
          11,
          8,
          1,
          4,
          1,
          1,
          1,
          1,
          2,
          1,
          2,
          2,
          1,
          1,
          1,
          2,
          1,
          3,
          1,
          10,
          3,
          1,
          1,
          8,
          24,
          5,
          4,
          1,
          5,
          1,
          2,
          2,
          7,
          2,
          5,
          1,
          1,
          2,
          2,
          3,
          1,
          1,
          1,
          1,
          1,
          2,
          1,
          3,
          2,
          1,
          1,
          3,
          13,
          8,
          2,
          1,
          2,
          1,
          8,
          1,
          1,
          3,
          1,
          1,
          2,
          1,
          1,
          1,
          1,
          1,
          2,
          1,
          1,
          1,
          1,
          3,
          3,
          1,
          18,
          2,
          7,
          7,
          1,
          1,
          1,
          1,
          1,
          1,
          1,
          1,
          2,
          1,
          9,
          1,
          1,
          3,
          1,
          7,
          1,
          1,
          4,
          1,
          2,
          1,
          14,
          4,
          3,
          10,
          13,
          2,
          4,
          1,
          6,
          1,
          3,
          1,
          1,
          5,
          1,
          6,
          2,
          1,
          1,
          3,
          1,
          1,
          3,
          1,
          2,
          1,
          1,
          1,
          1,
          1,
          1,
          2,
          3,
          1,
          2,
          2,
          1,
          4,
          1,
          10,
          2,
          9,
          1,
          2,
          3,
          1,
          1,
          2,
          1,
          2,
          1,
          1,
          1,
          2,
          11,
          1,
          3,
          1,
          9,
          1,
          4,
          9,
          1,
          3,
          2,
          2,
          1,
          1,
          2,
          2,
          4,
          1,
          2,
          1,
          1,
          3,
          2,
          1,
          1,
          2,
          1,
          2,
          3,
          1,
          1,
          14,
          2,
          1,
          2,
          1,
          1,
          2,
          1,
          3,
          1,
          1,
          3,
          1,
          3,
          1,
          20,
          3,
          2,
          1,
          1,
          1,
          1,
          1,
          2,
          1,
          1,
          1,
          1,
          2,
          2,
          2,
          5,
          2,
          2,
          1,
          1,
          4,
          1,
          6,
          1,
          2,
          1,
          2,
          2,
          5,
          4,
          4,
          1,
          1,
          2,
          2,
          4,
          6,
          1,
          1,
          1,
          7,
          25,
          1,
          9,
          11,
          2,
          1,
          2,
          2,
          3,
          1,
          1,
          2,
          1,
          3,
          4,
          1,
          1,
          1,
          1,
          6,
          1,
          3,
          1,
          1,
          1,
          1,
          1,
          1,
          4,
          9,
          1,
          2,
          5,
          5,
          1,
          1,
          2,
          1,
          1,
          1,
          2,
          2,
          1,
          1,
          1,
          5,
          1,
          2,
          12,
          4,
          31,
          4,
          2,
          3,
          3,
          1,
          29,
          1,
          10,
          1,
          1,
          1,
          1,
          2,
          1,
          2,
          1,
          1,
          1,
          2,
          2,
          1,
          1,
          1,
          21,
          1,
          4,
          2,
          3,
          16,
          1,
          2,
          2,
          2,
          1,
          2,
          1,
          1,
          7,
          10
         ],
         "xaxis": "x",
         "yaxis": "y"
        },
        {
         "alignmentgroup": "True",
         "bingroup": "x",
         "hovertemplate": "Label=-1<br>Word Count=%{x}<br>count=%{y}<extra></extra>",
         "legendgroup": "-1",
         "marker": {
          "color": "#EF553B",
          "pattern": {
           "shape": ""
          }
         },
         "name": "-1",
         "nbinsx": 30,
         "offsetgroup": "-1",
         "orientation": "v",
         "showlegend": true,
         "type": "histogram",
         "x": [
          8,
          63,
          6,
          10,
          18,
          23,
          1,
          21,
          43,
          8,
          3,
          7,
          8,
          8,
          7,
          1,
          26,
          13,
          5,
          88,
          2,
          2,
          5,
          2,
          14,
          8,
          10,
          26,
          23,
          8,
          71,
          52,
          3,
          4,
          11,
          21,
          9,
          6,
          5,
          3,
          2,
          13,
          34,
          30,
          11,
          8,
          23,
          10,
          1,
          2,
          19,
          8,
          2,
          7,
          7,
          20,
          5,
          7,
          9,
          1,
          1,
          18,
          5,
          4,
          13,
          1,
          11,
          47,
          11,
          2,
          21,
          3,
          79,
          39,
          4,
          14,
          1,
          2,
          1,
          1,
          1,
          11,
          2,
          1,
          1,
          8,
          4,
          9,
          5,
          7,
          1,
          3,
          8,
          1,
          1,
          104,
          2,
          5,
          22,
          17,
          2,
          1,
          1,
          1,
          4,
          72,
          2,
          9,
          3,
          28,
          25,
          10,
          86,
          4,
          15,
          32,
          4,
          14,
          3,
          3,
          27,
          2,
          1,
          34,
          89,
          12,
          17,
          6,
          17,
          64,
          2,
          92,
          7,
          2,
          19,
          90,
          10,
          15,
          17,
          26,
          20,
          18,
          2,
          2,
          4,
          42,
          11,
          38,
          12,
          58,
          21,
          14,
          23,
          39,
          26,
          26,
          2,
          19,
          16,
          29,
          24,
          39,
          65,
          2,
          3,
          7,
          10,
          1,
          1,
          1,
          1,
          12,
          5,
          2,
          9,
          2,
          90,
          45,
          9,
          46,
          43,
          21,
          47,
          24,
          9,
          19
         ],
         "xaxis": "x",
         "yaxis": "y"
        },
        {
         "alignmentgroup": "True",
         "bingroup": "x",
         "hovertemplate": "Label=0<br>Word Count=%{x}<br>count=%{y}<extra></extra>",
         "legendgroup": "0",
         "marker": {
          "color": "#00cc96",
          "pattern": {
           "shape": ""
          }
         },
         "name": "0",
         "nbinsx": 30,
         "offsetgroup": "0",
         "orientation": "v",
         "showlegend": true,
         "type": "histogram",
         "x": [
          10,
          1,
          1,
          39,
          1,
          3,
          1,
          1,
          1,
          22,
          1,
          1,
          1,
          6,
          1,
          2,
          1,
          1,
          2,
          1,
          1,
          2,
          5,
          1,
          1,
          1,
          8,
          1,
          1,
          5,
          1,
          1,
          1,
          1,
          1,
          1,
          1,
          1,
          5,
          2,
          3
         ],
         "xaxis": "x",
         "yaxis": "y"
        }
       ],
       "layout": {
        "autosize": true,
        "barmode": "relative",
        "legend": {
         "title": {
          "text": "Label"
         },
         "tracegroupgap": 0
        },
        "template": {
         "data": {
          "bar": [
           {
            "error_x": {
             "color": "#2a3f5f"
            },
            "error_y": {
             "color": "#2a3f5f"
            },
            "marker": {
             "line": {
              "color": "#E5ECF6",
              "width": 0.5
             },
             "pattern": {
              "fillmode": "overlay",
              "size": 10,
              "solidity": 0.2
             }
            },
            "type": "bar"
           }
          ],
          "barpolar": [
           {
            "marker": {
             "line": {
              "color": "#E5ECF6",
              "width": 0.5
             },
             "pattern": {
              "fillmode": "overlay",
              "size": 10,
              "solidity": 0.2
             }
            },
            "type": "barpolar"
           }
          ],
          "carpet": [
           {
            "aaxis": {
             "endlinecolor": "#2a3f5f",
             "gridcolor": "white",
             "linecolor": "white",
             "minorgridcolor": "white",
             "startlinecolor": "#2a3f5f"
            },
            "baxis": {
             "endlinecolor": "#2a3f5f",
             "gridcolor": "white",
             "linecolor": "white",
             "minorgridcolor": "white",
             "startlinecolor": "#2a3f5f"
            },
            "type": "carpet"
           }
          ],
          "choropleth": [
           {
            "colorbar": {
             "outlinewidth": 0,
             "ticks": ""
            },
            "type": "choropleth"
           }
          ],
          "contour": [
           {
            "colorbar": {
             "outlinewidth": 0,
             "ticks": ""
            },
            "colorscale": [
             [
              0,
              "#0d0887"
             ],
             [
              0.1111111111111111,
              "#46039f"
             ],
             [
              0.2222222222222222,
              "#7201a8"
             ],
             [
              0.3333333333333333,
              "#9c179e"
             ],
             [
              0.4444444444444444,
              "#bd3786"
             ],
             [
              0.5555555555555556,
              "#d8576b"
             ],
             [
              0.6666666666666666,
              "#ed7953"
             ],
             [
              0.7777777777777778,
              "#fb9f3a"
             ],
             [
              0.8888888888888888,
              "#fdca26"
             ],
             [
              1,
              "#f0f921"
             ]
            ],
            "type": "contour"
           }
          ],
          "contourcarpet": [
           {
            "colorbar": {
             "outlinewidth": 0,
             "ticks": ""
            },
            "type": "contourcarpet"
           }
          ],
          "heatmap": [
           {
            "colorbar": {
             "outlinewidth": 0,
             "ticks": ""
            },
            "colorscale": [
             [
              0,
              "#0d0887"
             ],
             [
              0.1111111111111111,
              "#46039f"
             ],
             [
              0.2222222222222222,
              "#7201a8"
             ],
             [
              0.3333333333333333,
              "#9c179e"
             ],
             [
              0.4444444444444444,
              "#bd3786"
             ],
             [
              0.5555555555555556,
              "#d8576b"
             ],
             [
              0.6666666666666666,
              "#ed7953"
             ],
             [
              0.7777777777777778,
              "#fb9f3a"
             ],
             [
              0.8888888888888888,
              "#fdca26"
             ],
             [
              1,
              "#f0f921"
             ]
            ],
            "type": "heatmap"
           }
          ],
          "heatmapgl": [
           {
            "colorbar": {
             "outlinewidth": 0,
             "ticks": ""
            },
            "colorscale": [
             [
              0,
              "#0d0887"
             ],
             [
              0.1111111111111111,
              "#46039f"
             ],
             [
              0.2222222222222222,
              "#7201a8"
             ],
             [
              0.3333333333333333,
              "#9c179e"
             ],
             [
              0.4444444444444444,
              "#bd3786"
             ],
             [
              0.5555555555555556,
              "#d8576b"
             ],
             [
              0.6666666666666666,
              "#ed7953"
             ],
             [
              0.7777777777777778,
              "#fb9f3a"
             ],
             [
              0.8888888888888888,
              "#fdca26"
             ],
             [
              1,
              "#f0f921"
             ]
            ],
            "type": "heatmapgl"
           }
          ],
          "histogram": [
           {
            "marker": {
             "pattern": {
              "fillmode": "overlay",
              "size": 10,
              "solidity": 0.2
             }
            },
            "type": "histogram"
           }
          ],
          "histogram2d": [
           {
            "colorbar": {
             "outlinewidth": 0,
             "ticks": ""
            },
            "colorscale": [
             [
              0,
              "#0d0887"
             ],
             [
              0.1111111111111111,
              "#46039f"
             ],
             [
              0.2222222222222222,
              "#7201a8"
             ],
             [
              0.3333333333333333,
              "#9c179e"
             ],
             [
              0.4444444444444444,
              "#bd3786"
             ],
             [
              0.5555555555555556,
              "#d8576b"
             ],
             [
              0.6666666666666666,
              "#ed7953"
             ],
             [
              0.7777777777777778,
              "#fb9f3a"
             ],
             [
              0.8888888888888888,
              "#fdca26"
             ],
             [
              1,
              "#f0f921"
             ]
            ],
            "type": "histogram2d"
           }
          ],
          "histogram2dcontour": [
           {
            "colorbar": {
             "outlinewidth": 0,
             "ticks": ""
            },
            "colorscale": [
             [
              0,
              "#0d0887"
             ],
             [
              0.1111111111111111,
              "#46039f"
             ],
             [
              0.2222222222222222,
              "#7201a8"
             ],
             [
              0.3333333333333333,
              "#9c179e"
             ],
             [
              0.4444444444444444,
              "#bd3786"
             ],
             [
              0.5555555555555556,
              "#d8576b"
             ],
             [
              0.6666666666666666,
              "#ed7953"
             ],
             [
              0.7777777777777778,
              "#fb9f3a"
             ],
             [
              0.8888888888888888,
              "#fdca26"
             ],
             [
              1,
              "#f0f921"
             ]
            ],
            "type": "histogram2dcontour"
           }
          ],
          "mesh3d": [
           {
            "colorbar": {
             "outlinewidth": 0,
             "ticks": ""
            },
            "type": "mesh3d"
           }
          ],
          "parcoords": [
           {
            "line": {
             "colorbar": {
              "outlinewidth": 0,
              "ticks": ""
             }
            },
            "type": "parcoords"
           }
          ],
          "pie": [
           {
            "automargin": true,
            "type": "pie"
           }
          ],
          "scatter": [
           {
            "fillpattern": {
             "fillmode": "overlay",
             "size": 10,
             "solidity": 0.2
            },
            "type": "scatter"
           }
          ],
          "scatter3d": [
           {
            "line": {
             "colorbar": {
              "outlinewidth": 0,
              "ticks": ""
             }
            },
            "marker": {
             "colorbar": {
              "outlinewidth": 0,
              "ticks": ""
             }
            },
            "type": "scatter3d"
           }
          ],
          "scattercarpet": [
           {
            "marker": {
             "colorbar": {
              "outlinewidth": 0,
              "ticks": ""
             }
            },
            "type": "scattercarpet"
           }
          ],
          "scattergeo": [
           {
            "marker": {
             "colorbar": {
              "outlinewidth": 0,
              "ticks": ""
             }
            },
            "type": "scattergeo"
           }
          ],
          "scattergl": [
           {
            "marker": {
             "colorbar": {
              "outlinewidth": 0,
              "ticks": ""
             }
            },
            "type": "scattergl"
           }
          ],
          "scattermapbox": [
           {
            "marker": {
             "colorbar": {
              "outlinewidth": 0,
              "ticks": ""
             }
            },
            "type": "scattermapbox"
           }
          ],
          "scatterpolar": [
           {
            "marker": {
             "colorbar": {
              "outlinewidth": 0,
              "ticks": ""
             }
            },
            "type": "scatterpolar"
           }
          ],
          "scatterpolargl": [
           {
            "marker": {
             "colorbar": {
              "outlinewidth": 0,
              "ticks": ""
             }
            },
            "type": "scatterpolargl"
           }
          ],
          "scatterternary": [
           {
            "marker": {
             "colorbar": {
              "outlinewidth": 0,
              "ticks": ""
             }
            },
            "type": "scatterternary"
           }
          ],
          "surface": [
           {
            "colorbar": {
             "outlinewidth": 0,
             "ticks": ""
            },
            "colorscale": [
             [
              0,
              "#0d0887"
             ],
             [
              0.1111111111111111,
              "#46039f"
             ],
             [
              0.2222222222222222,
              "#7201a8"
             ],
             [
              0.3333333333333333,
              "#9c179e"
             ],
             [
              0.4444444444444444,
              "#bd3786"
             ],
             [
              0.5555555555555556,
              "#d8576b"
             ],
             [
              0.6666666666666666,
              "#ed7953"
             ],
             [
              0.7777777777777778,
              "#fb9f3a"
             ],
             [
              0.8888888888888888,
              "#fdca26"
             ],
             [
              1,
              "#f0f921"
             ]
            ],
            "type": "surface"
           }
          ],
          "table": [
           {
            "cells": {
             "fill": {
              "color": "#EBF0F8"
             },
             "line": {
              "color": "white"
             }
            },
            "header": {
             "fill": {
              "color": "#C8D4E3"
             },
             "line": {
              "color": "white"
             }
            },
            "type": "table"
           }
          ]
         },
         "layout": {
          "annotationdefaults": {
           "arrowcolor": "#2a3f5f",
           "arrowhead": 0,
           "arrowwidth": 1
          },
          "autotypenumbers": "strict",
          "coloraxis": {
           "colorbar": {
            "outlinewidth": 0,
            "ticks": ""
           }
          },
          "colorscale": {
           "diverging": [
            [
             0,
             "#8e0152"
            ],
            [
             0.1,
             "#c51b7d"
            ],
            [
             0.2,
             "#de77ae"
            ],
            [
             0.3,
             "#f1b6da"
            ],
            [
             0.4,
             "#fde0ef"
            ],
            [
             0.5,
             "#f7f7f7"
            ],
            [
             0.6,
             "#e6f5d0"
            ],
            [
             0.7,
             "#b8e186"
            ],
            [
             0.8,
             "#7fbc41"
            ],
            [
             0.9,
             "#4d9221"
            ],
            [
             1,
             "#276419"
            ]
           ],
           "sequential": [
            [
             0,
             "#0d0887"
            ],
            [
             0.1111111111111111,
             "#46039f"
            ],
            [
             0.2222222222222222,
             "#7201a8"
            ],
            [
             0.3333333333333333,
             "#9c179e"
            ],
            [
             0.4444444444444444,
             "#bd3786"
            ],
            [
             0.5555555555555556,
             "#d8576b"
            ],
            [
             0.6666666666666666,
             "#ed7953"
            ],
            [
             0.7777777777777778,
             "#fb9f3a"
            ],
            [
             0.8888888888888888,
             "#fdca26"
            ],
            [
             1,
             "#f0f921"
            ]
           ],
           "sequentialminus": [
            [
             0,
             "#0d0887"
            ],
            [
             0.1111111111111111,
             "#46039f"
            ],
            [
             0.2222222222222222,
             "#7201a8"
            ],
            [
             0.3333333333333333,
             "#9c179e"
            ],
            [
             0.4444444444444444,
             "#bd3786"
            ],
            [
             0.5555555555555556,
             "#d8576b"
            ],
            [
             0.6666666666666666,
             "#ed7953"
            ],
            [
             0.7777777777777778,
             "#fb9f3a"
            ],
            [
             0.8888888888888888,
             "#fdca26"
            ],
            [
             1,
             "#f0f921"
            ]
           ]
          },
          "colorway": [
           "#636efa",
           "#EF553B",
           "#00cc96",
           "#ab63fa",
           "#FFA15A",
           "#19d3f3",
           "#FF6692",
           "#B6E880",
           "#FF97FF",
           "#FECB52"
          ],
          "font": {
           "color": "#2a3f5f"
          },
          "geo": {
           "bgcolor": "white",
           "lakecolor": "white",
           "landcolor": "#E5ECF6",
           "showlakes": true,
           "showland": true,
           "subunitcolor": "white"
          },
          "hoverlabel": {
           "align": "left"
          },
          "hovermode": "closest",
          "mapbox": {
           "style": "light"
          },
          "paper_bgcolor": "white",
          "plot_bgcolor": "#E5ECF6",
          "polar": {
           "angularaxis": {
            "gridcolor": "white",
            "linecolor": "white",
            "ticks": ""
           },
           "bgcolor": "#E5ECF6",
           "radialaxis": {
            "gridcolor": "white",
            "linecolor": "white",
            "ticks": ""
           }
          },
          "scene": {
           "xaxis": {
            "backgroundcolor": "#E5ECF6",
            "gridcolor": "white",
            "gridwidth": 2,
            "linecolor": "white",
            "showbackground": true,
            "ticks": "",
            "zerolinecolor": "white"
           },
           "yaxis": {
            "backgroundcolor": "#E5ECF6",
            "gridcolor": "white",
            "gridwidth": 2,
            "linecolor": "white",
            "showbackground": true,
            "ticks": "",
            "zerolinecolor": "white"
           },
           "zaxis": {
            "backgroundcolor": "#E5ECF6",
            "gridcolor": "white",
            "gridwidth": 2,
            "linecolor": "white",
            "showbackground": true,
            "ticks": "",
            "zerolinecolor": "white"
           }
          },
          "shapedefaults": {
           "line": {
            "color": "#2a3f5f"
           }
          },
          "ternary": {
           "aaxis": {
            "gridcolor": "white",
            "linecolor": "white",
            "ticks": ""
           },
           "baxis": {
            "gridcolor": "white",
            "linecolor": "white",
            "ticks": ""
           },
           "bgcolor": "#E5ECF6",
           "caxis": {
            "gridcolor": "white",
            "linecolor": "white",
            "ticks": ""
           }
          },
          "title": {
           "x": 0.05
          },
          "xaxis": {
           "automargin": true,
           "gridcolor": "white",
           "linecolor": "white",
           "ticks": "",
           "title": {
            "standoff": 15
           },
           "zerolinecolor": "white",
           "zerolinewidth": 2
          },
          "yaxis": {
           "automargin": true,
           "gridcolor": "white",
           "linecolor": "white",
           "ticks": "",
           "title": {
            "standoff": 15
           },
           "zerolinecolor": "white",
           "zerolinewidth": 2
          }
         }
        },
        "title": {
         "text": "Distribution of Word Counts"
        },
        "xaxis": {
         "anchor": "y",
         "autorange": true,
         "domain": [
          0,
          1
         ],
         "range": [
          -0.5,
          104.5
         ],
         "title": {
          "text": "Word Count"
         },
         "type": "linear"
        },
        "yaxis": {
         "anchor": "x",
         "autorange": true,
         "domain": [
          0,
          1
         ],
         "range": [
          0,
          789.4736842105264
         ],
         "title": {
          "text": "count"
         }
        }
       }
      },
      "image/png": "[encoded data removed]",
      "text/html": [
       "<div>                            <div id=\"623b0a6c-b9f3-4b00-93ae-d2f35b5d0fcb\" class=\"plotly-graph-div\" style=\"height:525px; width:100%;\"></div>            <script type=\"text/javascript\">                require([\"plotly\"], function(Plotly) {                    window.PLOTLYENV=window.PLOTLYENV || {};                                    if (document.getElementById(\"623b0a6c-b9f3-4b00-93ae-d2f35b5d0fcb\")) {                    Plotly.newPlot(                        \"623b0a6c-b9f3-4b00-93ae-d2f35b5d0fcb\",                        [{\"alignmentgroup\":\"True\",\"bingroup\":\"x\",\"hovertemplate\":\"Label=1\\u003cbr\\u003eWord Count=%{x}\\u003cbr\\u003ecount=%{y}\\u003cextra\\u003e\\u003c\\u002fextra\\u003e\",\"legendgroup\":\"1\",\"marker\":{\"color\":\"#636efa\",\"pattern\":{\"shape\":\"\"}},\"name\":\"1\",\"nbinsx\":30,\"offsetgroup\":\"1\",\"orientation\":\"v\",\"showlegend\":true,\"x\":[1,1,6,1,2,5,1,4,3,1,1,2,1,1,24,4,4,1,1,5,1,1,1,1,6,2,1,29,2,2,1,1,1,1,11,1,1,2,6,1,2,2,2,1,1,1,1,1,1,1,1,1,1,4,1,2,1,2,2,2,2,2,1,1,2,5,2,2,1,13,2,7,1,3,1,1,2,2,1,1,3,1,4,1,12,5,1,38,3,1,1,2,1,3,3,1,3,3,2,3,2,1,1,2,1,8,2,2,2,1,4,1,2,2,1,1,1,1,1,4,14,3,9,5,2,6,1,1,2,1,2,2,4,1,4,1,1,1,1,2,1,2,3,1,3,1,2,1,1,1,1,1,1,1,2,1,1,1,1,1,1,17,2,5,18,2,1,1,2,1,4,3,5,1,1,20,3,16,1,1,1,1,1,1,5,6,9,2,1,1,2,1,1,1,1,1,2,1,2,3,1,1,1,1,5,3,7,2,3,2,1,1,1,4,1,1,2,43,23,1,1,1,2,2,2,1,2,5,4,1,2,1,1,3,1,4,1,2,4,2,2,2,1,1,1,2,1,3,1,8,1,13,1,1,10,1,12,1,1,3,1,1,5,6,12,2,2,1,6,1,1,2,1,3,2,3,6,1,2,2,1,2,7,1,1,12,1,1,7,1,9,5,1,5,2,1,2,1,4,4,1,1,1,1,4,7,3,1,5,1,3,1,1,2,1,2,1,2,1,1,1,5,1,1,19,1,1,7,6,3,1,2,1,4,2,4,2,7,1,1,2,1,1,4,1,1,1,4,1,8,1,2,7,1,1,3,4,2,1,2,1,1,3,1,4,4,2,3,2,2,1,3,1,1,7,1,1,1,1,7,7,1,1,14,1,1,1,1,2,1,6,3,1,1,1,2,1,2,1,2,2,2,1,1,4,2,3,1,1,1,3,1,1,2,1,1,2,2,1,2,2,1,5,1,1,3,2,5,3,3,1,3,1,1,1,5,11,8,1,4,1,1,1,1,2,1,2,2,1,1,1,2,1,3,1,10,3,1,1,8,24,5,4,1,5,1,2,2,7,2,5,1,1,2,2,3,1,1,1,1,1,2,1,3,2,1,1,3,13,8,2,1,2,1,8,1,1,3,1,1,2,1,1,1,1,1,2,1,1,1,1,3,3,1,18,2,7,7,1,1,1,1,1,1,1,1,2,1,9,1,1,3,1,7,1,1,4,1,2,1,14,4,3,10,13,2,4,1,6,1,3,1,1,5,1,6,2,1,1,3,1,1,3,1,2,1,1,1,1,1,1,2,3,1,2,2,1,4,1,10,2,9,1,2,3,1,1,2,1,2,1,1,1,2,11,1,3,1,9,1,4,9,1,3,2,2,1,1,2,2,4,1,2,1,1,3,2,1,1,2,1,2,3,1,1,14,2,1,2,1,1,2,1,3,1,1,3,1,3,1,20,3,2,1,1,1,1,1,2,1,1,1,1,2,2,2,5,2,2,1,1,4,1,6,1,2,1,2,2,5,4,4,1,1,2,2,4,6,1,1,1,7,25,1,9,11,2,1,2,2,3,1,1,2,1,3,4,1,1,1,1,6,1,3,1,1,1,1,1,1,4,9,1,2,5,5,1,1,2,1,1,1,2,2,1,1,1,5,1,2,12,4,31,4,2,3,3,1,29,1,10,1,1,1,1,2,1,2,1,1,1,2,2,1,1,1,21,1,4,2,3,16,1,2,2,2,1,2,1,1,7,10],\"xaxis\":\"x\",\"yaxis\":\"y\",\"type\":\"histogram\"},{\"alignmentgroup\":\"True\",\"bingroup\":\"x\",\"hovertemplate\":\"Label=-1\\u003cbr\\u003eWord Count=%{x}\\u003cbr\\u003ecount=%{y}\\u003cextra\\u003e\\u003c\\u002fextra\\u003e\",\"legendgroup\":\"-1\",\"marker\":{\"color\":\"#EF553B\",\"pattern\":{\"shape\":\"\"}},\"name\":\"-1\",\"nbinsx\":30,\"offsetgroup\":\"-1\",\"orientation\":\"v\",\"showlegend\":true,\"x\":[8,63,6,10,18,23,1,21,43,8,3,7,8,8,7,1,26,13,5,88,2,2,5,2,14,8,10,26,23,8,71,52,3,4,11,21,9,6,5,3,2,13,34,30,11,8,23,10,1,2,19,8,2,7,7,20,5,7,9,1,1,18,5,4,13,1,11,47,11,2,21,3,79,39,4,14,1,2,1,1,1,11,2,1,1,8,4,9,5,7,1,3,8,1,1,104,2,5,22,17,2,1,1,1,4,72,2,9,3,28,25,10,86,4,15,32,4,14,3,3,27,2,1,34,89,12,17,6,17,64,2,92,7,2,19,90,10,15,17,26,20,18,2,2,4,42,11,38,12,58,21,14,23,39,26,26,2,19,16,29,24,39,65,2,3,7,10,1,1,1,1,12,5,2,9,2,90,45,9,46,43,21,47,24,9,19],\"xaxis\":\"x\",\"yaxis\":\"y\",\"type\":\"histogram\"},{\"alignmentgroup\":\"True\",\"bingroup\":\"x\",\"hovertemplate\":\"Label=0\\u003cbr\\u003eWord Count=%{x}\\u003cbr\\u003ecount=%{y}\\u003cextra\\u003e\\u003c\\u002fextra\\u003e\",\"legendgroup\":\"0\",\"marker\":{\"color\":\"#00cc96\",\"pattern\":{\"shape\":\"\"}},\"name\":\"0\",\"nbinsx\":30,\"offsetgroup\":\"0\",\"orientation\":\"v\",\"showlegend\":true,\"x\":[10,1,1,39,1,3,1,1,1,22,1,1,1,6,1,2,1,1,2,1,1,2,5,1,1,1,8,1,1,5,1,1,1,1,1,1,1,1,5,2,3],\"xaxis\":\"x\",\"yaxis\":\"y\",\"type\":\"histogram\"}],                        {\"template\":{\"data\":{\"histogram2dcontour\":[{\"type\":\"histogram2dcontour\",\"colorbar\":{\"outlinewidth\":0,\"ticks\":\"\"},\"colorscale\":[[0.0,\"#0d0887\"],[0.1111111111111111,\"#46039f\"],[0.2222222222222222,\"#7201a8\"],[0.3333333333333333,\"#9c179e\"],[0.4444444444444444,\"#bd3786\"],[0.5555555555555556,\"#d8576b\"],[0.6666666666666666,\"#ed7953\"],[0.7777777777777778,\"#fb9f3a\"],[0.8888888888888888,\"#fdca26\"],[1.0,\"#f0f921\"]]}],\"choropleth\":[{\"type\":\"choropleth\",\"colorbar\":{\"outlinewidth\":0,\"ticks\":\"\"}}],\"histogram2d\":[{\"type\":\"histogram2d\",\"colorbar\":{\"outlinewidth\":0,\"ticks\":\"\"},\"colorscale\":[[0.0,\"#0d0887\"],[0.1111111111111111,\"#46039f\"],[0.2222222222222222,\"#7201a8\"],[0.3333333333333333,\"#9c179e\"],[0.4444444444444444,\"#bd3786\"],[0.5555555555555556,\"#d8576b\"],[0.6666666666666666,\"#ed7953\"],[0.7777777777777778,\"#fb9f3a\"],[0.8888888888888888,\"#fdca26\"],[1.0,\"#f0f921\"]]}],\"heatmap\":[{\"type\":\"heatmap\",\"colorbar\":{\"outlinewidth\":0,\"ticks\":\"\"},\"colorscale\":[[0.0,\"#0d0887\"],[0.1111111111111111,\"#46039f\"],[0.2222222222222222,\"#7201a8\"],[0.3333333333333333,\"#9c179e\"],[0.4444444444444444,\"#bd3786\"],[0.5555555555555556,\"#d8576b\"],[0.6666666666666666,\"#ed7953\"],[0.7777777777777778,\"#fb9f3a\"],[0.8888888888888888,\"#fdca26\"],[1.0,\"#f0f921\"]]}],\"heatmapgl\":[{\"type\":\"heatmapgl\",\"colorbar\":{\"outlinewidth\":0,\"ticks\":\"\"},\"colorscale\":[[0.0,\"#0d0887\"],[0.1111111111111111,\"#46039f\"],[0.2222222222222222,\"#7201a8\"],[0.3333333333333333,\"#9c179e\"],[0.4444444444444444,\"#bd3786\"],[0.5555555555555556,\"#d8576b\"],[0.6666666666666666,\"#ed7953\"],[0.7777777777777778,\"#fb9f3a\"],[0.8888888888888888,\"#fdca26\"],[1.0,\"#f0f921\"]]}],\"contourcarpet\":[{\"type\":\"contourcarpet\",\"colorbar\":{\"outlinewidth\":0,\"ticks\":\"\"}}],\"contour\":[{\"type\":\"contour\",\"colorbar\":{\"outlinewidth\":0,\"ticks\":\"\"},\"colorscale\":[[0.0,\"#0d0887\"],[0.1111111111111111,\"#46039f\"],[0.2222222222222222,\"#7201a8\"],[0.3333333333333333,\"#9c179e\"],[0.4444444444444444,\"#bd3786\"],[0.5555555555555556,\"#d8576b\"],[0.6666666666666666,\"#ed7953\"],[0.7777777777777778,\"#fb9f3a\"],[0.8888888888888888,\"#fdca26\"],[1.0,\"#f0f921\"]]}],\"surface\":[{\"type\":\"surface\",\"colorbar\":{\"outlinewidth\":0,\"ticks\":\"\"},\"colorscale\":[[0.0,\"#0d0887\"],[0.1111111111111111,\"#46039f\"],[0.2222222222222222,\"#7201a8\"],[0.3333333333333333,\"#9c179e\"],[0.4444444444444444,\"#bd3786\"],[0.5555555555555556,\"#d8576b\"],[0.6666666666666666,\"#ed7953\"],[0.7777777777777778,\"#fb9f3a\"],[0.8888888888888888,\"#fdca26\"],[1.0,\"#f0f921\"]]}],\"mesh3d\":[{\"type\":\"mesh3d\",\"colorbar\":{\"outlinewidth\":0,\"ticks\":\"\"}}],\"scatter\":[{\"fillpattern\":{\"fillmode\":\"overlay\",\"size\":10,\"solidity\":0.2},\"type\":\"scatter\"}],\"parcoords\":[{\"type\":\"parcoords\",\"line\":{\"colorbar\":{\"outlinewidth\":0,\"ticks\":\"\"}}}],\"scatterpolargl\":[{\"type\":\"scatterpolargl\",\"marker\":{\"colorbar\":{\"outlinewidth\":0,\"ticks\":\"\"}}}],\"bar\":[{\"error_x\":{\"color\":\"#2a3f5f\"},\"error_y\":{\"color\":\"#2a3f5f\"},\"marker\":{\"line\":{\"color\":\"#E5ECF6\",\"width\":0.5},\"pattern\":{\"fillmode\":\"overlay\",\"size\":10,\"solidity\":0.2}},\"type\":\"bar\"}],\"scattergeo\":[{\"type\":\"scattergeo\",\"marker\":{\"colorbar\":{\"outlinewidth\":0,\"ticks\":\"\"}}}],\"scatterpolar\":[{\"type\":\"scatterpolar\",\"marker\":{\"colorbar\":{\"outlinewidth\":0,\"ticks\":\"\"}}}],\"histogram\":[{\"marker\":{\"pattern\":{\"fillmode\":\"overlay\",\"size\":10,\"solidity\":0.2}},\"type\":\"histogram\"}],\"scattergl\":[{\"type\":\"scattergl\",\"marker\":{\"colorbar\":{\"outlinewidth\":0,\"ticks\":\"\"}}}],\"scatter3d\":[{\"type\":\"scatter3d\",\"line\":{\"colorbar\":{\"outlinewidth\":0,\"ticks\":\"\"}},\"marker\":{\"colorbar\":{\"outlinewidth\":0,\"ticks\":\"\"}}}],\"scattermapbox\":[{\"type\":\"scattermapbox\",\"marker\":{\"colorbar\":{\"outlinewidth\":0,\"ticks\":\"\"}}}],\"scatterternary\":[{\"type\":\"scatterternary\",\"marker\":{\"colorbar\":{\"outlinewidth\":0,\"ticks\":\"\"}}}],\"scattercarpet\":[{\"type\":\"scattercarpet\",\"marker\":{\"colorbar\":{\"outlinewidth\":0,\"ticks\":\"\"}}}],\"carpet\":[{\"aaxis\":{\"endlinecolor\":\"#2a3f5f\",\"gridcolor\":\"white\",\"linecolor\":\"white\",\"minorgridcolor\":\"white\",\"startlinecolor\":\"#2a3f5f\"},\"baxis\":{\"endlinecolor\":\"#2a3f5f\",\"gridcolor\":\"white\",\"linecolor\":\"white\",\"minorgridcolor\":\"white\",\"startlinecolor\":\"#2a3f5f\"},\"type\":\"carpet\"}],\"table\":[{\"cells\":{\"fill\":{\"color\":\"#EBF0F8\"},\"line\":{\"color\":\"white\"}},\"header\":{\"fill\":{\"color\":\"#C8D4E3\"},\"line\":{\"color\":\"white\"}},\"type\":\"table\"}],\"barpolar\":[{\"marker\":{\"line\":{\"color\":\"#E5ECF6\",\"width\":0.5},\"pattern\":{\"fillmode\":\"overlay\",\"size\":10,\"solidity\":0.2}},\"type\":\"barpolar\"}],\"pie\":[{\"automargin\":true,\"type\":\"pie\"}]},\"layout\":{\"autotypenumbers\":\"strict\",\"colorway\":[\"#636efa\",\"#EF553B\",\"#00cc96\",\"#ab63fa\",\"#FFA15A\",\"#19d3f3\",\"#FF6692\",\"#B6E880\",\"#FF97FF\",\"#FECB52\"],\"font\":{\"color\":\"#2a3f5f\"},\"hovermode\":\"closest\",\"hoverlabel\":{\"align\":\"left\"},\"paper_bgcolor\":\"white\",\"plot_bgcolor\":\"#E5ECF6\",\"polar\":{\"bgcolor\":\"#E5ECF6\",\"angularaxis\":{\"gridcolor\":\"white\",\"linecolor\":\"white\",\"ticks\":\"\"},\"radialaxis\":{\"gridcolor\":\"white\",\"linecolor\":\"white\",\"ticks\":\"\"}},\"ternary\":{\"bgcolor\":\"#E5ECF6\",\"aaxis\":{\"gridcolor\":\"white\",\"linecolor\":\"white\",\"ticks\":\"\"},\"baxis\":{\"gridcolor\":\"white\",\"linecolor\":\"white\",\"ticks\":\"\"},\"caxis\":{\"gridcolor\":\"white\",\"linecolor\":\"white\",\"ticks\":\"\"}},\"coloraxis\":{\"colorbar\":{\"outlinewidth\":0,\"ticks\":\"\"}},\"colorscale\":{\"sequential\":[[0.0,\"#0d0887\"],[0.1111111111111111,\"#46039f\"],[0.2222222222222222,\"#7201a8\"],[0.3333333333333333,\"#9c179e\"],[0.4444444444444444,\"#bd3786\"],[0.5555555555555556,\"#d8576b\"],[0.6666666666666666,\"#ed7953\"],[0.7777777777777778,\"#fb9f3a\"],[0.8888888888888888,\"#fdca26\"],[1.0,\"#f0f921\"]],\"sequentialminus\":[[0.0,\"#0d0887\"],[0.1111111111111111,\"#46039f\"],[0.2222222222222222,\"#7201a8\"],[0.3333333333333333,\"#9c179e\"],[0.4444444444444444,\"#bd3786\"],[0.5555555555555556,\"#d8576b\"],[0.6666666666666666,\"#ed7953\"],[0.7777777777777778,\"#fb9f3a\"],[0.8888888888888888,\"#fdca26\"],[1.0,\"#f0f921\"]],\"diverging\":[[0,\"#8e0152\"],[0.1,\"#c51b7d\"],[0.2,\"#de77ae\"],[0.3,\"#f1b6da\"],[0.4,\"#fde0ef\"],[0.5,\"#f7f7f7\"],[0.6,\"#e6f5d0\"],[0.7,\"#b8e186\"],[0.8,\"#7fbc41\"],[0.9,\"#4d9221\"],[1,\"#276419\"]]},\"xaxis\":{\"gridcolor\":\"white\",\"linecolor\":\"white\",\"ticks\":\"\",\"title\":{\"standoff\":15},\"zerolinecolor\":\"white\",\"automargin\":true,\"zerolinewidth\":2},\"yaxis\":{\"gridcolor\":\"white\",\"linecolor\":\"white\",\"ticks\":\"\",\"title\":{\"standoff\":15},\"zerolinecolor\":\"white\",\"automargin\":true,\"zerolinewidth\":2},\"scene\":{\"xaxis\":{\"backgroundcolor\":\"#E5ECF6\",\"gridcolor\":\"white\",\"linecolor\":\"white\",\"showbackground\":true,\"ticks\":\"\",\"zerolinecolor\":\"white\",\"gridwidth\":2},\"yaxis\":{\"backgroundcolor\":\"#E5ECF6\",\"gridcolor\":\"white\",\"linecolor\":\"white\",\"showbackground\":true,\"ticks\":\"\",\"zerolinecolor\":\"white\",\"gridwidth\":2},\"zaxis\":{\"backgroundcolor\":\"#E5ECF6\",\"gridcolor\":\"white\",\"linecolor\":\"white\",\"showbackground\":true,\"ticks\":\"\",\"zerolinecolor\":\"white\",\"gridwidth\":2}},\"shapedefaults\":{\"line\":{\"color\":\"#2a3f5f\"}},\"annotationdefaults\":{\"arrowcolor\":\"#2a3f5f\",\"arrowhead\":0,\"arrowwidth\":1},\"geo\":{\"bgcolor\":\"white\",\"landcolor\":\"#E5ECF6\",\"subunitcolor\":\"white\",\"showland\":true,\"showlakes\":true,\"lakecolor\":\"white\"},\"title\":{\"x\":0.05},\"mapbox\":{\"style\":\"light\"}}},\"xaxis\":{\"anchor\":\"y\",\"domain\":[0.0,1.0],\"title\":{\"text\":\"Word Count\"}},\"yaxis\":{\"anchor\":\"x\",\"domain\":[0.0,1.0],\"title\":{\"text\":\"count\"}},\"legend\":{\"title\":{\"text\":\"Label\"},\"tracegroupgap\":0},\"title\":{\"text\":\"Distribution of Word Counts\"},\"barmode\":\"relative\"},                        {\"responsive\": true}                    ).then(function(){\n",
       "                            \n",
       "var gd = document.getElementById('623b0a6c-b9f3-4b00-93ae-d2f35b5d0fcb');\n",
       "var x = new MutationObserver(function (mutations, observer) {{\n",
       "        var display = window.getComputedStyle(gd).display;\n",
       "        if (!display || display === 'none') {{\n",
       "            console.log([gd, 'removed!']);\n",
       "            Plotly.purge(gd);\n",
       "            observer.disconnect();\n",
       "        }}\n",
       "}});\n",
       "\n",
       "// Listen for the removal of the full notebook cells\n",
       "var notebookContainer = gd.closest('#notebook-container');\n",
       "if (notebookContainer) {{\n",
       "    x.observe(notebookContainer, {childList: true});\n",
       "}}\n",
       "\n",
       "// Listen for the clearing of the current output cell\n",
       "var outputEl = gd.closest('.output');\n",
       "if (outputEl) {{\n",
       "    x.observe(outputEl, {childList: true});\n",
       "}}\n",
       "\n",
       "                        })                };                });            </script>        </div>"
      ]
     },
     "metadata": {},
     "output_type": "display_data"
    },
    {
     "name": "stdout",
     "output_type": "stream",
     "text": [
      "\n",
      "Top 20 Bigrams:\n",
      "                  count\n",
      "nice app             27\n",
      "good app             26\n",
      "ðÿ ðÿ                17\n",
      "good service         12\n",
      "customer care        12\n",
      "worst app            11\n",
      "paytm wallet          8\n",
      "best app              7\n",
      "easy use              7\n",
      "using paytm           6\n",
      "customer support      6\n",
      "paytm app             6\n",
      "16 point              5\n",
      "thanks paytm          5\n",
      "good application      5\n",
      "good payment          5\n",
      "solve problem         5\n",
      "bad app               5\n",
      "money gone            4\n",
      "paytm ipo             4\n"
     ]
    },
    {
     "data": {
      "application/vnd.plotly.v1+json": {
       "config": {
        "plotlyServerURL": "https://plot.ly"
       },
       "data": [
        {
         "alignmentgroup": "True",
         "hovertemplate": "index=%{x}<br>Count=%{y}<extra></extra>",
         "legendgroup": "",
         "marker": {
          "color": "#636efa",
          "pattern": {
           "shape": ""
          }
         },
         "name": "",
         "offsetgroup": "",
         "orientation": "v",
         "showlegend": false,
         "textposition": "auto",
         "type": "bar",
         "x": [
          "nice app",
          "good app",
          "ðÿ ðÿ",
          "good service",
          "customer care",
          "worst app",
          "paytm wallet",
          "best app",
          "easy use",
          "using paytm",
          "customer support",
          "paytm app",
          "16 point",
          "thanks paytm",
          "good application",
          "good payment",
          "solve problem",
          "bad app",
          "money gone",
          "paytm ipo"
         ],
         "xaxis": "x",
         "y": [
          27,
          26,
          17,
          12,
          12,
          11,
          8,
          7,
          7,
          6,
          6,
          6,
          5,
          5,
          5,
          5,
          5,
          5,
          4,
          4
         ],
         "yaxis": "y"
        }
       ],
       "layout": {
        "autosize": true,
        "barmode": "relative",
        "legend": {
         "tracegroupgap": 0
        },
        "template": {
         "data": {
          "bar": [
           {
            "error_x": {
             "color": "#2a3f5f"
            },
            "error_y": {
             "color": "#2a3f5f"
            },
            "marker": {
             "line": {
              "color": "#E5ECF6",
              "width": 0.5
             },
             "pattern": {
              "fillmode": "overlay",
              "size": 10,
              "solidity": 0.2
             }
            },
            "type": "bar"
           }
          ],
          "barpolar": [
           {
            "marker": {
             "line": {
              "color": "#E5ECF6",
              "width": 0.5
             },
             "pattern": {
              "fillmode": "overlay",
              "size": 10,
              "solidity": 0.2
             }
            },
            "type": "barpolar"
           }
          ],
          "carpet": [
           {
            "aaxis": {
             "endlinecolor": "#2a3f5f",
             "gridcolor": "white",
             "linecolor": "white",
             "minorgridcolor": "white",
             "startlinecolor": "#2a3f5f"
            },
            "baxis": {
             "endlinecolor": "#2a3f5f",
             "gridcolor": "white",
             "linecolor": "white",
             "minorgridcolor": "white",
             "startlinecolor": "#2a3f5f"
            },
            "type": "carpet"
           }
          ],
          "choropleth": [
           {
            "colorbar": {
             "outlinewidth": 0,
             "ticks": ""
            },
            "type": "choropleth"
           }
          ],
          "contour": [
           {
            "colorbar": {
             "outlinewidth": 0,
             "ticks": ""
            },
            "colorscale": [
             [
              0,
              "#0d0887"
             ],
             [
              0.1111111111111111,
              "#46039f"
             ],
             [
              0.2222222222222222,
              "#7201a8"
             ],
             [
              0.3333333333333333,
              "#9c179e"
             ],
             [
              0.4444444444444444,
              "#bd3786"
             ],
             [
              0.5555555555555556,
              "#d8576b"
             ],
             [
              0.6666666666666666,
              "#ed7953"
             ],
             [
              0.7777777777777778,
              "#fb9f3a"
             ],
             [
              0.8888888888888888,
              "#fdca26"
             ],
             [
              1,
              "#f0f921"
             ]
            ],
            "type": "contour"
           }
          ],
          "contourcarpet": [
           {
            "colorbar": {
             "outlinewidth": 0,
             "ticks": ""
            },
            "type": "contourcarpet"
           }
          ],
          "heatmap": [
           {
            "colorbar": {
             "outlinewidth": 0,
             "ticks": ""
            },
            "colorscale": [
             [
              0,
              "#0d0887"
             ],
             [
              0.1111111111111111,
              "#46039f"
             ],
             [
              0.2222222222222222,
              "#7201a8"
             ],
             [
              0.3333333333333333,
              "#9c179e"
             ],
             [
              0.4444444444444444,
              "#bd3786"
             ],
             [
              0.5555555555555556,
              "#d8576b"
             ],
             [
              0.6666666666666666,
              "#ed7953"
             ],
             [
              0.7777777777777778,
              "#fb9f3a"
             ],
             [
              0.8888888888888888,
              "#fdca26"
             ],
             [
              1,
              "#f0f921"
             ]
            ],
            "type": "heatmap"
           }
          ],
          "heatmapgl": [
           {
            "colorbar": {
             "outlinewidth": 0,
             "ticks": ""
            },
            "colorscale": [
             [
              0,
              "#0d0887"
             ],
             [
              0.1111111111111111,
              "#46039f"
             ],
             [
              0.2222222222222222,
              "#7201a8"
             ],
             [
              0.3333333333333333,
              "#9c179e"
             ],
             [
              0.4444444444444444,
              "#bd3786"
             ],
             [
              0.5555555555555556,
              "#d8576b"
             ],
             [
              0.6666666666666666,
              "#ed7953"
             ],
             [
              0.7777777777777778,
              "#fb9f3a"
             ],
             [
              0.8888888888888888,
              "#fdca26"
             ],
             [
              1,
              "#f0f921"
             ]
            ],
            "type": "heatmapgl"
           }
          ],
          "histogram": [
           {
            "marker": {
             "pattern": {
              "fillmode": "overlay",
              "size": 10,
              "solidity": 0.2
             }
            },
            "type": "histogram"
           }
          ],
          "histogram2d": [
           {
            "colorbar": {
             "outlinewidth": 0,
             "ticks": ""
            },
            "colorscale": [
             [
              0,
              "#0d0887"
             ],
             [
              0.1111111111111111,
              "#46039f"
             ],
             [
              0.2222222222222222,
              "#7201a8"
             ],
             [
              0.3333333333333333,
              "#9c179e"
             ],
             [
              0.4444444444444444,
              "#bd3786"
             ],
             [
              0.5555555555555556,
              "#d8576b"
             ],
             [
              0.6666666666666666,
              "#ed7953"
             ],
             [
              0.7777777777777778,
              "#fb9f3a"
             ],
             [
              0.8888888888888888,
              "#fdca26"
             ],
             [
              1,
              "#f0f921"
             ]
            ],
            "type": "histogram2d"
           }
          ],
          "histogram2dcontour": [
           {
            "colorbar": {
             "outlinewidth": 0,
             "ticks": ""
            },
            "colorscale": [
             [
              0,
              "#0d0887"
             ],
             [
              0.1111111111111111,
              "#46039f"
             ],
             [
              0.2222222222222222,
              "#7201a8"
             ],
             [
              0.3333333333333333,
              "#9c179e"
             ],
             [
              0.4444444444444444,
              "#bd3786"
             ],
             [
              0.5555555555555556,
              "#d8576b"
             ],
             [
              0.6666666666666666,
              "#ed7953"
             ],
             [
              0.7777777777777778,
              "#fb9f3a"
             ],
             [
              0.8888888888888888,
              "#fdca26"
             ],
             [
              1,
              "#f0f921"
             ]
            ],
            "type": "histogram2dcontour"
           }
          ],
          "mesh3d": [
           {
            "colorbar": {
             "outlinewidth": 0,
             "ticks": ""
            },
            "type": "mesh3d"
           }
          ],
          "parcoords": [
           {
            "line": {
             "colorbar": {
              "outlinewidth": 0,
              "ticks": ""
             }
            },
            "type": "parcoords"
           }
          ],
          "pie": [
           {
            "automargin": true,
            "type": "pie"
           }
          ],
          "scatter": [
           {
            "fillpattern": {
             "fillmode": "overlay",
             "size": 10,
             "solidity": 0.2
            },
            "type": "scatter"
           }
          ],
          "scatter3d": [
           {
            "line": {
             "colorbar": {
              "outlinewidth": 0,
              "ticks": ""
             }
            },
            "marker": {
             "colorbar": {
              "outlinewidth": 0,
              "ticks": ""
             }
            },
            "type": "scatter3d"
           }
          ],
          "scattercarpet": [
           {
            "marker": {
             "colorbar": {
              "outlinewidth": 0,
              "ticks": ""
             }
            },
            "type": "scattercarpet"
           }
          ],
          "scattergeo": [
           {
            "marker": {
             "colorbar": {
              "outlinewidth": 0,
              "ticks": ""
             }
            },
            "type": "scattergeo"
           }
          ],
          "scattergl": [
           {
            "marker": {
             "colorbar": {
              "outlinewidth": 0,
              "ticks": ""
             }
            },
            "type": "scattergl"
           }
          ],
          "scattermapbox": [
           {
            "marker": {
             "colorbar": {
              "outlinewidth": 0,
              "ticks": ""
             }
            },
            "type": "scattermapbox"
           }
          ],
          "scatterpolar": [
           {
            "marker": {
             "colorbar": {
              "outlinewidth": 0,
              "ticks": ""
             }
            },
            "type": "scatterpolar"
           }
          ],
          "scatterpolargl": [
           {
            "marker": {
             "colorbar": {
              "outlinewidth": 0,
              "ticks": ""
             }
            },
            "type": "scatterpolargl"
           }
          ],
          "scatterternary": [
           {
            "marker": {
             "colorbar": {
              "outlinewidth": 0,
              "ticks": ""
             }
            },
            "type": "scatterternary"
           }
          ],
          "surface": [
           {
            "colorbar": {
             "outlinewidth": 0,
             "ticks": ""
            },
            "colorscale": [
             [
              0,
              "#0d0887"
             ],
             [
              0.1111111111111111,
              "#46039f"
             ],
             [
              0.2222222222222222,
              "#7201a8"
             ],
             [
              0.3333333333333333,
              "#9c179e"
             ],
             [
              0.4444444444444444,
              "#bd3786"
             ],
             [
              0.5555555555555556,
              "#d8576b"
             ],
             [
              0.6666666666666666,
              "#ed7953"
             ],
             [
              0.7777777777777778,
              "#fb9f3a"
             ],
             [
              0.8888888888888888,
              "#fdca26"
             ],
             [
              1,
              "#f0f921"
             ]
            ],
            "type": "surface"
           }
          ],
          "table": [
           {
            "cells": {
             "fill": {
              "color": "#EBF0F8"
             },
             "line": {
              "color": "white"
             }
            },
            "header": {
             "fill": {
              "color": "#C8D4E3"
             },
             "line": {
              "color": "white"
             }
            },
            "type": "table"
           }
          ]
         },
         "layout": {
          "annotationdefaults": {
           "arrowcolor": "#2a3f5f",
           "arrowhead": 0,
           "arrowwidth": 1
          },
          "autotypenumbers": "strict",
          "coloraxis": {
           "colorbar": {
            "outlinewidth": 0,
            "ticks": ""
           }
          },
          "colorscale": {
           "diverging": [
            [
             0,
             "#8e0152"
            ],
            [
             0.1,
             "#c51b7d"
            ],
            [
             0.2,
             "#de77ae"
            ],
            [
             0.3,
             "#f1b6da"
            ],
            [
             0.4,
             "#fde0ef"
            ],
            [
             0.5,
             "#f7f7f7"
            ],
            [
             0.6,
             "#e6f5d0"
            ],
            [
             0.7,
             "#b8e186"
            ],
            [
             0.8,
             "#7fbc41"
            ],
            [
             0.9,
             "#4d9221"
            ],
            [
             1,
             "#276419"
            ]
           ],
           "sequential": [
            [
             0,
             "#0d0887"
            ],
            [
             0.1111111111111111,
             "#46039f"
            ],
            [
             0.2222222222222222,
             "#7201a8"
            ],
            [
             0.3333333333333333,
             "#9c179e"
            ],
            [
             0.4444444444444444,
             "#bd3786"
            ],
            [
             0.5555555555555556,
             "#d8576b"
            ],
            [
             0.6666666666666666,
             "#ed7953"
            ],
            [
             0.7777777777777778,
             "#fb9f3a"
            ],
            [
             0.8888888888888888,
             "#fdca26"
            ],
            [
             1,
             "#f0f921"
            ]
           ],
           "sequentialminus": [
            [
             0,
             "#0d0887"
            ],
            [
             0.1111111111111111,
             "#46039f"
            ],
            [
             0.2222222222222222,
             "#7201a8"
            ],
            [
             0.3333333333333333,
             "#9c179e"
            ],
            [
             0.4444444444444444,
             "#bd3786"
            ],
            [
             0.5555555555555556,
             "#d8576b"
            ],
            [
             0.6666666666666666,
             "#ed7953"
            ],
            [
             0.7777777777777778,
             "#fb9f3a"
            ],
            [
             0.8888888888888888,
             "#fdca26"
            ],
            [
             1,
             "#f0f921"
            ]
           ]
          },
          "colorway": [
           "#636efa",
           "#EF553B",
           "#00cc96",
           "#ab63fa",
           "#FFA15A",
           "#19d3f3",
           "#FF6692",
           "#B6E880",
           "#FF97FF",
           "#FECB52"
          ],
          "font": {
           "color": "#2a3f5f"
          },
          "geo": {
           "bgcolor": "white",
           "lakecolor": "white",
           "landcolor": "#E5ECF6",
           "showlakes": true,
           "showland": true,
           "subunitcolor": "white"
          },
          "hoverlabel": {
           "align": "left"
          },
          "hovermode": "closest",
          "mapbox": {
           "style": "light"
          },
          "paper_bgcolor": "white",
          "plot_bgcolor": "#E5ECF6",
          "polar": {
           "angularaxis": {
            "gridcolor": "white",
            "linecolor": "white",
            "ticks": ""
           },
           "bgcolor": "#E5ECF6",
           "radialaxis": {
            "gridcolor": "white",
            "linecolor": "white",
            "ticks": ""
           }
          },
          "scene": {
           "xaxis": {
            "backgroundcolor": "#E5ECF6",
            "gridcolor": "white",
            "gridwidth": 2,
            "linecolor": "white",
            "showbackground": true,
            "ticks": "",
            "zerolinecolor": "white"
           },
           "yaxis": {
            "backgroundcolor": "#E5ECF6",
            "gridcolor": "white",
            "gridwidth": 2,
            "linecolor": "white",
            "showbackground": true,
            "ticks": "",
            "zerolinecolor": "white"
           },
           "zaxis": {
            "backgroundcolor": "#E5ECF6",
            "gridcolor": "white",
            "gridwidth": 2,
            "linecolor": "white",
            "showbackground": true,
            "ticks": "",
            "zerolinecolor": "white"
           }
          },
          "shapedefaults": {
           "line": {
            "color": "#2a3f5f"
           }
          },
          "ternary": {
           "aaxis": {
            "gridcolor": "white",
            "linecolor": "white",
            "ticks": ""
           },
           "baxis": {
            "gridcolor": "white",
            "linecolor": "white",
            "ticks": ""
           },
           "bgcolor": "#E5ECF6",
           "caxis": {
            "gridcolor": "white",
            "linecolor": "white",
            "ticks": ""
           }
          },
          "title": {
           "x": 0.05
          },
          "xaxis": {
           "automargin": true,
           "gridcolor": "white",
           "linecolor": "white",
           "ticks": "",
           "title": {
            "standoff": 15
           },
           "zerolinecolor": "white",
           "zerolinewidth": 2
          },
          "yaxis": {
           "automargin": true,
           "gridcolor": "white",
           "linecolor": "white",
           "ticks": "",
           "title": {
            "standoff": 15
           },
           "zerolinecolor": "white",
           "zerolinewidth": 2
          }
         }
        },
        "title": {
         "text": "Top 20 Bigrams"
        },
        "xaxis": {
         "anchor": "y",
         "autorange": true,
         "domain": [
          0,
          1
         ],
         "range": [
          -0.5,
          19.5
         ],
         "title": {
          "text": "index"
         },
         "type": "category"
        },
        "yaxis": {
         "anchor": "x",
         "autorange": true,
         "domain": [
          0,
          1
         ],
         "range": [
          0,
          28.42105263157895
         ],
         "title": {
          "text": "Count"
         },
         "type": "linear"
        }
       }
      },
      "image/png": "[encoded data removed]",
      "text/html": [
       "<div>                            <div id=\"3dc124de-bbfe-45ef-b236-f7fdeb612174\" class=\"plotly-graph-div\" style=\"height:525px; width:100%;\"></div>            <script type=\"text/javascript\">                require([\"plotly\"], function(Plotly) {                    window.PLOTLYENV=window.PLOTLYENV || {};                                    if (document.getElementById(\"3dc124de-bbfe-45ef-b236-f7fdeb612174\")) {                    Plotly.newPlot(                        \"3dc124de-bbfe-45ef-b236-f7fdeb612174\",                        [{\"alignmentgroup\":\"True\",\"hovertemplate\":\"index=%{x}\\u003cbr\\u003eCount=%{y}\\u003cextra\\u003e\\u003c\\u002fextra\\u003e\",\"legendgroup\":\"\",\"marker\":{\"color\":\"#636efa\",\"pattern\":{\"shape\":\"\"}},\"name\":\"\",\"offsetgroup\":\"\",\"orientation\":\"v\",\"showlegend\":false,\"textposition\":\"auto\",\"x\":[\"nice app\",\"good app\",\"\\u00f0\\u00ff \\u00f0\\u00ff\",\"good service\",\"customer care\",\"worst app\",\"paytm wallet\",\"best app\",\"easy use\",\"using paytm\",\"customer support\",\"paytm app\",\"16 point\",\"thanks paytm\",\"good application\",\"good payment\",\"solve problem\",\"bad app\",\"money gone\",\"paytm ipo\"],\"xaxis\":\"x\",\"y\":[27,26,17,12,12,11,8,7,7,6,6,6,5,5,5,5,5,5,4,4],\"yaxis\":\"y\",\"type\":\"bar\"}],                        {\"template\":{\"data\":{\"histogram2dcontour\":[{\"type\":\"histogram2dcontour\",\"colorbar\":{\"outlinewidth\":0,\"ticks\":\"\"},\"colorscale\":[[0.0,\"#0d0887\"],[0.1111111111111111,\"#46039f\"],[0.2222222222222222,\"#7201a8\"],[0.3333333333333333,\"#9c179e\"],[0.4444444444444444,\"#bd3786\"],[0.5555555555555556,\"#d8576b\"],[0.6666666666666666,\"#ed7953\"],[0.7777777777777778,\"#fb9f3a\"],[0.8888888888888888,\"#fdca26\"],[1.0,\"#f0f921\"]]}],\"choropleth\":[{\"type\":\"choropleth\",\"colorbar\":{\"outlinewidth\":0,\"ticks\":\"\"}}],\"histogram2d\":[{\"type\":\"histogram2d\",\"colorbar\":{\"outlinewidth\":0,\"ticks\":\"\"},\"colorscale\":[[0.0,\"#0d0887\"],[0.1111111111111111,\"#46039f\"],[0.2222222222222222,\"#7201a8\"],[0.3333333333333333,\"#9c179e\"],[0.4444444444444444,\"#bd3786\"],[0.5555555555555556,\"#d8576b\"],[0.6666666666666666,\"#ed7953\"],[0.7777777777777778,\"#fb9f3a\"],[0.8888888888888888,\"#fdca26\"],[1.0,\"#f0f921\"]]}],\"heatmap\":[{\"type\":\"heatmap\",\"colorbar\":{\"outlinewidth\":0,\"ticks\":\"\"},\"colorscale\":[[0.0,\"#0d0887\"],[0.1111111111111111,\"#46039f\"],[0.2222222222222222,\"#7201a8\"],[0.3333333333333333,\"#9c179e\"],[0.4444444444444444,\"#bd3786\"],[0.5555555555555556,\"#d8576b\"],[0.6666666666666666,\"#ed7953\"],[0.7777777777777778,\"#fb9f3a\"],[0.8888888888888888,\"#fdca26\"],[1.0,\"#f0f921\"]]}],\"heatmapgl\":[{\"type\":\"heatmapgl\",\"colorbar\":{\"outlinewidth\":0,\"ticks\":\"\"},\"colorscale\":[[0.0,\"#0d0887\"],[0.1111111111111111,\"#46039f\"],[0.2222222222222222,\"#7201a8\"],[0.3333333333333333,\"#9c179e\"],[0.4444444444444444,\"#bd3786\"],[0.5555555555555556,\"#d8576b\"],[0.6666666666666666,\"#ed7953\"],[0.7777777777777778,\"#fb9f3a\"],[0.8888888888888888,\"#fdca26\"],[1.0,\"#f0f921\"]]}],\"contourcarpet\":[{\"type\":\"contourcarpet\",\"colorbar\":{\"outlinewidth\":0,\"ticks\":\"\"}}],\"contour\":[{\"type\":\"contour\",\"colorbar\":{\"outlinewidth\":0,\"ticks\":\"\"},\"colorscale\":[[0.0,\"#0d0887\"],[0.1111111111111111,\"#46039f\"],[0.2222222222222222,\"#7201a8\"],[0.3333333333333333,\"#9c179e\"],[0.4444444444444444,\"#bd3786\"],[0.5555555555555556,\"#d8576b\"],[0.6666666666666666,\"#ed7953\"],[0.7777777777777778,\"#fb9f3a\"],[0.8888888888888888,\"#fdca26\"],[1.0,\"#f0f921\"]]}],\"surface\":[{\"type\":\"surface\",\"colorbar\":{\"outlinewidth\":0,\"ticks\":\"\"},\"colorscale\":[[0.0,\"#0d0887\"],[0.1111111111111111,\"#46039f\"],[0.2222222222222222,\"#7201a8\"],[0.3333333333333333,\"#9c179e\"],[0.4444444444444444,\"#bd3786\"],[0.5555555555555556,\"#d8576b\"],[0.6666666666666666,\"#ed7953\"],[0.7777777777777778,\"#fb9f3a\"],[0.8888888888888888,\"#fdca26\"],[1.0,\"#f0f921\"]]}],\"mesh3d\":[{\"type\":\"mesh3d\",\"colorbar\":{\"outlinewidth\":0,\"ticks\":\"\"}}],\"scatter\":[{\"fillpattern\":{\"fillmode\":\"overlay\",\"size\":10,\"solidity\":0.2},\"type\":\"scatter\"}],\"parcoords\":[{\"type\":\"parcoords\",\"line\":{\"colorbar\":{\"outlinewidth\":0,\"ticks\":\"\"}}}],\"scatterpolargl\":[{\"type\":\"scatterpolargl\",\"marker\":{\"colorbar\":{\"outlinewidth\":0,\"ticks\":\"\"}}}],\"bar\":[{\"error_x\":{\"color\":\"#2a3f5f\"},\"error_y\":{\"color\":\"#2a3f5f\"},\"marker\":{\"line\":{\"color\":\"#E5ECF6\",\"width\":0.5},\"pattern\":{\"fillmode\":\"overlay\",\"size\":10,\"solidity\":0.2}},\"type\":\"bar\"}],\"scattergeo\":[{\"type\":\"scattergeo\",\"marker\":{\"colorbar\":{\"outlinewidth\":0,\"ticks\":\"\"}}}],\"scatterpolar\":[{\"type\":\"scatterpolar\",\"marker\":{\"colorbar\":{\"outlinewidth\":0,\"ticks\":\"\"}}}],\"histogram\":[{\"marker\":{\"pattern\":{\"fillmode\":\"overlay\",\"size\":10,\"solidity\":0.2}},\"type\":\"histogram\"}],\"scattergl\":[{\"type\":\"scattergl\",\"marker\":{\"colorbar\":{\"outlinewidth\":0,\"ticks\":\"\"}}}],\"scatter3d\":[{\"type\":\"scatter3d\",\"line\":{\"colorbar\":{\"outlinewidth\":0,\"ticks\":\"\"}},\"marker\":{\"colorbar\":{\"outlinewidth\":0,\"ticks\":\"\"}}}],\"scattermapbox\":[{\"type\":\"scattermapbox\",\"marker\":{\"colorbar\":{\"outlinewidth\":0,\"ticks\":\"\"}}}],\"scatterternary\":[{\"type\":\"scatterternary\",\"marker\":{\"colorbar\":{\"outlinewidth\":0,\"ticks\":\"\"}}}],\"scattercarpet\":[{\"type\":\"scattercarpet\",\"marker\":{\"colorbar\":{\"outlinewidth\":0,\"ticks\":\"\"}}}],\"carpet\":[{\"aaxis\":{\"endlinecolor\":\"#2a3f5f\",\"gridcolor\":\"white\",\"linecolor\":\"white\",\"minorgridcolor\":\"white\",\"startlinecolor\":\"#2a3f5f\"},\"baxis\":{\"endlinecolor\":\"#2a3f5f\",\"gridcolor\":\"white\",\"linecolor\":\"white\",\"minorgridcolor\":\"white\",\"startlinecolor\":\"#2a3f5f\"},\"type\":\"carpet\"}],\"table\":[{\"cells\":{\"fill\":{\"color\":\"#EBF0F8\"},\"line\":{\"color\":\"white\"}},\"header\":{\"fill\":{\"color\":\"#C8D4E3\"},\"line\":{\"color\":\"white\"}},\"type\":\"table\"}],\"barpolar\":[{\"marker\":{\"line\":{\"color\":\"#E5ECF6\",\"width\":0.5},\"pattern\":{\"fillmode\":\"overlay\",\"size\":10,\"solidity\":0.2}},\"type\":\"barpolar\"}],\"pie\":[{\"automargin\":true,\"type\":\"pie\"}]},\"layout\":{\"autotypenumbers\":\"strict\",\"colorway\":[\"#636efa\",\"#EF553B\",\"#00cc96\",\"#ab63fa\",\"#FFA15A\",\"#19d3f3\",\"#FF6692\",\"#B6E880\",\"#FF97FF\",\"#FECB52\"],\"font\":{\"color\":\"#2a3f5f\"},\"hovermode\":\"closest\",\"hoverlabel\":{\"align\":\"left\"},\"paper_bgcolor\":\"white\",\"plot_bgcolor\":\"#E5ECF6\",\"polar\":{\"bgcolor\":\"#E5ECF6\",\"angularaxis\":{\"gridcolor\":\"white\",\"linecolor\":\"white\",\"ticks\":\"\"},\"radialaxis\":{\"gridcolor\":\"white\",\"linecolor\":\"white\",\"ticks\":\"\"}},\"ternary\":{\"bgcolor\":\"#E5ECF6\",\"aaxis\":{\"gridcolor\":\"white\",\"linecolor\":\"white\",\"ticks\":\"\"},\"baxis\":{\"gridcolor\":\"white\",\"linecolor\":\"white\",\"ticks\":\"\"},\"caxis\":{\"gridcolor\":\"white\",\"linecolor\":\"white\",\"ticks\":\"\"}},\"coloraxis\":{\"colorbar\":{\"outlinewidth\":0,\"ticks\":\"\"}},\"colorscale\":{\"sequential\":[[0.0,\"#0d0887\"],[0.1111111111111111,\"#46039f\"],[0.2222222222222222,\"#7201a8\"],[0.3333333333333333,\"#9c179e\"],[0.4444444444444444,\"#bd3786\"],[0.5555555555555556,\"#d8576b\"],[0.6666666666666666,\"#ed7953\"],[0.7777777777777778,\"#fb9f3a\"],[0.8888888888888888,\"#fdca26\"],[1.0,\"#f0f921\"]],\"sequentialminus\":[[0.0,\"#0d0887\"],[0.1111111111111111,\"#46039f\"],[0.2222222222222222,\"#7201a8\"],[0.3333333333333333,\"#9c179e\"],[0.4444444444444444,\"#bd3786\"],[0.5555555555555556,\"#d8576b\"],[0.6666666666666666,\"#ed7953\"],[0.7777777777777778,\"#fb9f3a\"],[0.8888888888888888,\"#fdca26\"],[1.0,\"#f0f921\"]],\"diverging\":[[0,\"#8e0152\"],[0.1,\"#c51b7d\"],[0.2,\"#de77ae\"],[0.3,\"#f1b6da\"],[0.4,\"#fde0ef\"],[0.5,\"#f7f7f7\"],[0.6,\"#e6f5d0\"],[0.7,\"#b8e186\"],[0.8,\"#7fbc41\"],[0.9,\"#4d9221\"],[1,\"#276419\"]]},\"xaxis\":{\"gridcolor\":\"white\",\"linecolor\":\"white\",\"ticks\":\"\",\"title\":{\"standoff\":15},\"zerolinecolor\":\"white\",\"automargin\":true,\"zerolinewidth\":2},\"yaxis\":{\"gridcolor\":\"white\",\"linecolor\":\"white\",\"ticks\":\"\",\"title\":{\"standoff\":15},\"zerolinecolor\":\"white\",\"automargin\":true,\"zerolinewidth\":2},\"scene\":{\"xaxis\":{\"backgroundcolor\":\"#E5ECF6\",\"gridcolor\":\"white\",\"linecolor\":\"white\",\"showbackground\":true,\"ticks\":\"\",\"zerolinecolor\":\"white\",\"gridwidth\":2},\"yaxis\":{\"backgroundcolor\":\"#E5ECF6\",\"gridcolor\":\"white\",\"linecolor\":\"white\",\"showbackground\":true,\"ticks\":\"\",\"zerolinecolor\":\"white\",\"gridwidth\":2},\"zaxis\":{\"backgroundcolor\":\"#E5ECF6\",\"gridcolor\":\"white\",\"linecolor\":\"white\",\"showbackground\":true,\"ticks\":\"\",\"zerolinecolor\":\"white\",\"gridwidth\":2}},\"shapedefaults\":{\"line\":{\"color\":\"#2a3f5f\"}},\"annotationdefaults\":{\"arrowcolor\":\"#2a3f5f\",\"arrowhead\":0,\"arrowwidth\":1},\"geo\":{\"bgcolor\":\"white\",\"landcolor\":\"#E5ECF6\",\"subunitcolor\":\"white\",\"showland\":true,\"showlakes\":true,\"lakecolor\":\"white\"},\"title\":{\"x\":0.05},\"mapbox\":{\"style\":\"light\"}}},\"xaxis\":{\"anchor\":\"y\",\"domain\":[0.0,1.0],\"title\":{\"text\":\"index\"}},\"yaxis\":{\"anchor\":\"x\",\"domain\":[0.0,1.0],\"title\":{\"text\":\"Count\"}},\"legend\":{\"tracegroupgap\":0},\"title\":{\"text\":\"Top 20 Bigrams\"},\"barmode\":\"relative\"},                        {\"responsive\": true}                    ).then(function(){\n",
       "                            \n",
       "var gd = document.getElementById('3dc124de-bbfe-45ef-b236-f7fdeb612174');\n",
       "var x = new MutationObserver(function (mutations, observer) {{\n",
       "        var display = window.getComputedStyle(gd).display;\n",
       "        if (!display || display === 'none') {{\n",
       "            console.log([gd, 'removed!']);\n",
       "            Plotly.purge(gd);\n",
       "            observer.disconnect();\n",
       "        }}\n",
       "}});\n",
       "\n",
       "// Listen for the removal of the full notebook cells\n",
       "var notebookContainer = gd.closest('#notebook-container');\n",
       "if (notebookContainer) {{\n",
       "    x.observe(notebookContainer, {childList: true});\n",
       "}}\n",
       "\n",
       "// Listen for the clearing of the current output cell\n",
       "var outputEl = gd.closest('.output');\n",
       "if (outputEl) {{\n",
       "    x.observe(outputEl, {childList: true});\n",
       "}}\n",
       "\n",
       "                        })                };                });            </script>        </div>"
      ]
     },
     "metadata": {},
     "output_type": "display_data"
    },
    {
     "name": "stdout",
     "output_type": "stream",
     "text": [
      "\n",
      "Top 20 Trigrams:\n",
      "                        count\n",
      "ðÿ ðÿ ðÿ                   14\n",
      "bad app booked              3\n",
      "customer care service       3\n",
      "app booked cylinder         3\n",
      "paytm fixed deposit         3\n",
      "super super super           3\n",
      "booked cylinder paytm       2\n",
      "use na kre                  2\n",
      "cylinder paytm 14           2\n",
      "till showing booking        2\n",
      "able track money            2\n",
      "kar dete hai                2\n",
      "paytm 14 nov                2\n",
      "chuna laga diya             2\n",
      "app easy use                2\n",
      "fraud company ipo           2\n",
      "booking able track          2\n",
      "nice good app               2\n",
      "nov came till               2\n",
      "worst experience paytm      2\n"
     ]
    },
    {
     "data": {
      "application/vnd.plotly.v1+json": {
       "config": {
        "plotlyServerURL": "https://plot.ly"
       },
       "data": [
        {
         "alignmentgroup": "True",
         "hovertemplate": "index=%{x}<br>Count=%{y}<extra></extra>",
         "legendgroup": "",
         "marker": {
          "color": "#636efa",
          "pattern": {
           "shape": ""
          }
         },
         "name": "",
         "offsetgroup": "",
         "orientation": "v",
         "showlegend": false,
         "textposition": "auto",
         "type": "bar",
         "x": [
          "ðÿ ðÿ ðÿ",
          "bad app booked",
          "customer care service",
          "app booked cylinder",
          "paytm fixed deposit",
          "super super super",
          "booked cylinder paytm",
          "use na kre",
          "cylinder paytm 14",
          "till showing booking",
          "able track money",
          "kar dete hai",
          "paytm 14 nov",
          "chuna laga diya",
          "app easy use",
          "fraud company ipo",
          "booking able track",
          "nice good app",
          "nov came till",
          "worst experience paytm"
         ],
         "xaxis": "x",
         "y": [
          14,
          3,
          3,
          3,
          3,
          3,
          2,
          2,
          2,
          2,
          2,
          2,
          2,
          2,
          2,
          2,
          2,
          2,
          2,
          2
         ],
         "yaxis": "y"
        }
       ],
       "layout": {
        "autosize": true,
        "barmode": "relative",
        "legend": {
         "tracegroupgap": 0
        },
        "template": {
         "data": {
          "bar": [
           {
            "error_x": {
             "color": "#2a3f5f"
            },
            "error_y": {
             "color": "#2a3f5f"
            },
            "marker": {
             "line": {
              "color": "#E5ECF6",
              "width": 0.5
             },
             "pattern": {
              "fillmode": "overlay",
              "size": 10,
              "solidity": 0.2
             }
            },
            "type": "bar"
           }
          ],
          "barpolar": [
           {
            "marker": {
             "line": {
              "color": "#E5ECF6",
              "width": 0.5
             },
             "pattern": {
              "fillmode": "overlay",
              "size": 10,
              "solidity": 0.2
             }
            },
            "type": "barpolar"
           }
          ],
          "carpet": [
           {
            "aaxis": {
             "endlinecolor": "#2a3f5f",
             "gridcolor": "white",
             "linecolor": "white",
             "minorgridcolor": "white",
             "startlinecolor": "#2a3f5f"
            },
            "baxis": {
             "endlinecolor": "#2a3f5f",
             "gridcolor": "white",
             "linecolor": "white",
             "minorgridcolor": "white",
             "startlinecolor": "#2a3f5f"
            },
            "type": "carpet"
           }
          ],
          "choropleth": [
           {
            "colorbar": {
             "outlinewidth": 0,
             "ticks": ""
            },
            "type": "choropleth"
           }
          ],
          "contour": [
           {
            "colorbar": {
             "outlinewidth": 0,
             "ticks": ""
            },
            "colorscale": [
             [
              0,
              "#0d0887"
             ],
             [
              0.1111111111111111,
              "#46039f"
             ],
             [
              0.2222222222222222,
              "#7201a8"
             ],
             [
              0.3333333333333333,
              "#9c179e"
             ],
             [
              0.4444444444444444,
              "#bd3786"
             ],
             [
              0.5555555555555556,
              "#d8576b"
             ],
             [
              0.6666666666666666,
              "#ed7953"
             ],
             [
              0.7777777777777778,
              "#fb9f3a"
             ],
             [
              0.8888888888888888,
              "#fdca26"
             ],
             [
              1,
              "#f0f921"
             ]
            ],
            "type": "contour"
           }
          ],
          "contourcarpet": [
           {
            "colorbar": {
             "outlinewidth": 0,
             "ticks": ""
            },
            "type": "contourcarpet"
           }
          ],
          "heatmap": [
           {
            "colorbar": {
             "outlinewidth": 0,
             "ticks": ""
            },
            "colorscale": [
             [
              0,
              "#0d0887"
             ],
             [
              0.1111111111111111,
              "#46039f"
             ],
             [
              0.2222222222222222,
              "#7201a8"
             ],
             [
              0.3333333333333333,
              "#9c179e"
             ],
             [
              0.4444444444444444,
              "#bd3786"
             ],
             [
              0.5555555555555556,
              "#d8576b"
             ],
             [
              0.6666666666666666,
              "#ed7953"
             ],
             [
              0.7777777777777778,
              "#fb9f3a"
             ],
             [
              0.8888888888888888,
              "#fdca26"
             ],
             [
              1,
              "#f0f921"
             ]
            ],
            "type": "heatmap"
           }
          ],
          "heatmapgl": [
           {
            "colorbar": {
             "outlinewidth": 0,
             "ticks": ""
            },
            "colorscale": [
             [
              0,
              "#0d0887"
             ],
             [
              0.1111111111111111,
              "#46039f"
             ],
             [
              0.2222222222222222,
              "#7201a8"
             ],
             [
              0.3333333333333333,
              "#9c179e"
             ],
             [
              0.4444444444444444,
              "#bd3786"
             ],
             [
              0.5555555555555556,
              "#d8576b"
             ],
             [
              0.6666666666666666,
              "#ed7953"
             ],
             [
              0.7777777777777778,
              "#fb9f3a"
             ],
             [
              0.8888888888888888,
              "#fdca26"
             ],
             [
              1,
              "#f0f921"
             ]
            ],
            "type": "heatmapgl"
           }
          ],
          "histogram": [
           {
            "marker": {
             "pattern": {
              "fillmode": "overlay",
              "size": 10,
              "solidity": 0.2
             }
            },
            "type": "histogram"
           }
          ],
          "histogram2d": [
           {
            "colorbar": {
             "outlinewidth": 0,
             "ticks": ""
            },
            "colorscale": [
             [
              0,
              "#0d0887"
             ],
             [
              0.1111111111111111,
              "#46039f"
             ],
             [
              0.2222222222222222,
              "#7201a8"
             ],
             [
              0.3333333333333333,
              "#9c179e"
             ],
             [
              0.4444444444444444,
              "#bd3786"
             ],
             [
              0.5555555555555556,
              "#d8576b"
             ],
             [
              0.6666666666666666,
              "#ed7953"
             ],
             [
              0.7777777777777778,
              "#fb9f3a"
             ],
             [
              0.8888888888888888,
              "#fdca26"
             ],
             [
              1,
              "#f0f921"
             ]
            ],
            "type": "histogram2d"
           }
          ],
          "histogram2dcontour": [
           {
            "colorbar": {
             "outlinewidth": 0,
             "ticks": ""
            },
            "colorscale": [
             [
              0,
              "#0d0887"
             ],
             [
              0.1111111111111111,
              "#46039f"
             ],
             [
              0.2222222222222222,
              "#7201a8"
             ],
             [
              0.3333333333333333,
              "#9c179e"
             ],
             [
              0.4444444444444444,
              "#bd3786"
             ],
             [
              0.5555555555555556,
              "#d8576b"
             ],
             [
              0.6666666666666666,
              "#ed7953"
             ],
             [
              0.7777777777777778,
              "#fb9f3a"
             ],
             [
              0.8888888888888888,
              "#fdca26"
             ],
             [
              1,
              "#f0f921"
             ]
            ],
            "type": "histogram2dcontour"
           }
          ],
          "mesh3d": [
           {
            "colorbar": {
             "outlinewidth": 0,
             "ticks": ""
            },
            "type": "mesh3d"
           }
          ],
          "parcoords": [
           {
            "line": {
             "colorbar": {
              "outlinewidth": 0,
              "ticks": ""
             }
            },
            "type": "parcoords"
           }
          ],
          "pie": [
           {
            "automargin": true,
            "type": "pie"
           }
          ],
          "scatter": [
           {
            "fillpattern": {
             "fillmode": "overlay",
             "size": 10,
             "solidity": 0.2
            },
            "type": "scatter"
           }
          ],
          "scatter3d": [
           {
            "line": {
             "colorbar": {
              "outlinewidth": 0,
              "ticks": ""
             }
            },
            "marker": {
             "colorbar": {
              "outlinewidth": 0,
              "ticks": ""
             }
            },
            "type": "scatter3d"
           }
          ],
          "scattercarpet": [
           {
            "marker": {
             "colorbar": {
              "outlinewidth": 0,
              "ticks": ""
             }
            },
            "type": "scattercarpet"
           }
          ],
          "scattergeo": [
           {
            "marker": {
             "colorbar": {
              "outlinewidth": 0,
              "ticks": ""
             }
            },
            "type": "scattergeo"
           }
          ],
          "scattergl": [
           {
            "marker": {
             "colorbar": {
              "outlinewidth": 0,
              "ticks": ""
             }
            },
            "type": "scattergl"
           }
          ],
          "scattermapbox": [
           {
            "marker": {
             "colorbar": {
              "outlinewidth": 0,
              "ticks": ""
             }
            },
            "type": "scattermapbox"
           }
          ],
          "scatterpolar": [
           {
            "marker": {
             "colorbar": {
              "outlinewidth": 0,
              "ticks": ""
             }
            },
            "type": "scatterpolar"
           }
          ],
          "scatterpolargl": [
           {
            "marker": {
             "colorbar": {
              "outlinewidth": 0,
              "ticks": ""
             }
            },
            "type": "scatterpolargl"
           }
          ],
          "scatterternary": [
           {
            "marker": {
             "colorbar": {
              "outlinewidth": 0,
              "ticks": ""
             }
            },
            "type": "scatterternary"
           }
          ],
          "surface": [
           {
            "colorbar": {
             "outlinewidth": 0,
             "ticks": ""
            },
            "colorscale": [
             [
              0,
              "#0d0887"
             ],
             [
              0.1111111111111111,
              "#46039f"
             ],
             [
              0.2222222222222222,
              "#7201a8"
             ],
             [
              0.3333333333333333,
              "#9c179e"
             ],
             [
              0.4444444444444444,
              "#bd3786"
             ],
             [
              0.5555555555555556,
              "#d8576b"
             ],
             [
              0.6666666666666666,
              "#ed7953"
             ],
             [
              0.7777777777777778,
              "#fb9f3a"
             ],
             [
              0.8888888888888888,
              "#fdca26"
             ],
             [
              1,
              "#f0f921"
             ]
            ],
            "type": "surface"
           }
          ],
          "table": [
           {
            "cells": {
             "fill": {
              "color": "#EBF0F8"
             },
             "line": {
              "color": "white"
             }
            },
            "header": {
             "fill": {
              "color": "#C8D4E3"
             },
             "line": {
              "color": "white"
             }
            },
            "type": "table"
           }
          ]
         },
         "layout": {
          "annotationdefaults": {
           "arrowcolor": "#2a3f5f",
           "arrowhead": 0,
           "arrowwidth": 1
          },
          "autotypenumbers": "strict",
          "coloraxis": {
           "colorbar": {
            "outlinewidth": 0,
            "ticks": ""
           }
          },
          "colorscale": {
           "diverging": [
            [
             0,
             "#8e0152"
            ],
            [
             0.1,
             "#c51b7d"
            ],
            [
             0.2,
             "#de77ae"
            ],
            [
             0.3,
             "#f1b6da"
            ],
            [
             0.4,
             "#fde0ef"
            ],
            [
             0.5,
             "#f7f7f7"
            ],
            [
             0.6,
             "#e6f5d0"
            ],
            [
             0.7,
             "#b8e186"
            ],
            [
             0.8,
             "#7fbc41"
            ],
            [
             0.9,
             "#4d9221"
            ],
            [
             1,
             "#276419"
            ]
           ],
           "sequential": [
            [
             0,
             "#0d0887"
            ],
            [
             0.1111111111111111,
             "#46039f"
            ],
            [
             0.2222222222222222,
             "#7201a8"
            ],
            [
             0.3333333333333333,
             "#9c179e"
            ],
            [
             0.4444444444444444,
             "#bd3786"
            ],
            [
             0.5555555555555556,
             "#d8576b"
            ],
            [
             0.6666666666666666,
             "#ed7953"
            ],
            [
             0.7777777777777778,
             "#fb9f3a"
            ],
            [
             0.8888888888888888,
             "#fdca26"
            ],
            [
             1,
             "#f0f921"
            ]
           ],
           "sequentialminus": [
            [
             0,
             "#0d0887"
            ],
            [
             0.1111111111111111,
             "#46039f"
            ],
            [
             0.2222222222222222,
             "#7201a8"
            ],
            [
             0.3333333333333333,
             "#9c179e"
            ],
            [
             0.4444444444444444,
             "#bd3786"
            ],
            [
             0.5555555555555556,
             "#d8576b"
            ],
            [
             0.6666666666666666,
             "#ed7953"
            ],
            [
             0.7777777777777778,
             "#fb9f3a"
            ],
            [
             0.8888888888888888,
             "#fdca26"
            ],
            [
             1,
             "#f0f921"
            ]
           ]
          },
          "colorway": [
           "#636efa",
           "#EF553B",
           "#00cc96",
           "#ab63fa",
           "#FFA15A",
           "#19d3f3",
           "#FF6692",
           "#B6E880",
           "#FF97FF",
           "#FECB52"
          ],
          "font": {
           "color": "#2a3f5f"
          },
          "geo": {
           "bgcolor": "white",
           "lakecolor": "white",
           "landcolor": "#E5ECF6",
           "showlakes": true,
           "showland": true,
           "subunitcolor": "white"
          },
          "hoverlabel": {
           "align": "left"
          },
          "hovermode": "closest",
          "mapbox": {
           "style": "light"
          },
          "paper_bgcolor": "white",
          "plot_bgcolor": "#E5ECF6",
          "polar": {
           "angularaxis": {
            "gridcolor": "white",
            "linecolor": "white",
            "ticks": ""
           },
           "bgcolor": "#E5ECF6",
           "radialaxis": {
            "gridcolor": "white",
            "linecolor": "white",
            "ticks": ""
           }
          },
          "scene": {
           "xaxis": {
            "backgroundcolor": "#E5ECF6",
            "gridcolor": "white",
            "gridwidth": 2,
            "linecolor": "white",
            "showbackground": true,
            "ticks": "",
            "zerolinecolor": "white"
           },
           "yaxis": {
            "backgroundcolor": "#E5ECF6",
            "gridcolor": "white",
            "gridwidth": 2,
            "linecolor": "white",
            "showbackground": true,
            "ticks": "",
            "zerolinecolor": "white"
           },
           "zaxis": {
            "backgroundcolor": "#E5ECF6",
            "gridcolor": "white",
            "gridwidth": 2,
            "linecolor": "white",
            "showbackground": true,
            "ticks": "",
            "zerolinecolor": "white"
           }
          },
          "shapedefaults": {
           "line": {
            "color": "#2a3f5f"
           }
          },
          "ternary": {
           "aaxis": {
            "gridcolor": "white",
            "linecolor": "white",
            "ticks": ""
           },
           "baxis": {
            "gridcolor": "white",
            "linecolor": "white",
            "ticks": ""
           },
           "bgcolor": "#E5ECF6",
           "caxis": {
            "gridcolor": "white",
            "linecolor": "white",
            "ticks": ""
           }
          },
          "title": {
           "x": 0.05
          },
          "xaxis": {
           "automargin": true,
           "gridcolor": "white",
           "linecolor": "white",
           "ticks": "",
           "title": {
            "standoff": 15
           },
           "zerolinecolor": "white",
           "zerolinewidth": 2
          },
          "yaxis": {
           "automargin": true,
           "gridcolor": "white",
           "linecolor": "white",
           "ticks": "",
           "title": {
            "standoff": 15
           },
           "zerolinecolor": "white",
           "zerolinewidth": 2
          }
         }
        },
        "title": {
         "text": "Top 20 Trigrams"
        },
        "xaxis": {
         "anchor": "y",
         "autorange": true,
         "domain": [
          0,
          1
         ],
         "range": [
          -0.5,
          19.5
         ],
         "title": {
          "text": "index"
         },
         "type": "category"
        },
        "yaxis": {
         "anchor": "x",
         "autorange": true,
         "domain": [
          0,
          1
         ],
         "range": [
          0,
          14.736842105263158
         ],
         "title": {
          "text": "Count"
         },
         "type": "linear"
        }
       }
      },
      "image/png": "[encoded data removed]",
      "text/html": [
       "<div>                            <div id=\"2794b780-0578-4dca-8698-2c212e3b5283\" class=\"plotly-graph-div\" style=\"height:525px; width:100%;\"></div>            <script type=\"text/javascript\">                require([\"plotly\"], function(Plotly) {                    window.PLOTLYENV=window.PLOTLYENV || {};                                    if (document.getElementById(\"2794b780-0578-4dca-8698-2c212e3b5283\")) {                    Plotly.newPlot(                        \"2794b780-0578-4dca-8698-2c212e3b5283\",                        [{\"alignmentgroup\":\"True\",\"hovertemplate\":\"index=%{x}\\u003cbr\\u003eCount=%{y}\\u003cextra\\u003e\\u003c\\u002fextra\\u003e\",\"legendgroup\":\"\",\"marker\":{\"color\":\"#636efa\",\"pattern\":{\"shape\":\"\"}},\"name\":\"\",\"offsetgroup\":\"\",\"orientation\":\"v\",\"showlegend\":false,\"textposition\":\"auto\",\"x\":[\"\\u00f0\\u00ff \\u00f0\\u00ff \\u00f0\\u00ff\",\"bad app booked\",\"customer care service\",\"app booked cylinder\",\"paytm fixed deposit\",\"super super super\",\"booked cylinder paytm\",\"use na kre\",\"cylinder paytm 14\",\"till showing booking\",\"able track money\",\"kar dete hai\",\"paytm 14 nov\",\"chuna laga diya\",\"app easy use\",\"fraud company ipo\",\"booking able track\",\"nice good app\",\"nov came till\",\"worst experience paytm\"],\"xaxis\":\"x\",\"y\":[14,3,3,3,3,3,2,2,2,2,2,2,2,2,2,2,2,2,2,2],\"yaxis\":\"y\",\"type\":\"bar\"}],                        {\"template\":{\"data\":{\"histogram2dcontour\":[{\"type\":\"histogram2dcontour\",\"colorbar\":{\"outlinewidth\":0,\"ticks\":\"\"},\"colorscale\":[[0.0,\"#0d0887\"],[0.1111111111111111,\"#46039f\"],[0.2222222222222222,\"#7201a8\"],[0.3333333333333333,\"#9c179e\"],[0.4444444444444444,\"#bd3786\"],[0.5555555555555556,\"#d8576b\"],[0.6666666666666666,\"#ed7953\"],[0.7777777777777778,\"#fb9f3a\"],[0.8888888888888888,\"#fdca26\"],[1.0,\"#f0f921\"]]}],\"choropleth\":[{\"type\":\"choropleth\",\"colorbar\":{\"outlinewidth\":0,\"ticks\":\"\"}}],\"histogram2d\":[{\"type\":\"histogram2d\",\"colorbar\":{\"outlinewidth\":0,\"ticks\":\"\"},\"colorscale\":[[0.0,\"#0d0887\"],[0.1111111111111111,\"#46039f\"],[0.2222222222222222,\"#7201a8\"],[0.3333333333333333,\"#9c179e\"],[0.4444444444444444,\"#bd3786\"],[0.5555555555555556,\"#d8576b\"],[0.6666666666666666,\"#ed7953\"],[0.7777777777777778,\"#fb9f3a\"],[0.8888888888888888,\"#fdca26\"],[1.0,\"#f0f921\"]]}],\"heatmap\":[{\"type\":\"heatmap\",\"colorbar\":{\"outlinewidth\":0,\"ticks\":\"\"},\"colorscale\":[[0.0,\"#0d0887\"],[0.1111111111111111,\"#46039f\"],[0.2222222222222222,\"#7201a8\"],[0.3333333333333333,\"#9c179e\"],[0.4444444444444444,\"#bd3786\"],[0.5555555555555556,\"#d8576b\"],[0.6666666666666666,\"#ed7953\"],[0.7777777777777778,\"#fb9f3a\"],[0.8888888888888888,\"#fdca26\"],[1.0,\"#f0f921\"]]}],\"heatmapgl\":[{\"type\":\"heatmapgl\",\"colorbar\":{\"outlinewidth\":0,\"ticks\":\"\"},\"colorscale\":[[0.0,\"#0d0887\"],[0.1111111111111111,\"#46039f\"],[0.2222222222222222,\"#7201a8\"],[0.3333333333333333,\"#9c179e\"],[0.4444444444444444,\"#bd3786\"],[0.5555555555555556,\"#d8576b\"],[0.6666666666666666,\"#ed7953\"],[0.7777777777777778,\"#fb9f3a\"],[0.8888888888888888,\"#fdca26\"],[1.0,\"#f0f921\"]]}],\"contourcarpet\":[{\"type\":\"contourcarpet\",\"colorbar\":{\"outlinewidth\":0,\"ticks\":\"\"}}],\"contour\":[{\"type\":\"contour\",\"colorbar\":{\"outlinewidth\":0,\"ticks\":\"\"},\"colorscale\":[[0.0,\"#0d0887\"],[0.1111111111111111,\"#46039f\"],[0.2222222222222222,\"#7201a8\"],[0.3333333333333333,\"#9c179e\"],[0.4444444444444444,\"#bd3786\"],[0.5555555555555556,\"#d8576b\"],[0.6666666666666666,\"#ed7953\"],[0.7777777777777778,\"#fb9f3a\"],[0.8888888888888888,\"#fdca26\"],[1.0,\"#f0f921\"]]}],\"surface\":[{\"type\":\"surface\",\"colorbar\":{\"outlinewidth\":0,\"ticks\":\"\"},\"colorscale\":[[0.0,\"#0d0887\"],[0.1111111111111111,\"#46039f\"],[0.2222222222222222,\"#7201a8\"],[0.3333333333333333,\"#9c179e\"],[0.4444444444444444,\"#bd3786\"],[0.5555555555555556,\"#d8576b\"],[0.6666666666666666,\"#ed7953\"],[0.7777777777777778,\"#fb9f3a\"],[0.8888888888888888,\"#fdca26\"],[1.0,\"#f0f921\"]]}],\"mesh3d\":[{\"type\":\"mesh3d\",\"colorbar\":{\"outlinewidth\":0,\"ticks\":\"\"}}],\"scatter\":[{\"fillpattern\":{\"fillmode\":\"overlay\",\"size\":10,\"solidity\":0.2},\"type\":\"scatter\"}],\"parcoords\":[{\"type\":\"parcoords\",\"line\":{\"colorbar\":{\"outlinewidth\":0,\"ticks\":\"\"}}}],\"scatterpolargl\":[{\"type\":\"scatterpolargl\",\"marker\":{\"colorbar\":{\"outlinewidth\":0,\"ticks\":\"\"}}}],\"bar\":[{\"error_x\":{\"color\":\"#2a3f5f\"},\"error_y\":{\"color\":\"#2a3f5f\"},\"marker\":{\"line\":{\"color\":\"#E5ECF6\",\"width\":0.5},\"pattern\":{\"fillmode\":\"overlay\",\"size\":10,\"solidity\":0.2}},\"type\":\"bar\"}],\"scattergeo\":[{\"type\":\"scattergeo\",\"marker\":{\"colorbar\":{\"outlinewidth\":0,\"ticks\":\"\"}}}],\"scatterpolar\":[{\"type\":\"scatterpolar\",\"marker\":{\"colorbar\":{\"outlinewidth\":0,\"ticks\":\"\"}}}],\"histogram\":[{\"marker\":{\"pattern\":{\"fillmode\":\"overlay\",\"size\":10,\"solidity\":0.2}},\"type\":\"histogram\"}],\"scattergl\":[{\"type\":\"scattergl\",\"marker\":{\"colorbar\":{\"outlinewidth\":0,\"ticks\":\"\"}}}],\"scatter3d\":[{\"type\":\"scatter3d\",\"line\":{\"colorbar\":{\"outlinewidth\":0,\"ticks\":\"\"}},\"marker\":{\"colorbar\":{\"outlinewidth\":0,\"ticks\":\"\"}}}],\"scattermapbox\":[{\"type\":\"scattermapbox\",\"marker\":{\"colorbar\":{\"outlinewidth\":0,\"ticks\":\"\"}}}],\"scatterternary\":[{\"type\":\"scatterternary\",\"marker\":{\"colorbar\":{\"outlinewidth\":0,\"ticks\":\"\"}}}],\"scattercarpet\":[{\"type\":\"scattercarpet\",\"marker\":{\"colorbar\":{\"outlinewidth\":0,\"ticks\":\"\"}}}],\"carpet\":[{\"aaxis\":{\"endlinecolor\":\"#2a3f5f\",\"gridcolor\":\"white\",\"linecolor\":\"white\",\"minorgridcolor\":\"white\",\"startlinecolor\":\"#2a3f5f\"},\"baxis\":{\"endlinecolor\":\"#2a3f5f\",\"gridcolor\":\"white\",\"linecolor\":\"white\",\"minorgridcolor\":\"white\",\"startlinecolor\":\"#2a3f5f\"},\"type\":\"carpet\"}],\"table\":[{\"cells\":{\"fill\":{\"color\":\"#EBF0F8\"},\"line\":{\"color\":\"white\"}},\"header\":{\"fill\":{\"color\":\"#C8D4E3\"},\"line\":{\"color\":\"white\"}},\"type\":\"table\"}],\"barpolar\":[{\"marker\":{\"line\":{\"color\":\"#E5ECF6\",\"width\":0.5},\"pattern\":{\"fillmode\":\"overlay\",\"size\":10,\"solidity\":0.2}},\"type\":\"barpolar\"}],\"pie\":[{\"automargin\":true,\"type\":\"pie\"}]},\"layout\":{\"autotypenumbers\":\"strict\",\"colorway\":[\"#636efa\",\"#EF553B\",\"#00cc96\",\"#ab63fa\",\"#FFA15A\",\"#19d3f3\",\"#FF6692\",\"#B6E880\",\"#FF97FF\",\"#FECB52\"],\"font\":{\"color\":\"#2a3f5f\"},\"hovermode\":\"closest\",\"hoverlabel\":{\"align\":\"left\"},\"paper_bgcolor\":\"white\",\"plot_bgcolor\":\"#E5ECF6\",\"polar\":{\"bgcolor\":\"#E5ECF6\",\"angularaxis\":{\"gridcolor\":\"white\",\"linecolor\":\"white\",\"ticks\":\"\"},\"radialaxis\":{\"gridcolor\":\"white\",\"linecolor\":\"white\",\"ticks\":\"\"}},\"ternary\":{\"bgcolor\":\"#E5ECF6\",\"aaxis\":{\"gridcolor\":\"white\",\"linecolor\":\"white\",\"ticks\":\"\"},\"baxis\":{\"gridcolor\":\"white\",\"linecolor\":\"white\",\"ticks\":\"\"},\"caxis\":{\"gridcolor\":\"white\",\"linecolor\":\"white\",\"ticks\":\"\"}},\"coloraxis\":{\"colorbar\":{\"outlinewidth\":0,\"ticks\":\"\"}},\"colorscale\":{\"sequential\":[[0.0,\"#0d0887\"],[0.1111111111111111,\"#46039f\"],[0.2222222222222222,\"#7201a8\"],[0.3333333333333333,\"#9c179e\"],[0.4444444444444444,\"#bd3786\"],[0.5555555555555556,\"#d8576b\"],[0.6666666666666666,\"#ed7953\"],[0.7777777777777778,\"#fb9f3a\"],[0.8888888888888888,\"#fdca26\"],[1.0,\"#f0f921\"]],\"sequentialminus\":[[0.0,\"#0d0887\"],[0.1111111111111111,\"#46039f\"],[0.2222222222222222,\"#7201a8\"],[0.3333333333333333,\"#9c179e\"],[0.4444444444444444,\"#bd3786\"],[0.5555555555555556,\"#d8576b\"],[0.6666666666666666,\"#ed7953\"],[0.7777777777777778,\"#fb9f3a\"],[0.8888888888888888,\"#fdca26\"],[1.0,\"#f0f921\"]],\"diverging\":[[0,\"#8e0152\"],[0.1,\"#c51b7d\"],[0.2,\"#de77ae\"],[0.3,\"#f1b6da\"],[0.4,\"#fde0ef\"],[0.5,\"#f7f7f7\"],[0.6,\"#e6f5d0\"],[0.7,\"#b8e186\"],[0.8,\"#7fbc41\"],[0.9,\"#4d9221\"],[1,\"#276419\"]]},\"xaxis\":{\"gridcolor\":\"white\",\"linecolor\":\"white\",\"ticks\":\"\",\"title\":{\"standoff\":15},\"zerolinecolor\":\"white\",\"automargin\":true,\"zerolinewidth\":2},\"yaxis\":{\"gridcolor\":\"white\",\"linecolor\":\"white\",\"ticks\":\"\",\"title\":{\"standoff\":15},\"zerolinecolor\":\"white\",\"automargin\":true,\"zerolinewidth\":2},\"scene\":{\"xaxis\":{\"backgroundcolor\":\"#E5ECF6\",\"gridcolor\":\"white\",\"linecolor\":\"white\",\"showbackground\":true,\"ticks\":\"\",\"zerolinecolor\":\"white\",\"gridwidth\":2},\"yaxis\":{\"backgroundcolor\":\"#E5ECF6\",\"gridcolor\":\"white\",\"linecolor\":\"white\",\"showbackground\":true,\"ticks\":\"\",\"zerolinecolor\":\"white\",\"gridwidth\":2},\"zaxis\":{\"backgroundcolor\":\"#E5ECF6\",\"gridcolor\":\"white\",\"linecolor\":\"white\",\"showbackground\":true,\"ticks\":\"\",\"zerolinecolor\":\"white\",\"gridwidth\":2}},\"shapedefaults\":{\"line\":{\"color\":\"#2a3f5f\"}},\"annotationdefaults\":{\"arrowcolor\":\"#2a3f5f\",\"arrowhead\":0,\"arrowwidth\":1},\"geo\":{\"bgcolor\":\"white\",\"landcolor\":\"#E5ECF6\",\"subunitcolor\":\"white\",\"showland\":true,\"showlakes\":true,\"lakecolor\":\"white\"},\"title\":{\"x\":0.05},\"mapbox\":{\"style\":\"light\"}}},\"xaxis\":{\"anchor\":\"y\",\"domain\":[0.0,1.0],\"title\":{\"text\":\"index\"}},\"yaxis\":{\"anchor\":\"x\",\"domain\":[0.0,1.0],\"title\":{\"text\":\"Count\"}},\"legend\":{\"tracegroupgap\":0},\"title\":{\"text\":\"Top 20 Trigrams\"},\"barmode\":\"relative\"},                        {\"responsive\": true}                    ).then(function(){\n",
       "                            \n",
       "var gd = document.getElementById('2794b780-0578-4dca-8698-2c212e3b5283');\n",
       "var x = new MutationObserver(function (mutations, observer) {{\n",
       "        var display = window.getComputedStyle(gd).display;\n",
       "        if (!display || display === 'none') {{\n",
       "            console.log([gd, 'removed!']);\n",
       "            Plotly.purge(gd);\n",
       "            observer.disconnect();\n",
       "        }}\n",
       "}});\n",
       "\n",
       "// Listen for the removal of the full notebook cells\n",
       "var notebookContainer = gd.closest('#notebook-container');\n",
       "if (notebookContainer) {{\n",
       "    x.observe(notebookContainer, {childList: true});\n",
       "}}\n",
       "\n",
       "// Listen for the clearing of the current output cell\n",
       "var outputEl = gd.closest('.output');\n",
       "if (outputEl) {{\n",
       "    x.observe(outputEl, {childList: true});\n",
       "}}\n",
       "\n",
       "                        })                };                });            </script>        </div>"
      ]
     },
     "metadata": {},
     "output_type": "display_data"
    }
   ],
   "source": [
    "import plotly.express as px\n",
    "from sklearn.feature_extraction.text import CountVectorizer\n",
    "\n",
    "# Use data from Sheet1\n",
    "file_path = 'Abhiram_paytm.xlsx'  # Update this with your CSV file path\n",
    "df = pd.read_excel(file_path)\n",
    "\n",
    "# Basic EDA\n",
    "print(\"Dataset Head:\")\n",
    "print(df.head())\n",
    "\n",
    "print(\"\\nMissing Values:\")\n",
    "print(df.isnull().sum())\n",
    "\n",
    "# Add review length and word count\n",
    "df['review_length'] = df['review'].apply(len)\n",
    "df['word_count'] = df['review'].apply(lambda x: len(x.split()))\n",
    "\n",
    "# Interactive scatter plot for review length vs word count\n",
    "fig = px.scatter(\n",
    "    df, \n",
    "    x='review_length', \n",
    "    y='word_count', \n",
    "    color='Label',\n",
    "    title='Review Length vs Word Count',\n",
    "    labels={'review_length': 'Review Length', 'word_count': 'Word Count'},\n",
    "    hover_data=['review']\n",
    ")\n",
    "fig.show()\n",
    "\n",
    "# Interactive histogram for review lengths\n",
    "fig_length = px.histogram(\n",
    "    df, \n",
    "    x='review_length', \n",
    "    nbins=30, \n",
    "    color='Label',\n",
    "    title='Distribution of Review Lengths',\n",
    "    labels={'review_length': 'Review Length'}\n",
    ")\n",
    "fig_length.show()\n",
    "\n",
    "# Interactive histogram for word counts\n",
    "fig_word_count = px.histogram(\n",
    "    df, \n",
    "    x='word_count', \n",
    "    nbins=30, \n",
    "    color='Label',\n",
    "    title='Distribution of Word Counts',\n",
    "    labels={'word_count': 'Word Count'}\n",
    ")\n",
    "fig_word_count.show()\n",
    "\n",
    "# N-gram analysis function\n",
    "def get_ngrams(comments, n=2, top_n=20):\n",
    "    vectorizer = CountVectorizer(ngram_range=(n, n), stop_words='english')\n",
    "    ngrams = vectorizer.fit_transform(comments)\n",
    "    ngram_counts = ngrams.sum(axis=0)\n",
    "    ngram_features = vectorizer.get_feature_names_out()\n",
    "    \n",
    "    # Create a DataFrame of n-grams and their counts\n",
    "    ngram_df = pd.DataFrame(ngram_counts.A1, index=ngram_features, columns=['count'])\n",
    "    return ngram_df.sort_values(by='count', ascending=False).head(top_n)\n",
    "\n",
    "# Generate and display bigrams\n",
    "reviews = df['review'].dropna()\n",
    "bigrams = get_ngrams(reviews, n=2, top_n=20)  # Get top 20 bigrams\n",
    "\n",
    "print(\"\\nTop 20 Bigrams:\")\n",
    "print(bigrams)\n",
    "\n",
    "# Bar plot for bigrams\n",
    "fig_bigrams = px.bar(\n",
    "    bigrams, \n",
    "    x=bigrams.index, \n",
    "    y='count',\n",
    "    title='Top 20 Bigrams',\n",
    "    labels={'x': 'Bigrams', 'count': 'Count'}\n",
    ")\n",
    "fig_bigrams.show()\n",
    "\n",
    "# Generate and display trigrams\n",
    "trigrams = get_ngrams(reviews, n=3, top_n=20)  # Get top 20 trigrams\n",
    "\n",
    "print(\"\\nTop 20 Trigrams:\")\n",
    "print(trigrams)\n",
    "\n",
    "# Bar plot for trigrams\n",
    "fig_trigrams = px.bar(\n",
    "    trigrams, \n",
    "    x=trigrams.index, \n",
    "    y='count',\n",
    "    title='Top 20 Trigrams',\n",
    "    labels={'x': 'Trigrams', 'count': 'Count'}\n",
    ")\n",
    "fig_trigrams.show()\n"
   ]
  },
  {
   "cell_type": "code",
   "execution_count": 16,
   "id": "1557632e-ff2e-427f-81a8-a6e2693de306",
   "metadata": {},
   "outputs": [
    {
     "name": "stdout",
     "output_type": "stream",
     "text": [
      "Requirement already satisfied: pandas in c:\\users\\venka\\anaconda3\\lib\\site-packages (2.2.2)\n",
      "Requirement already satisfied: nltk in c:\\users\\venka\\anaconda3\\lib\\site-packages (3.8.1)\n",
      "Requirement already satisfied: matplotlib in c:\\users\\venka\\anaconda3\\lib\\site-packages (3.8.4)\n",
      "Requirement already satisfied: openpyxl in c:\\users\\venka\\anaconda3\\lib\\site-packages (3.1.2)\n",
      "Requirement already satisfied: numpy>=1.26.0 in c:\\users\\venka\\anaconda3\\lib\\site-packages (from pandas) (1.26.4)\n",
      "Requirement already satisfied: python-dateutil>=2.8.2 in c:\\users\\venka\\anaconda3\\lib\\site-packages (from pandas) (2.9.0.post0)\n",
      "Requirement already satisfied: pytz>=2020.1 in c:\\users\\venka\\anaconda3\\lib\\site-packages (from pandas) (2024.1)\n",
      "Requirement already satisfied: tzdata>=2022.7 in c:\\users\\venka\\anaconda3\\lib\\site-packages (from pandas) (2023.3)\n",
      "Requirement already satisfied: click in c:\\users\\venka\\anaconda3\\lib\\site-packages (from nltk) (8.1.7)\n",
      "Requirement already satisfied: joblib in c:\\users\\venka\\anaconda3\\lib\\site-packages (from nltk) (1.4.2)\n",
      "Requirement already satisfied: regex>=2021.8.3 in c:\\users\\venka\\anaconda3\\lib\\site-packages (from nltk) (2023.10.3)\n",
      "Requirement already satisfied: tqdm in c:\\users\\venka\\anaconda3\\lib\\site-packages (from nltk) (4.66.4)\n",
      "Requirement already satisfied: contourpy>=1.0.1 in c:\\users\\venka\\anaconda3\\lib\\site-packages (from matplotlib) (1.2.0)\n",
      "Requirement already satisfied: cycler>=0.10 in c:\\users\\venka\\anaconda3\\lib\\site-packages (from matplotlib) (0.11.0)\n",
      "Requirement already satisfied: fonttools>=4.22.0 in c:\\users\\venka\\anaconda3\\lib\\site-packages (from matplotlib) (4.51.0)\n",
      "Requirement already satisfied: kiwisolver>=1.3.1 in c:\\users\\venka\\anaconda3\\lib\\site-packages (from matplotlib) (1.4.4)\n",
      "Requirement already satisfied: packaging>=20.0 in c:\\users\\venka\\anaconda3\\lib\\site-packages (from matplotlib) (23.2)\n",
      "Requirement already satisfied: pillow>=8 in c:\\users\\venka\\anaconda3\\lib\\site-packages (from matplotlib) (10.3.0)\n",
      "Requirement already satisfied: pyparsing>=2.3.1 in c:\\users\\venka\\anaconda3\\lib\\site-packages (from matplotlib) (3.0.9)\n",
      "Requirement already satisfied: et-xmlfile in c:\\users\\venka\\anaconda3\\lib\\site-packages (from openpyxl) (1.1.0)\n",
      "Requirement already satisfied: six>=1.5 in c:\\users\\venka\\anaconda3\\lib\\site-packages (from python-dateutil>=2.8.2->pandas) (1.16.0)\n",
      "Requirement already satisfied: colorama in c:\\users\\venka\\anaconda3\\lib\\site-packages (from click->nltk) (0.4.6)\n",
      "Note: you may need to restart the kernel to use updated packages.\n"
     ]
    }
   ],
   "source": [
    "pip install pandas nltk matplotlib openpyxl\n"
   ]
  },
  {
   "cell_type": "code",
   "execution_count": 18,
   "id": "0bdf4b9a-bc7f-4daf-8937-5b882d5bbca9",
   "metadata": {},
   "outputs": [
    {
     "name": "stderr",
     "output_type": "stream",
     "text": [
      "[nltk_data] Downloading package vader_lexicon to\n",
      "[nltk_data]     C:\\Users\\venka\\AppData\\Roaming\\nltk_data...\n",
      "[nltk_data]   Package vader_lexicon is already up-to-date!\n"
     ]
    },
    {
     "data": {
      "text/plain": [
       "True"
      ]
     },
     "execution_count": 18,
     "metadata": {},
     "output_type": "execute_result"
    }
   ],
   "source": [
    "import nltk\n",
    "nltk.download('vader_lexicon')\n"
   ]
  },
  {
   "cell_type": "code",
   "execution_count": 20,
   "id": "7cdad48f-94d4-4fb2-b83a-96c55a6527af",
   "metadata": {},
   "outputs": [
    {
     "data": {
      "image/png": "[encoded data removed]",
      "text/plain": [
       "<Figure size 800x600 with 1 Axes>"
      ]
     },
     "metadata": {},
     "output_type": "display_data"
    }
   ],
   "source": [
    "import pandas as pd\n",
    "from nltk.sentiment.vader import SentimentIntensityAnalyzer\n",
    "import matplotlib.pyplot as plt\n",
    "\n",
    "# Load the dataset from Sheet1 of the Excel file\n",
    "file_path = 'Abhiram_paytm.xlsx'  # Update this with your CSV file path\n",
    "df = pd.read_excel(file_path)\n",
    "\n",
    "# Initialize the SentimentIntensityAnalyzer\n",
    "sid = SentimentIntensityAnalyzer()\n",
    "\n",
    "# Step 2: Perform sentiment analysis on the 'review' column\n",
    "df['sentiment_scores'] = df['review'].apply(lambda x: sid.polarity_scores(x))\n",
    "\n",
    "# Extract individual sentiment scores\n",
    "df['positive'] = df['sentiment_scores'].apply(lambda x: x['pos'])\n",
    "df['negative'] = df['sentiment_scores'].apply(lambda x: x['neg'])\n",
    "df['neutral'] = df['sentiment_scores'].apply(lambda x: x['neu'])\n",
    "\n",
    "# Step 3: Sum sentiment scores for each emotion\n",
    "emotion_totals = {\n",
    "    'positive': df['positive'].sum(),\n",
    "    'negative': df['negative'].sum(),\n",
    "    'neutral': df['neutral'].sum()\n",
    "}\n",
    "\n",
    "# Convert to data frame for plotting\n",
    "emotion_df = pd.DataFrame(list(emotion_totals.items()), columns=['emotion', 'score'])\n",
    "\n",
    "# Step 4: Create a histogram using matplotlib\n",
    "plt.figure(figsize=(8, 6))\n",
    "plt.bar(emotion_df['emotion'], emotion_df['score'], color='steelblue')\n",
    "plt.title(\"Histogram of Emotions\")\n",
    "plt.xlabel(\"Emotions\")\n",
    "plt.ylabel(\"Scores\")\n",
    "plt.grid(axis='y', linestyle='--', alpha=0.5)\n",
    "plt.show()\n",
    "\n",
    "# Optional: Export the sentiment scores to a CSV file\n",
    "df[['review', 'positive', 'negative', 'neutral']].to_csv('sentiment_scores.csv', index=False)\n"
   ]
  },
  {
   "cell_type": "code",
   "execution_count": null,
   "id": "a84f3000-4048-4b95-bc70-be92ca7f1458",
   "metadata": {},
   "outputs": [],
   "source": []
  }
 ],
 "metadata": {
  "kernelspec": {
   "display_name": "Python 3 (ipykernel)",
   "language": "python",
   "name": "python3"
  },
  "language_info": {
   "codemirror_mode": {
    "name": "ipython",
    "version": 3
   },
   "file_extension": ".py",
   "mimetype": "text/x-python",
   "name": "python",
   "nbconvert_exporter": "python",
   "pygments_lexer": "ipython3",
   "version": "3.12.4"
  }
 },
 "nbformat": 4,
 "nbformat_minor": 5
}
